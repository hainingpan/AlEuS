{
 "cells": [
  {
   "cell_type": "code",
   "execution_count": 1,
   "metadata": {},
   "outputs": [],
   "source": [
    "import kwant\n",
    "import numpy as np\n",
    "import matplotlib.pyplot as plt\n",
    "import scipy.sparse.linalg as sla\n",
    "from scipy.sparse import csc_matrix\n",
    "import time\n",
    "import warnings"
   ]
  },
  {
   "cell_type": "code",
   "execution_count": 42,
   "metadata": {},
   "outputs": [],
   "source": [
    "class Params:\n",
    "    '''\n",
    "    example: params=Params(g=1,ED=433)\n",
    "    '''\n",
    "    def __init__(self,\n",
    "        a=np.array([1e-10,1e-10,1e-10]), # lattice constant in m\n",
    "        L=np.array([25e-10,25e-10,50e-10]),   # System size in m\n",
    "        m=1,    # m_e, where m_e is 0.511 MeV\n",
    "        E_F=11, # Chemical potential of Al in eV\n",
    "        E_z=0,  # Zeeman field in eV\n",
    "        g=10,   # Coupling strength in eV\n",
    "        E_D=433,    # Debye temperature in K\n",
    "        T=0,    # Temperature in eV      \n",
    "        variance=0,     # variance of disorder in eV\n",
    "        periodic_boundary_condition=1 # 1: periodic boundary condition\n",
    "        ):\n",
    "        self.a=np.array(a)*5.076e6    # eV^-1\n",
    "        self.L=np.array(L)*5.076e6    # eV^-1\n",
    "        self.m=m*0.511e6    # eV\n",
    "        self.E_F=E_F        # eV\n",
    "        self.E_z=E_z        # eV\n",
    "        self.g=g            # eV\n",
    "        self.E_D=E_D*8.617333262e-5       # eV\n",
    "        self.T=T            # eV\n",
    "        self.variance=variance  # eV\n",
    "        self.periodic_boundary_condition=periodic_boundary_condition\n",
    "\n",
    "\n",
    "        self.N=np.rint(self.L/self.a).astype(int)    # Number of grids in the real-sapce mesh\n",
    "        self.s0=np.array([[1,0],[0,1]])\n",
    "        self.sx=np.array([[0,1],[1,0]])\n",
    "        self.sy=np.array([[0,-1j],[1j,0]])\n",
    "        self.sz=np.array([[1,0],[0,-1]])\n",
    "        self.b=2*np.pi/self.a    # reciprocal unit vector in eV\n",
    "        self.t=1/(2*self.m*self.a*self.a)    # NN hopping in eV\n",
    "        self.disorder=self.variance*np.random.randn(self.N[0],self.N[1])    # disorder profile\n",
    "        self.Delta=np.zeros((self.N[0],self.N[1]))  \n",
    "        self.wfall=[[] for _ in range(self.N[2])]\n",
    "        self.energyall=[[] for _ in range(self.N[2])]    \n",
    "\n",
    "\n",
    "    def energy_kz(self):\n",
    "        kindex=np.arange(self.N[2])\n",
    "        uz=(2*kindex-self.N[2]+1)/(2*self.N[2])\n",
    "        self.kzlist=uz*self.b[2]    # eV^-1\n",
    "        self.energylist=2*self.t[2]*(1-np.cos(self.a[2]*self.kzlist))   # eV\n",
    "        return self.energylist\n",
    "    \n",
    "    def estimate_k(self):\n",
    "        k_request=np.zeros(self.N[2])\n",
    "        for kzindex in range(self.N[2]):\n",
    "            kxindex=np.arange(self.N[0])\n",
    "            kyindex=np.arange(self.N[1])        \n",
    "            ux=(2*kxindex-self.N[0]+1)/(2*self.N[0])\n",
    "            uy=(2*kyindex-self.N[1]+1)/(2*self.N[1])\n",
    "            kxlist=ux*self.b[0]\n",
    "            kylist=uy*self.b[1]\n",
    "            kz=self.kzlist[kzindex]\n",
    "            [kxgrid,kygrid]=np.meshgrid(kxlist,kylist)\n",
    "            Emesh=2*self.t[0]*(1-np.cos(kxgrid*self.a[0]))\\\n",
    "                +2*self.t[1]*(1-np.cos(kygrid*self.a[1]))\\\n",
    "                +2*self.t[2]*(1-np.cos(kz*self.a[2]))-self.E_F\n",
    "            k_request[kzindex]=4*np.count_nonzero((Emesh<self.E_D) & (Emesh>-self.E_D))\n",
    "        self.k_request=k_request.astype(int)\n",
    "        return self.k_request\n",
    "    \n",
    "    def Fermi_dist(self):\n",
    "        self.F_D=[1./(np.exp(np.array(energy)/self.T)+1) if len(energy)>0 else [] for energy in self.energyall]\n",
    "        return self.F_D\n"
   ]
  },
  {
   "cell_type": "code",
   "execution_count": 43,
   "metadata": {},
   "outputs": [],
   "source": [
    "def make_bare_Al(param,kzindex):\n",
    "    lat=kwant.lattice.Monatomic(((param.a[0],0),(0,param.a[1])))\n",
    "    syst= kwant.Builder()\n",
    "    for x in range(param.N[0]):\n",
    "        for y in range(param.N[1]):\n",
    "            syst[lat(x,y)]=(2*param.t[0]+2*param.t[1]+param.energylist[kzindex]-param.E_F+param.disorder[x,y])*np.kron(param.sz,param.s0)+(param.Delta[x,y])*np.kron(param.sy,param.sy)\n",
    "    syst[kwant.builder.HoppingKind((1, 0), lat, lat)]=-param.t[0]*np.kron(param.sz,param.s0)\n",
    "    syst[kwant.builder.HoppingKind((0, 1), lat, lat)]=-param.t[1]*np.kron(param.sz,param.s0)\n",
    "    syst[((lat(0,j),lat(param.N[0]-1,j)) for j in range(param.N[1]))]=-param.t[0]*np.kron(param.sz,param.s0)*param.periodic_boundary_condition\n",
    "    syst[((lat(j,0),lat(j,param.N[1]-1)) for j in range(param.N[0]))]=-param.t[1]*np.kron(param.sz,param.s0)*param.periodic_boundary_condition\n",
    "    return syst.finalized()\n"
   ]
  },
  {
   "cell_type": "code",
   "execution_count": 96,
   "metadata": {},
   "outputs": [],
   "source": [
    "def energyMF(param):\n",
    "    '''\n",
    "    diagonlization of the mean-field Hamiltonian\n",
    "    '''\n",
    "    start_time=time.time()\n",
    "    k_request_nz,=np.where(param.k_request[:param.N[2]//2]!=0)   # take out the nonzero index\n",
    "    for kindex in k_request_nz:\n",
    "        # kindex=k_request_nz[k_request_nz_index]        \n",
    "        k_req=param.k_request[kindex]\n",
    "        k_req=np.max([40,2*(1.1*k_req//2).astype(int)])\n",
    "        syst=make_bare_Al(param,kindex)\n",
    "        H_bdg=syst.hamiltonian_submatrix()\n",
    "        H_bdg=csc_matrix(np.real((H_bdg+H_bdg.T.conj())/2))\n",
    "        if len(param.energyall[kindex])>0:\n",
    "            val,vec=sla.eigsh(H_bdg,k=k_req,sigma=0,v0=param.wfall[kindex][:,0])\n",
    "        else:\n",
    "            val,vec=sla.eigsh(H_bdg,k=k_req,sigma=0)\n",
    "        \n",
    "        print('kindex={},min(val)={:e},max(val)={:e},'.format(kindex,np.min(np.abs(val)),np.max(np.abs(val))))\n",
    "\n",
    "        # restart with 2*k_req\n",
    "        while np.max(val)<param.E_D:\n",
    "            print('k ({}) is too small, restart with k ({})'.format(k_req,k_req*2))\n",
    "            k_req=k_req*2\n",
    "            if len(param.energyall[kindex])>0:\n",
    "                val,vec=sla.eigsh(H_bdg,k=k_req,sigma=0,v0=param.wfall[kindex][:,0])\n",
    "            else:\n",
    "                val,vec=sla.eigsh(H_bdg,k=k_req,sigma=0)\n",
    "        \n",
    "        debyeindex=(np.abs(val)<=param.E_D)\n",
    "        val=val[debyeindex]\n",
    "        vec=vec[:,debyeindex]\n",
    "\n",
    "        sortindex=np.argsort(val)\n",
    "        val=val[sortindex]\n",
    "        vec=vec[:,sortindex]\n",
    "        print('len(val)={}'.format(val.shape[0]))\n",
    "\n",
    "        param.energyall[kindex]=val\n",
    "        param.energyall[param.N[2]-kindex-1]=val\n",
    "        param.wfall[kindex]=vec\n",
    "        param.wfall[param.N[2]-kindex-1]=vec\n",
    "    print('Elapsed time is: {:.1f}s'.format(time.time()-start_time))"
   ]
  },
  {
   "cell_type": "code",
   "execution_count": 45,
   "metadata": {},
   "outputs": [],
   "source": [
    "def ave(param):\n",
    "    '''\n",
    "    Taking average of 1/2 1/Nz*sum_kz c_{r,-k,down} c_{r,k,up}\n",
    "    '''\n",
    "    param.ave=np.zeros((param.N[0]*param.N[1]))\n",
    "    param.Fermi_dist()    \n",
    "    for kindex in range(param.N[2]):\n",
    "        if len(param.energyall[kindex])>0:\n",
    "            wf=param.wfall[kindex].reshape((param.N[0]*param.N[1],4,-1))\n",
    "            param.ave+=(wf[:,3,:].conj()*wf[:,0,:]-wf[:,2,:].conj()*wf[:,1,:])@param.F_D[kindex]\n",
    "    \n",
    "    param.ave=param.ave/(2*param.N[2])\n",
    "    param.Delta=param.g*param.ave.reshape((param.N[0],param.N[1]))"
   ]
  },
  {
   "cell_type": "code",
   "execution_count": 46,
   "metadata": {},
   "outputs": [],
   "source": [
    "def iter(initial,param):\n",
    "    '''\n",
    "    Iterations to find self-consistent solution\n",
    "    '''\n",
    "    param.Delta=initial*np.ones((param.N[0],param.N[1]))\n",
    "    Deltalist=[param.Delta]\n",
    "    energyMF(param)    \n",
    "    for i in range(1000):\n",
    "        ave(param)\n",
    "        print('-'*10+'Iteration: {}, Average Delta: {:e} eV'.format(i,param.Delta.mean())+'-'*10)\n",
    "        Deltalist+=[param.Delta]\n",
    "        if np.abs(Deltalist[i].mean()-Deltalist[i-1].mean())<1e-8:\n",
    "            break\n",
    "        energyMF(param)"
   ]
  },
  {
   "cell_type": "markdown",
   "metadata": {},
   "source": [
    "# bilayer"
   ]
  },
  {
   "cell_type": "code",
   "execution_count": 107,
   "metadata": {},
   "outputs": [
    {
     "data": {
      "text/plain": "array([[ 0.+0.j,  0.-0.j,  0.-0.j, -1.+0.j],\n       [ 0.+0.j,  0.+0.j,  1.-0.j,  0.-0.j],\n       [ 0.+0.j,  1.-0.j,  0.+0.j,  0.-0.j],\n       [-1.+0.j,  0.+0.j,  0.+0.j,  0.+0.j]])"
     },
     "execution_count": 107,
     "metadata": {},
     "output_type": "execute_result"
    }
   ],
   "source": [
    "np.kron(params.sy,params.sy)"
   ]
  },
  {
   "cell_type": "code",
   "execution_count": 108,
   "metadata": {},
   "outputs": [],
   "source": [
    "zz={}"
   ]
  },
  {
   "cell_type": "code",
   "execution_count": 110,
   "metadata": {},
   "outputs": [],
   "source": [
    "zz[1]=1"
   ]
  },
  {
   "cell_type": "code",
   "execution_count": 115,
   "metadata": {},
   "outputs": [
    {
     "data": {
      "text/plain": "dict_keys([1, 'a', (1, 2)])"
     },
     "execution_count": 115,
     "metadata": {},
     "output_type": "execute_result"
    }
   ],
   "source": [
    "zz.keys()"
   ]
  },
  {
   "cell_type": "code",
   "execution_count": 112,
   "metadata": {},
   "outputs": [],
   "source": [
    "zz['a']='a'"
   ]
  },
  {
   "cell_type": "code",
   "execution_count": 114,
   "metadata": {},
   "outputs": [],
   "source": [
    "zz[(1,2)]='b'"
   ]
  },
  {
   "cell_type": "code",
   "execution_count": null,
   "metadata": {},
   "outputs": [],
   "source": []
  },
  {
   "cell_type": "code",
   "execution_count": null,
   "metadata": {},
   "outputs": [],
   "source": []
  },
  {
   "cell_type": "code",
   "execution_count": 120,
   "metadata": {},
   "outputs": [],
   "source": [
    "class test:\n",
    "    def __init__(self,U_D):\n",
    "        self.U_D=U_D\n",
    "        self.V={}\n",
    "\n",
    "    def get_V(self,pos):\n",
    "        try:\n",
    "            return self.V[pos]\n",
    "        except:\n",
    "            self.V[pos]=np.random.uniform(-self.U_D,self.U_D)\n",
    "            return self.V[pos]\n",
    "\n",
    "    \n",
    "\n"
   ]
  },
  {
   "cell_type": "code",
   "execution_count": 121,
   "metadata": {},
   "outputs": [],
   "source": [
    "tt=test(1)"
   ]
  },
  {
   "cell_type": "code",
   "execution_count": 124,
   "metadata": {},
   "outputs": [
    {
     "data": {
      "text/plain": "{(0, 0): 0.6276805517926551}"
     },
     "execution_count": 124,
     "metadata": {},
     "output_type": "execute_result"
    }
   ],
   "source": [
    "tt.V"
   ]
  },
  {
   "cell_type": "code",
   "execution_count": 126,
   "metadata": {},
   "outputs": [
    {
     "data": {
      "text/plain": "0.6276805517926551"
     },
     "execution_count": 126,
     "metadata": {},
     "output_type": "execute_result"
    }
   ],
   "source": [
    "tt.get_V((0,0))"
   ]
  },
  {
   "cell_type": "code",
   "execution_count": null,
   "metadata": {},
   "outputs": [],
   "source": []
  },
  {
   "cell_type": "code",
   "execution_count": 31,
   "metadata": {},
   "outputs": [
    {
     "data": {
      "text/plain": "array([  0.,   0., -50.])"
     },
     "execution_count": 31,
     "metadata": {},
     "output_type": "execute_result"
    }
   ],
   "source": [
    "np.rint(params.L_Al/params.a)-100"
   ]
  },
  {
   "cell_type": "code",
   "execution_count": 144,
   "metadata": {},
   "outputs": [],
   "source": [
    "class Params:\n",
    "    '''\n",
    "    generate bilayer hetereostructure\n",
    "    example: params=Params(g=1,ED=433)\n",
    "    \n",
    "    '''\n",
    "    def __init__(self,\n",
    "        a=np.array([0.1,0.1,0.1]), # lattice constant (nm)\n",
    "        L_Al=np.array([10,10,5]),   # size of Al (nm)\n",
    "        L_FM=np.array([2,10,5]), # size of FM (nm)\n",
    "        m_Al=1,    # effective mass in Al in m_e, where m_e is 0.511 MeV\n",
    "        m_FM=0.3,   # effective mass in FM in  m_e, where m_e is 0.511 MeV\n",
    "        EF_Al=11, # Chemical potential of Al in eV\n",
    "        EF_FM=-0.5,\n",
    "        h_exc=0,  # exchange field in eV, acts like Zeeman field\n",
    "        g=5.6,   # Coupling strength in eV\n",
    "        E_D=1,    # Debye temperature in 433 K\n",
    "        T=0,    # Temperature in eV      \n",
    "        U_D=0,     # variance of disorder in eV\n",
    "        Delta_0=3.5e-4,    # the initial SC gap\n",
    "        periodic_boundary_condition=1, # 1: periodic boundary condition\n",
    "        verbose=True,   #verbose\n",
    "        store_history=False\n",
    "        ):\n",
    "        assert L_Al[1]==L_FM[1] and L_Al[2]==L_FM[2],\"The y,z dimension of Al ({},{}) not same as FM ({},{})\".format(L_Al[1],L_Al[2],L_FM[1],L_FM[2])\n",
    "        self.a=np.array(a)*1e-9*5.076e6    # eV^-1\n",
    "        self.L_Al=np.array(L_Al)*1e-9*5.076e6    # eV^-1\n",
    "        self.L_FM=np.array(L_FM)*1e-9*5.076e6   # eV^-1\n",
    "        self.m_Al=m_Al*0.511e6    # eV\n",
    "        self.m_FM=m_FM*0.511e6    # eV\n",
    "        self.EF_Al=EF_Al        # eV\n",
    "        self.EF_FM=EF_FM        # eV\n",
    "        self.h_exc=h_exc        # eV\n",
    "        self.g=g            # eV\n",
    "        self.E_D=E_D*433*8.617333262e-5       # eV\n",
    "        self.T=T            # eV\n",
    "        self.U_D=U_D  # eV\n",
    "        self.Delta_0=Delta_0    #initial value of SC gap\n",
    "        self.periodic_boundary_condition=periodic_boundary_condition\n",
    "        self.verbose=verbose\n",
    "\n",
    "\n",
    "        self.N_Al=np.rint(self.L_Al/self.a).astype(int)    # dimension of sites in Al\n",
    "        self.N_FM=np.rint(self.L_FM/self.a).astype(int)    # dimension of sites in FM\n",
    "        self.s0=np.array([[1,0],[0,1]])\n",
    "        self.sx=np.array([[0,1],[1,0]])\n",
    "        self.sy=np.array([[0,-1j],[1j,0]])\n",
    "        self.sz=np.array([[1,0],[0,-1]])\n",
    "        self.b=2*np.pi/self.a    # reciprocal unit vector in eV\n",
    "        self.t_Al=1/(2*self.m_Al*self.a**2)    # NN hopping of Al in eV\n",
    "        self.t_FM=1/(2*self.m_FM*self.a**2)    # NN hopping of FM in eV\n",
    "        self.m_int=np.sqrt(self.m_Al*self.m_FM)\n",
    "        self.t_int=1/(2*self.m_int*self.a**2)    # NN hopping at the interface in eV\n",
    "\n",
    "        self.disorder={}    # generate empty dict for disorder profile\n",
    "        self.Delta={}\n",
    "        self.Delta_array=[]\n",
    "        # self.Delta=np.zeros((self.N[0],self.N[1]))  \n",
    "        # self.wfall=[[] for _ in range(self.N[2])]\n",
    "        # self.energyall=[[] for _ in range(self.N[2])]    \n",
    "        self.wfall=[]\n",
    "        self.energyall=[]\n",
    "        self.store_history=store_history\n",
    "        if store_history:\n",
    "            self.wfall_history=[]\n",
    "            self.energyall_history=[]\n",
    "\n",
    "        self.make_system()\n",
    "        self.generate_disorder()\n",
    "        self.update_Delta()\n",
    "        self.energy_kz()\n",
    "        self.estimate_eig()\n",
    "\n",
    "\n",
    "\n",
    "    def energy_kz(self):\n",
    "        kindex=np.arange(self.N_Al[2])\n",
    "        uz=(2*kindex-self.N_Al[2]+1)/(2*self.N_Al[2])\n",
    "        self.kz_list=uz*self.b[2]    # eV^-1\n",
    "        self.energy_Al=2*self.t_Al[2]*(1-np.cos(self.a[2]*self.kz_list))   # bandstructure of Al\n",
    "        self.energy_FM=2*self.t_FM[2]*(1-np.cos(self.a[2]*self.kz_list))   # bandstructure of Al\n",
    "\n",
    "    \n",
    "    def estimate_eig(self):\n",
    "        k_list={}\n",
    "        for i in range(2):\n",
    "            k_list[i]=(2*np.arange(self.N_Al[i])-self.N_Al[i]+1)/(2*self.N_Al[i])*self.b[i]\n",
    "        [kx_grid,ky_grid]=np.meshgrid(k_list[0],k_list[1])\n",
    "        self.estimate=[]\n",
    "        for kz in self.kz_list:\n",
    "            E_mesh=2*self.t_Al[0]*(1-np.cos(kx_grid*self.a[0]))+2*self.t_Al[1]*(1-np.cos(ky_grid*self.a[1]))+2*self.t_Al[2]*(1-np.cos(kz*self.a[2]))-self.EF_Al\n",
    "            self.estimate.append(4*np.count_nonzero((E_mesh<self.E_D)*(E_mesh>-self.E_D)))        \n",
    "        self.estimate=np.array(self.estimate)\n",
    "        \n",
    "    def Fermi_dist(self):\n",
    "        if self.T==0:\n",
    "            self.F_D=[np.heaviside(-energy,0) if len(energy)>0 else [] for energy in self.energyall]\n",
    "        else:\n",
    "            self.F_D=[1./(np.exp(np.array(energy)/self.T)+1) if len(energy)>0 else [] for energy in self.energyall]\n",
    "\n",
    "    def get_disorder(self,pos):\n",
    "        try:\n",
    "            return self.disorder[pos]\n",
    "        except:\n",
    "            self.disorder[pos]=np.random.uniform(-self.U_D,self.U_D)\n",
    "            return self.disorder[pos]\n",
    "\n",
    "    def generate_disorder(self):\n",
    "        if len(self.disorder)==0:\n",
    "            for site in self.system.sites:\n",
    "                self.disorder[site.pos]=np.random.uniform(-self.U_D,self.U_D)\n",
    "        else:\n",
    "            raise ValueError(\"Disorder is already generated\")\n",
    "\n",
    "    def update_Delta(self):\n",
    "        if len(self.Delta_array)==0:\n",
    "            for site in self.system.sites:\n",
    "                self.Delta[site.pos]=self.Delta_0\n",
    "        else:\n",
    "            for site_index,site in enumerate(self.system.sites):\n",
    "                self.Delta[site.pos]=self.Delta_array[site_index]\n",
    "        \n",
    "        self.Delta_mean=np.mean([delta for position,delta in self.Delta.items() if position[0]>0])\n",
    "                \n",
    "    def make_system(self):\n",
    "        def shape(pos):\n",
    "            x,y=pos\n",
    "            in_x=-self.L_FM[0]<=x<=self.L_Al[0]\n",
    "            in_y=0<=y<=self.L_Al[1]\n",
    "            return in_x and in_y\n",
    "        \n",
    "        def onsite(site,kz_index):\n",
    "            x,y=site.pos\n",
    "            if x>self.a[0]:\n",
    "                return (2*self.t_Al[0]+2*self.t_Al[1]+self.energy_Al[kz_index]-self.EF_Al+self.disorder[site.pos])*np.kron(self.sz,self.s0)+self.Delta[site.pos]*np.kron(self.sy,self.sy)\n",
    "            elif x>0:\n",
    "                return (self.t_Al[0]+self.t_int[0]+2*self.t_Al[1]+self.energy_Al[kz_index]-self.EF_Al+self.disorder[site.pos])*np.kron(self.sz,self.s0)+self.Delta[site.pos]*np.kron(self.sy,self.sy)\n",
    "            elif x>-self.a[0]:\n",
    "                return (self.t_FM[0]+self.t_int[0]+2*self.t_FM[1]+self.energy_FM[kz_index]-self.EF_FM)*np.kron(self.sz,self.s0)+self.h_exc*np.kron(self.sz,self.sz)\n",
    "            else:\n",
    "                return (2*self.t_FM[0]+2*self.t_FM[1]+self.energy_FM[kz_index]-self.EF_FM)*np.kron(self.sz,self.s0)+self.h_exc*np.kron(self.sz,self.sz)\n",
    "\n",
    "        def hopping_x(site1,site2):\n",
    "            x1,y1=site1.pos\n",
    "            x2,y2=site2.pos\n",
    "            if (x1+x2)/2>self.a[0]:\n",
    "                return -self.t_Al[0]*np.kron(self.sz,self.s0)\n",
    "            if (x1+x2)/2<0:\n",
    "                return -self.t_FM[0]*np.kron(self.sz,self.s0)\n",
    "            if 0<(x1+x2)/2<self.a[0]:\n",
    "                return -self.t_int[0]*np.kron(self.sz,self.s0)\n",
    "            raise ValueError(\"The hopping in x dimension between ({},{}) and ({},{}) is not defined\".format(x1,y1,x2,y2))\n",
    "\n",
    "\n",
    "        def hopping_y(site1,site2):\n",
    "            x1,y1=site1.pos\n",
    "            x2,y2=site2.pos\n",
    "            if (x1+x2)/2>0:\n",
    "                return -self.t_Al[1]*np.kron(self.sz,self.s0)\n",
    "            if (x1+x2)/2<self.a[0]:\n",
    "                return -self.t_FM[1]*np.kron(self.sz,self.s0)\n",
    "            raise ValueError(\"The hopping in y dimension between ({},{}) and ({},{}) is not defined\".format(x1,y1,x2,y2))\n",
    "\n",
    "\n",
    "        lat=kwant.lattice.Monatomic(((self.a[0],0),(0,self.a[1])))\n",
    "        syst=kwant.Builder()\n",
    "        syst[lat.shape(shape,(0,0))]=onsite\n",
    "        syst[kwant.builder.HoppingKind((1, 0), lat, lat)]=hopping_x\n",
    "        syst[kwant.builder.HoppingKind((0, 1), lat, lat)]=hopping_y\n",
    "        self.system=syst.finalized()\n",
    "        return self.system\n",
    "\n",
    "    def energyMF(self):\n",
    "        start_time=time.time()\n",
    "        k_req_max=np.maximum(self.estimate[:self.N_Al[2]//2],20)\n",
    "        for kz_index,k_req in enumerate(k_req_max):\n",
    "            k_req=np.max([40,2*(1.1*k_req//2).astype(int)])\n",
    "            self.make_system()\n",
    "            H_bdg=self.system.hamiltonian_submatrix(params=dict(kz_index=kz_index),sparse=True)\n",
    "            H_bdg=csc_matrix(np.real((H_bdg+H_bdg.T.conj())/2))\n",
    "            try:\n",
    "                val,vec=sla.eigsh(H_bdg,k=k_req,sigma=0,v0=self.wfall[kz_index][:,0])\n",
    "            except:\n",
    "                val,vec=sla.eigsh(H_bdg,k=k_req,sigma=0)\n",
    "\n",
    "            print('kz_index={},min(val)={:e},max(val)={:e},'.format(kz_index,np.min(np.abs(val)),np.max(np.abs(val))))\n",
    "            while np.max(val)<self.E_D:\n",
    "                print('k_req ({}) is too small, restart with k_req ({})'.format(k_req,k_req*2))\n",
    "                k_req=k_req*2\n",
    "                try:\n",
    "                    val,vec=sla.eigsh(H_bdg,k=k_req,sigma=0,v0=self.wfall[kz_index][:,0])\n",
    "                except:\n",
    "                    val,vec=sla.eigsh(H_bdg,k=k_req,sigma=0)\n",
    "\n",
    "            debyeindex=(np.abs(val)<=self.E_D)\n",
    "            val=val[debyeindex]\n",
    "            vec=vec[:,debyeindex]\n",
    "            sort_index=np.argsort(val)\n",
    "            val=val[sort_index]\n",
    "            vec=vec[:,sort_index]\n",
    "            print('len(val)={}'.format(val.shape[0]))\n",
    "\n",
    "            self.energyall.append(val)\n",
    "            self.wfall.append(vec)\n",
    "\n",
    "        if self.store_history:\n",
    "            self.energyall_history.append(self.energyall)\n",
    "            self.wfall_history.append(self.wfall)\n",
    "        print('Elapsed time is: {:.1f}s'.format(time.time()-start_time))\n",
    "\n",
    "    def ave(self):\n",
    "        self.Fermi_dist()\n",
    "        summation=[]\n",
    "        # Here only half of k_z is considered because E(kz) is even\n",
    "        for kz_index,energy in enumerate(self.energyall):\n",
    "            if len(energy)>0:\n",
    "                wf=self.wfall[kz_index].reshape((len(self.system.sites),4,-1))\n",
    "                summation.append((wf[:,3,:].conj()*wf[:,0,:]-wf[:,2,:].conj()*wf[:,1,:])@self.F_D[kz_index])\n",
    "\n",
    "        ave=np.mean(summation,0)/(2)    \n",
    "        self.Delta_array=self.g*ave\n",
    "        self.update_Delta()\n",
    "\n"
   ]
  },
  {
   "cell_type": "code",
   "execution_count": 147,
   "metadata": {},
   "outputs": [],
   "source": [
    "def run():\n",
    "    params=Params(L_Al=np.array([10,10,10])/2,L_FM=np.array([2,10,10])/2,U_D=0)\n",
    "    Delta_mean_list=[params.Delta_mean]\n",
    "    params.energyMF()\n",
    "    for i in range(1000):\n",
    "        params.ave()\n",
    "        print('-'*10+'Iteration: {}, Average Delta: {:e} eV'.format(i,params.Delta_mean)+'-'*10)\n",
    "        Delta_mean_list.append(params.Delta_mean)\n",
    "        if np.abs(Delta_mean_list[-1]-Delta_mean_list[-2])<1e-8:\n",
    "            break\n",
    "        params.energyMF()\n"
   ]
  },
  {
   "cell_type": "code",
   "execution_count": 148,
   "metadata": {},
   "outputs": [
    {
     "name": "stdout",
     "output_type": "stream",
     "text": [
      "kz_index=0,min(val)=4.204923e+00,max(val)=4.432016e+00,\n",
      "len(val)=0\n",
      "kz_index=1,min(val)=4.085379e+00,max(val)=4.312469e+00,\n",
      "len(val)=0\n",
      "kz_index=2,min(val)=3.848177e+00,max(val)=4.075260e+00,\n",
      "len(val)=0\n",
      "kz_index=3,min(val)=3.497057e+00,max(val)=3.724131e+00,\n",
      "len(val)=0\n",
      "kz_index=4,min(val)=3.037556e+00,max(val)=3.264618e+00,\n",
      "len(val)=0\n",
      "kz_index=5,min(val)=2.476922e+00,max(val)=2.703967e+00,\n",
      "len(val)=0\n",
      "kz_index=6,min(val)=1.823996e+00,max(val)=2.051021e+00,\n",
      "len(val)=0\n",
      "kz_index=7,min(val)=1.089074e+00,max(val)=1.316075e+00,\n",
      "len(val)=0\n",
      "kz_index=8,min(val)=2.837478e-01,max(val)=5.107190e-01,\n",
      "len(val)=0\n",
      "kz_index=9,min(val)=2.305496e-03,max(val)=1.023610e-01,\n",
      "len(val)=16\n",
      "kz_index=10,min(val)=1.227342e-03,max(val)=8.746880e-02,\n",
      "len(val)=16\n",
      "kz_index=11,min(val)=8.495364e-03,max(val)=9.345235e-02,\n",
      "len(val)=20\n",
      "kz_index=12,min(val)=5.450413e-03,max(val)=7.967229e-02,\n",
      "len(val)=16\n",
      "kz_index=13,min(val)=3.988160e-03,max(val)=8.630003e-02,\n",
      "len(val)=16\n",
      "kz_index=14,min(val)=1.933398e-02,max(val)=8.556742e-02,\n",
      "len(val)=16\n",
      "kz_index=15,min(val)=4.748232e-03,max(val)=6.917224e-02,\n",
      "len(val)=24\n",
      "kz_index=16,min(val)=4.001461e-04,max(val)=8.432822e-02,\n",
      "len(val)=16\n",
      "kz_index=17,min(val)=4.229532e-04,max(val)=3.347663e-02,\n",
      "k_req (40) is too small, restart with k_req (80)\n",
      "len(val)=44\n",
      "kz_index=18,min(val)=3.110516e-03,max(val)=4.445720e-02,\n",
      "len(val)=24\n",
      "kz_index=19,min(val)=1.522775e-03,max(val)=4.433915e-02,\n",
      "len(val)=28\n",
      "kz_index=20,min(val)=7.465091e-03,max(val)=8.533287e-02,\n",
      "len(val)=16\n",
      "kz_index=21,min(val)=1.274879e-02,max(val)=8.798230e-02,\n",
      "len(val)=20\n",
      "kz_index=22,min(val)=1.694783e-03,max(val)=5.743560e-02,\n",
      "len(val)=32\n",
      "kz_index=23,min(val)=3.389249e-03,max(val)=2.981036e-02,\n",
      "k_req (40) is too small, restart with k_req (80)\n",
      "len(val)=48\n",
      "kz_index=24,min(val)=1.933302e-03,max(val)=6.032689e-02,\n",
      "len(val)=16\n",
      "Elapsed time is: 84.6s\n",
      "----------Iteration: 0, Average Delta: 3.802031e-04 eV----------\n",
      "kz_index=0,min(val)=4.204923e+00,max(val)=4.432016e+00,\n",
      "len(val)=0\n",
      "kz_index=1,min(val)=4.085379e+00,max(val)=4.312469e+00,\n",
      "len(val)=0\n",
      "kz_index=2,min(val)=3.848177e+00,max(val)=4.075260e+00,\n",
      "len(val)=0\n",
      "kz_index=3,min(val)=3.497057e+00,max(val)=3.724131e+00,\n",
      "len(val)=0\n",
      "kz_index=4,min(val)=3.037556e+00,max(val)=3.264618e+00,\n",
      "len(val)=0\n",
      "kz_index=5,min(val)=2.476922e+00,max(val)=2.703967e+00,\n",
      "len(val)=0\n",
      "kz_index=6,min(val)=1.823996e+00,max(val)=2.051021e+00,\n",
      "len(val)=0\n",
      "kz_index=7,min(val)=1.089074e+00,max(val)=1.316075e+00,\n",
      "len(val)=0\n",
      "kz_index=8,min(val)=2.837479e-01,max(val)=5.107190e-01,\n",
      "len(val)=0\n",
      "kz_index=9,min(val)=2.313074e-03,max(val)=1.023611e-01,\n",
      "len(val)=16\n",
      "kz_index=10,min(val)=1.244914e-03,max(val)=8.746891e-02,\n",
      "len(val)=16\n",
      "kz_index=11,min(val)=8.496456e-03,max(val)=9.345248e-02,\n",
      "len(val)=20\n",
      "kz_index=12,min(val)=5.452564e-03,max(val)=7.967241e-02,\n",
      "len(val)=16\n",
      "kz_index=13,min(val)=3.991483e-03,max(val)=8.630012e-02,\n",
      "len(val)=16\n",
      "kz_index=14,min(val)=1.933445e-02,max(val)=8.556764e-02,\n",
      "len(val)=16\n",
      "kz_index=15,min(val)=4.750168e-03,max(val)=6.917236e-02,\n",
      "len(val)=24\n",
      "kz_index=16,min(val)=4.871835e-04,max(val)=8.432831e-02,\n",
      "len(val)=16\n",
      "kz_index=17,min(val)=5.005770e-04,max(val)=3.347703e-02,\n",
      "k_req (40) is too small, restart with k_req (80)\n",
      "len(val)=44\n",
      "kz_index=18,min(val)=3.113813e-03,max(val)=4.445760e-02,\n",
      "len(val)=24\n",
      "kz_index=19,min(val)=1.535376e-03,max(val)=4.433932e-02,\n",
      "len(val)=28\n",
      "kz_index=20,min(val)=7.466776e-03,max(val)=8.533297e-02,\n",
      "len(val)=16\n",
      "kz_index=21,min(val)=1.274943e-02,max(val)=8.798256e-02,\n",
      "len(val)=20\n",
      "kz_index=22,min(val)=1.704235e-03,max(val)=5.743581e-02,\n",
      "len(val)=32\n",
      "kz_index=23,min(val)=3.392785e-03,max(val)=2.981086e-02,\n",
      "k_req (40) is too small, restart with k_req (80)\n",
      "len(val)=48\n",
      "kz_index=24,min(val)=1.940114e-03,max(val)=6.032718e-02,\n",
      "len(val)=16\n",
      "Elapsed time is: 69.1s\n",
      "----------Iteration: 1, Average Delta: 3.970312e-04 eV----------\n",
      "kz_index=0,min(val)=4.204923e+00,max(val)=4.432016e+00,\n",
      "len(val)=0\n",
      "kz_index=1,min(val)=4.085379e+00,max(val)=4.312469e+00,\n",
      "len(val)=0\n",
      "kz_index=2,min(val)=3.848177e+00,max(val)=4.075260e+00,\n",
      "len(val)=0\n",
      "kz_index=3,min(val)=3.497057e+00,max(val)=3.724131e+00,\n",
      "len(val)=0\n",
      "kz_index=4,min(val)=3.037556e+00,max(val)=3.264618e+00,\n",
      "len(val)=0\n",
      "kz_index=5,min(val)=2.476922e+00,max(val)=2.703967e+00,\n",
      "len(val)=0\n",
      "kz_index=6,min(val)=1.823996e+00,max(val)=2.051021e+00,\n",
      "len(val)=0\n",
      "kz_index=7,min(val)=1.089074e+00,max(val)=1.316075e+00,\n",
      "len(val)=0\n",
      "kz_index=8,min(val)=2.837479e-01,max(val)=5.107191e-01,\n",
      "len(val)=0\n",
      "kz_index=9,min(val)=2.316268e-03,max(val)=1.023611e-01,\n",
      "len(val)=16\n",
      "kz_index=10,min(val)=1.251304e-03,max(val)=8.746898e-02,\n",
      "len(val)=16\n",
      "kz_index=11,min(val)=8.497205e-03,max(val)=9.345256e-02,\n",
      "len(val)=20\n",
      "kz_index=12,min(val)=5.453785e-03,max(val)=7.967249e-02,\n",
      "len(val)=16\n",
      "kz_index=13,min(val)=3.993185e-03,max(val)=8.630019e-02,\n",
      "len(val)=16\n",
      "kz_index=14,min(val)=1.933478e-02,max(val)=8.556772e-02,\n",
      "len(val)=16\n",
      "kz_index=15,min(val)=4.751500e-03,max(val)=6.917245e-02,\n",
      "len(val)=24\n",
      "kz_index=16,min(val)=5.042013e-04,max(val)=8.432839e-02,\n",
      "len(val)=16\n",
      "kz_index=17,min(val)=5.171885e-04,max(val)=3.347724e-02,\n",
      "k_req (40) is too small, restart with k_req (80)\n",
      "len(val)=44\n",
      "kz_index=18,min(val)=3.115868e-03,max(val)=4.445776e-02,\n",
      "len(val)=24\n",
      "kz_index=19,min(val)=1.540334e-03,max(val)=4.433946e-02,\n",
      "len(val)=28\n",
      "kz_index=20,min(val)=7.467676e-03,max(val)=8.533304e-02,\n",
      "len(val)=16\n",
      "kz_index=21,min(val)=1.274992e-02,max(val)=8.798264e-02,\n",
      "len(val)=20\n",
      "kz_index=22,min(val)=1.708402e-03,max(val)=5.743592e-02,\n",
      "len(val)=32\n",
      "kz_index=23,min(val)=3.394747e-03,max(val)=2.981108e-02,\n",
      "k_req (40) is too small, restart with k_req (80)\n",
      "len(val)=48\n",
      "kz_index=24,min(val)=1.943597e-03,max(val)=6.032729e-02,\n",
      "len(val)=16\n",
      "Elapsed time is: 67.1s\n",
      "----------Iteration: 2, Average Delta: 4.071180e-04 eV----------\n",
      "kz_index=0,min(val)=4.204923e+00,max(val)=4.432016e+00,\n",
      "len(val)=0\n",
      "kz_index=1,min(val)=4.085379e+00,max(val)=4.312469e+00,\n",
      "len(val)=0\n",
      "kz_index=2,min(val)=3.848177e+00,max(val)=4.075260e+00,\n",
      "len(val)=0\n",
      "kz_index=3,min(val)=3.497057e+00,max(val)=3.724131e+00,\n",
      "len(val)=0\n",
      "kz_index=4,min(val)=3.037556e+00,max(val)=3.264618e+00,\n",
      "len(val)=0\n",
      "kz_index=5,min(val)=2.476922e+00,max(val)=2.703967e+00,\n",
      "len(val)=0\n",
      "kz_index=6,min(val)=1.823996e+00,max(val)=2.051021e+00,\n",
      "len(val)=0\n",
      "kz_index=7,min(val)=1.089074e+00,max(val)=1.316075e+00,\n",
      "len(val)=0\n",
      "kz_index=8,min(val)=2.837479e-01,max(val)=5.107191e-01,\n",
      "len(val)=0\n",
      "kz_index=9,min(val)=2.318242e-03,max(val)=1.023612e-01,\n",
      "len(val)=16\n",
      "kz_index=10,min(val)=1.255218e-03,max(val)=8.746903e-02,\n",
      "len(val)=16\n",
      "kz_index=11,min(val)=8.497671e-03,max(val)=9.345260e-02,\n",
      "len(val)=20\n",
      "kz_index=12,min(val)=5.454545e-03,max(val)=7.967254e-02,\n",
      "len(val)=16\n",
      "kz_index=13,min(val)=3.994245e-03,max(val)=8.630024e-02,\n",
      "len(val)=16\n",
      "kz_index=14,min(val)=1.933498e-02,max(val)=8.556777e-02,\n",
      "len(val)=16\n",
      "kz_index=15,min(val)=4.752331e-03,max(val)=6.917250e-02,\n",
      "len(val)=24\n",
      "kz_index=16,min(val)=5.141230e-04,max(val)=8.432843e-02,\n",
      "len(val)=16\n",
      "kz_index=17,min(val)=5.268609e-04,max(val)=3.347737e-02,\n",
      "k_req (40) is too small, restart with k_req (80)\n",
      "len(val)=44\n",
      "kz_index=18,min(val)=3.117153e-03,max(val)=4.445785e-02,\n",
      "len(val)=24\n",
      "kz_index=19,min(val)=1.543388e-03,max(val)=4.433955e-02,\n",
      "len(val)=28\n",
      "kz_index=20,min(val)=7.468236e-03,max(val)=8.533309e-02,\n",
      "len(val)=16\n",
      "kz_index=21,min(val)=1.275022e-02,max(val)=8.798270e-02,\n",
      "len(val)=20\n",
      "kz_index=22,min(val)=1.710991e-03,max(val)=5.743599e-02,\n",
      "len(val)=32\n",
      "kz_index=23,min(val)=3.395969e-03,max(val)=2.981122e-02,\n",
      "k_req (40) is too small, restart with k_req (80)\n",
      "len(val)=48\n",
      "kz_index=24,min(val)=1.945767e-03,max(val)=6.032736e-02,\n",
      "len(val)=16\n",
      "Elapsed time is: 64.9s\n",
      "----------Iteration: 3, Average Delta: 4.141543e-04 eV----------\n",
      "kz_index=0,min(val)=4.204923e+00,max(val)=4.432016e+00,\n",
      "len(val)=0\n",
      "kz_index=1,min(val)=4.085379e+00,max(val)=4.312469e+00,\n",
      "len(val)=0\n",
      "kz_index=2,min(val)=3.848177e+00,max(val)=4.075260e+00,\n",
      "len(val)=0\n",
      "kz_index=3,min(val)=3.497057e+00,max(val)=3.724131e+00,\n",
      "len(val)=0\n",
      "kz_index=4,min(val)=3.037556e+00,max(val)=3.264618e+00,\n",
      "len(val)=0\n",
      "kz_index=5,min(val)=2.476922e+00,max(val)=2.703967e+00,\n",
      "len(val)=0\n",
      "kz_index=6,min(val)=1.823996e+00,max(val)=2.051021e+00,\n",
      "len(val)=0\n",
      "kz_index=7,min(val)=1.089074e+00,max(val)=1.316075e+00,\n",
      "len(val)=0\n",
      "kz_index=8,min(val)=2.837479e-01,max(val)=5.107191e-01,\n",
      "len(val)=0\n",
      "kz_index=9,min(val)=2.319647e-03,max(val)=1.023612e-01,\n",
      "len(val)=16\n",
      "kz_index=10,min(val)=1.257991e-03,max(val)=8.746906e-02,\n",
      "len(val)=16\n",
      "kz_index=11,min(val)=8.498004e-03,max(val)=9.345263e-02,\n",
      "len(val)=20\n",
      "kz_index=12,min(val)=5.455087e-03,max(val)=7.967258e-02,\n",
      "len(val)=16\n",
      "kz_index=13,min(val)=3.995002e-03,max(val)=8.630027e-02,\n",
      "len(val)=16\n",
      "kz_index=14,min(val)=1.933513e-02,max(val)=8.556780e-02,\n",
      "len(val)=16\n",
      "kz_index=15,min(val)=4.752924e-03,max(val)=6.917254e-02,\n",
      "len(val)=24\n",
      "kz_index=16,min(val)=5.209750e-04,max(val)=8.432847e-02,\n",
      "len(val)=16\n",
      "kz_index=17,min(val)=5.335379e-04,max(val)=3.347746e-02,\n",
      "k_req (40) is too small, restart with k_req (80)\n",
      "len(val)=44\n",
      "kz_index=18,min(val)=3.118071e-03,max(val)=4.445792e-02,\n",
      "len(val)=24\n",
      "kz_index=19,min(val)=1.545558e-03,max(val)=4.433961e-02,\n",
      "len(val)=28\n",
      "kz_index=20,min(val)=7.468636e-03,max(val)=8.533312e-02,\n",
      "len(val)=16\n",
      "kz_index=21,min(val)=1.275044e-02,max(val)=8.798273e-02,\n",
      "len(val)=20\n",
      "kz_index=22,min(val)=1.712837e-03,max(val)=5.743605e-02,\n",
      "len(val)=32\n",
      "kz_index=23,min(val)=3.396841e-03,max(val)=2.981131e-02,\n",
      "k_req (40) is too small, restart with k_req (80)\n",
      "len(val)=48\n",
      "kz_index=24,min(val)=1.947314e-03,max(val)=6.032741e-02,\n",
      "len(val)=16\n",
      "Elapsed time is: 74.2s\n",
      "----------Iteration: 4, Average Delta: 4.194822e-04 eV----------\n",
      "kz_index=0,min(val)=4.204923e+00,max(val)=4.432016e+00,\n",
      "len(val)=0\n",
      "kz_index=1,min(val)=4.085379e+00,max(val)=4.312469e+00,\n",
      "len(val)=0\n",
      "kz_index=2,min(val)=3.848177e+00,max(val)=4.075260e+00,\n",
      "len(val)=0\n",
      "kz_index=3,min(val)=3.497057e+00,max(val)=3.724131e+00,\n",
      "len(val)=0\n",
      "kz_index=4,min(val)=3.037556e+00,max(val)=3.264618e+00,\n",
      "len(val)=0\n",
      "kz_index=5,min(val)=2.476922e+00,max(val)=2.703967e+00,\n",
      "len(val)=0\n",
      "kz_index=6,min(val)=1.823996e+00,max(val)=2.051021e+00,\n",
      "len(val)=0\n",
      "kz_index=7,min(val)=1.089074e+00,max(val)=1.316075e+00,\n",
      "len(val)=0\n",
      "kz_index=8,min(val)=2.837479e-01,max(val)=5.107191e-01,\n",
      "len(val)=0\n",
      "kz_index=9,min(val)=2.320726e-03,max(val)=1.023612e-01,\n",
      "len(val)=16\n",
      "kz_index=10,min(val)=1.260115e-03,max(val)=8.746908e-02,\n",
      "len(val)=16\n",
      "kz_index=11,min(val)=8.498260e-03,max(val)=9.345266e-02,\n",
      "len(val)=20\n",
      "kz_index=12,min(val)=5.455504e-03,max(val)=7.967261e-02,\n",
      "len(val)=16\n",
      "kz_index=13,min(val)=3.995584e-03,max(val)=8.630029e-02,\n",
      "len(val)=16\n",
      "kz_index=14,min(val)=1.933524e-02,max(val)=8.556783e-02,\n",
      "len(val)=16\n",
      "kz_index=15,min(val)=4.753381e-03,max(val)=6.917257e-02,\n",
      "len(val)=24\n",
      "kz_index=16,min(val)=5.261361e-04,max(val)=8.432849e-02,\n",
      "len(val)=16\n",
      "kz_index=17,min(val)=5.385663e-04,max(val)=3.347753e-02,\n",
      "k_req (40) is too small, restart with k_req (80)\n",
      "len(val)=44\n",
      "kz_index=18,min(val)=3.118778e-03,max(val)=4.445797e-02,\n",
      "len(val)=24\n",
      "kz_index=19,min(val)=1.547223e-03,max(val)=4.433966e-02,\n",
      "len(val)=28\n",
      "kz_index=20,min(val)=7.468944e-03,max(val)=8.533315e-02,\n",
      "len(val)=16\n",
      "kz_index=21,min(val)=1.275061e-02,max(val)=8.798276e-02,\n",
      "len(val)=20\n",
      "kz_index=22,min(val)=1.714255e-03,max(val)=5.743609e-02,\n",
      "len(val)=32\n",
      "kz_index=23,min(val)=3.397512e-03,max(val)=2.981139e-02,\n",
      "k_req (40) is too small, restart with k_req (80)\n",
      "len(val)=48\n",
      "kz_index=24,min(val)=1.948504e-03,max(val)=6.032744e-02,\n",
      "len(val)=16\n",
      "Elapsed time is: 59.1s\n",
      "----------Iteration: 5, Average Delta: 4.237295e-04 eV----------\n",
      "kz_index=0,min(val)=4.204923e+00,max(val)=4.432016e+00,\n",
      "len(val)=0\n",
      "kz_index=1,min(val)=4.085379e+00,max(val)=4.312469e+00,\n",
      "len(val)=0\n",
      "kz_index=2,min(val)=3.848177e+00,max(val)=4.075260e+00,\n",
      "len(val)=0\n",
      "kz_index=3,min(val)=3.497057e+00,max(val)=3.724131e+00,\n",
      "len(val)=0\n",
      "kz_index=4,min(val)=3.037556e+00,max(val)=3.264618e+00,\n",
      "len(val)=0\n",
      "kz_index=5,min(val)=2.476922e+00,max(val)=2.703967e+00,\n",
      "len(val)=0\n",
      "kz_index=6,min(val)=1.823996e+00,max(val)=2.051021e+00,\n",
      "len(val)=0\n",
      "kz_index=7,min(val)=1.089074e+00,max(val)=1.316075e+00,\n",
      "len(val)=0\n",
      "kz_index=8,min(val)=2.837479e-01,max(val)=5.107191e-01,\n",
      "len(val)=0\n",
      "kz_index=9,min(val)=2.321596e-03,max(val)=1.023613e-01,\n",
      "len(val)=16\n",
      "kz_index=10,min(val)=1.261823e-03,max(val)=8.746910e-02,\n",
      "len(val)=16\n",
      "kz_index=11,min(val)=8.498467e-03,max(val)=9.345268e-02,\n",
      "len(val)=20\n",
      "kz_index=12,min(val)=5.455841e-03,max(val)=7.967263e-02,\n",
      "len(val)=16\n",
      "kz_index=13,min(val)=3.996054e-03,max(val)=8.630031e-02,\n",
      "len(val)=16\n",
      "kz_index=14,min(val)=1.933533e-02,max(val)=8.556785e-02,\n",
      "len(val)=16\n",
      "kz_index=15,min(val)=4.753749e-03,max(val)=6.917260e-02,\n",
      "len(val)=24\n",
      "kz_index=16,min(val)=5.302370e-04,max(val)=8.432851e-02,\n",
      "len(val)=16\n",
      "kz_index=17,min(val)=5.425614e-04,max(val)=3.347758e-02,\n",
      "k_req (40) is too small, restart with k_req (80)\n",
      "len(val)=44\n",
      "kz_index=18,min(val)=3.119349e-03,max(val)=4.445802e-02,\n",
      "len(val)=24\n",
      "kz_index=19,min(val)=1.548564e-03,max(val)=4.433970e-02,\n",
      "len(val)=28\n",
      "kz_index=20,min(val)=7.469192e-03,max(val)=8.533317e-02,\n",
      "len(val)=16\n",
      "kz_index=21,min(val)=1.275074e-02,max(val)=8.798278e-02,\n",
      "len(val)=20\n",
      "kz_index=22,min(val)=1.715399e-03,max(val)=5.743612e-02,\n",
      "len(val)=32\n",
      "kz_index=23,min(val)=3.398054e-03,max(val)=2.981145e-02,\n",
      "k_req (40) is too small, restart with k_req (80)\n",
      "len(val)=48\n",
      "kz_index=24,min(val)=1.949464e-03,max(val)=6.032747e-02,\n",
      "len(val)=16\n",
      "Elapsed time is: 61.7s\n",
      "----------Iteration: 6, Average Delta: 4.272373e-04 eV----------\n",
      "kz_index=0,min(val)=4.204923e+00,max(val)=4.432016e+00,\n",
      "len(val)=0\n",
      "kz_index=1,min(val)=4.085379e+00,max(val)=4.312469e+00,\n",
      "len(val)=0\n",
      "kz_index=2,min(val)=3.848177e+00,max(val)=4.075260e+00,\n",
      "len(val)=0\n",
      "kz_index=3,min(val)=3.497057e+00,max(val)=3.724131e+00,\n",
      "len(val)=0\n",
      "kz_index=4,min(val)=3.037556e+00,max(val)=3.264618e+00,\n",
      "len(val)=0\n",
      "kz_index=5,min(val)=2.476922e+00,max(val)=2.703967e+00,\n",
      "len(val)=0\n",
      "kz_index=6,min(val)=1.823996e+00,max(val)=2.051021e+00,\n",
      "len(val)=0\n",
      "kz_index=7,min(val)=1.089074e+00,max(val)=1.316075e+00,\n",
      "len(val)=0\n",
      "kz_index=8,min(val)=2.837479e-01,max(val)=5.107191e-01,\n",
      "len(val)=0\n",
      "kz_index=9,min(val)=2.322321e-03,max(val)=1.023613e-01,\n",
      "len(val)=16\n",
      "kz_index=10,min(val)=1.263244e-03,max(val)=8.746912e-02,\n",
      "len(val)=16\n",
      "kz_index=11,min(val)=8.498640e-03,max(val)=9.345269e-02,\n",
      "len(val)=20\n",
      "kz_index=12,min(val)=5.456121e-03,max(val)=7.967265e-02,\n",
      "len(val)=16\n",
      "kz_index=13,min(val)=3.996446e-03,max(val)=8.630033e-02,\n",
      "len(val)=16\n",
      "kz_index=14,min(val)=1.933541e-02,max(val)=8.556787e-02,\n",
      "len(val)=16\n",
      "kz_index=15,min(val)=4.754057e-03,max(val)=6.917262e-02,\n",
      "len(val)=24\n",
      "kz_index=16,min(val)=5.336162e-04,max(val)=8.432853e-02,\n",
      "len(val)=16\n",
      "kz_index=17,min(val)=5.458533e-04,max(val)=3.347763e-02,\n",
      "k_req (40) is too small, restart with k_req (80)\n",
      "len(val)=44\n",
      "kz_index=18,min(val)=3.119825e-03,max(val)=4.445805e-02,\n",
      "len(val)=24\n",
      "kz_index=19,min(val)=1.549680e-03,max(val)=4.433973e-02,\n",
      "len(val)=28\n",
      "kz_index=20,min(val)=7.469400e-03,max(val)=8.533318e-02,\n",
      "len(val)=16\n",
      "kz_index=21,min(val)=1.275085e-02,max(val)=8.798280e-02,\n",
      "len(val)=20\n",
      "kz_index=22,min(val)=1.716352e-03,max(val)=5.743614e-02,\n",
      "len(val)=32\n",
      "kz_index=23,min(val)=3.398505e-03,max(val)=2.981150e-02,\n",
      "k_req (40) is too small, restart with k_req (80)\n",
      "len(val)=48\n",
      "kz_index=24,min(val)=1.950264e-03,max(val)=6.032750e-02,\n",
      "len(val)=16\n",
      "Elapsed time is: 59.1s\n",
      "----------Iteration: 7, Average Delta: 4.302098e-04 eV----------\n",
      "kz_index=0,min(val)=4.204923e+00,max(val)=4.432016e+00,\n",
      "len(val)=0\n",
      "kz_index=1,min(val)=4.085379e+00,max(val)=4.312469e+00,\n",
      "len(val)=0\n",
      "kz_index=2,min(val)=3.848177e+00,max(val)=4.075260e+00,\n",
      "len(val)=0\n",
      "kz_index=3,min(val)=3.497057e+00,max(val)=3.724131e+00,\n",
      "len(val)=0\n",
      "kz_index=4,min(val)=3.037556e+00,max(val)=3.264618e+00,\n",
      "len(val)=0\n",
      "kz_index=5,min(val)=2.476922e+00,max(val)=2.703967e+00,\n",
      "len(val)=0\n",
      "kz_index=6,min(val)=1.823996e+00,max(val)=2.051021e+00,\n",
      "len(val)=0\n",
      "kz_index=7,min(val)=1.089074e+00,max(val)=1.316075e+00,\n",
      "len(val)=0\n",
      "kz_index=8,min(val)=2.837479e-01,max(val)=5.107191e-01,\n",
      "len(val)=0\n",
      "kz_index=9,min(val)=2.322939e-03,max(val)=1.023613e-01,\n",
      "len(val)=16\n",
      "kz_index=10,min(val)=1.264456e-03,max(val)=8.746913e-02,\n",
      "len(val)=16\n",
      "kz_index=11,min(val)=8.498787e-03,max(val)=9.345271e-02,\n",
      "len(val)=20\n",
      "kz_index=12,min(val)=5.456361e-03,max(val)=7.967266e-02,\n",
      "len(val)=16\n",
      "kz_index=13,min(val)=3.996780e-03,max(val)=8.630035e-02,\n",
      "len(val)=16\n",
      "kz_index=14,min(val)=1.933547e-02,max(val)=8.556789e-02,\n",
      "len(val)=16\n",
      "kz_index=15,min(val)=4.754319e-03,max(val)=6.917264e-02,\n",
      "len(val)=24\n",
      "kz_index=16,min(val)=5.364751e-04,max(val)=8.432854e-02,\n",
      "len(val)=16\n",
      "kz_index=17,min(val)=5.486382e-04,max(val)=3.347767e-02,\n",
      "k_req (40) is too small, restart with k_req (80)\n",
      "len(val)=44\n",
      "kz_index=18,min(val)=3.120232e-03,max(val)=4.445808e-02,\n",
      "len(val)=24\n",
      "kz_index=19,min(val)=1.550633e-03,max(val)=4.433976e-02,\n",
      "len(val)=28\n",
      "kz_index=20,min(val)=7.469576e-03,max(val)=8.533320e-02,\n",
      "len(val)=16\n",
      "kz_index=21,min(val)=1.275095e-02,max(val)=8.798282e-02,\n",
      "len(val)=20\n",
      "kz_index=22,min(val)=1.717166e-03,max(val)=5.743617e-02,\n",
      "len(val)=32\n",
      "kz_index=23,min(val)=3.398890e-03,max(val)=2.981154e-02,\n",
      "k_req (40) is too small, restart with k_req (80)\n",
      "len(val)=48\n",
      "kz_index=24,min(val)=1.950947e-03,max(val)=6.032752e-02,\n",
      "len(val)=16\n",
      "Elapsed time is: 54.5s\n",
      "----------Iteration: 8, Average Delta: 4.327788e-04 eV----------\n",
      "kz_index=0,min(val)=4.204923e+00,max(val)=4.432016e+00,\n",
      "len(val)=0\n",
      "kz_index=1,min(val)=4.085379e+00,max(val)=4.312469e+00,\n",
      "len(val)=0\n",
      "kz_index=2,min(val)=3.848177e+00,max(val)=4.075260e+00,\n",
      "len(val)=0\n",
      "kz_index=3,min(val)=3.497057e+00,max(val)=3.724131e+00,\n",
      "len(val)=0\n",
      "kz_index=4,min(val)=3.037556e+00,max(val)=3.264618e+00,\n",
      "len(val)=0\n",
      "kz_index=5,min(val)=2.476922e+00,max(val)=2.703967e+00,\n",
      "len(val)=0\n",
      "kz_index=6,min(val)=1.823996e+00,max(val)=2.051021e+00,\n",
      "len(val)=0\n",
      "kz_index=7,min(val)=1.089074e+00,max(val)=1.316075e+00,\n",
      "len(val)=0\n",
      "kz_index=8,min(val)=2.837479e-01,max(val)=5.107191e-01,\n",
      "len(val)=0\n",
      "kz_index=9,min(val)=2.323477e-03,max(val)=1.023613e-01,\n",
      "len(val)=16\n",
      "kz_index=10,min(val)=1.265508e-03,max(val)=8.746915e-02,\n",
      "len(val)=16\n",
      "kz_index=11,min(val)=8.498915e-03,max(val)=9.345272e-02,\n",
      "len(val)=20\n",
      "kz_index=12,min(val)=5.456569e-03,max(val)=7.967268e-02,\n",
      "len(val)=16\n",
      "kz_index=13,min(val)=3.997071e-03,max(val)=8.630036e-02,\n",
      "len(val)=16\n",
      "kz_index=14,min(val)=1.933553e-02,max(val)=8.556790e-02,\n",
      "len(val)=16\n",
      "kz_index=15,min(val)=4.754548e-03,max(val)=6.917265e-02,\n",
      "len(val)=24\n",
      "kz_index=16,min(val)=5.389427e-04,max(val)=8.432855e-02,\n",
      "len(val)=16\n",
      "kz_index=17,min(val)=5.510420e-04,max(val)=3.347771e-02,\n",
      "k_req (40) is too small, restart with k_req (80)\n",
      "len(val)=44\n",
      "kz_index=18,min(val)=3.120586e-03,max(val)=4.445811e-02,\n",
      "len(val)=24\n",
      "kz_index=19,min(val)=1.551461e-03,max(val)=4.433978e-02,\n",
      "len(val)=28\n",
      "kz_index=20,min(val)=7.469730e-03,max(val)=8.533321e-02,\n",
      "len(val)=16\n",
      "kz_index=21,min(val)=1.275103e-02,max(val)=8.798283e-02,\n",
      "len(val)=20\n",
      "kz_index=22,min(val)=1.717874e-03,max(val)=5.743619e-02,\n",
      "len(val)=32\n",
      "kz_index=23,min(val)=3.399226e-03,max(val)=2.981157e-02,\n",
      "k_req (40) is too small, restart with k_req (80)\n",
      "len(val)=48\n",
      "kz_index=24,min(val)=1.951542e-03,max(val)=6.032754e-02,\n",
      "len(val)=16\n",
      "Elapsed time is: 53.5s\n",
      "----------Iteration: 9, Average Delta: 4.350335e-04 eV----------\n",
      "kz_index=0,min(val)=4.204923e+00,max(val)=4.432016e+00,\n",
      "len(val)=0\n",
      "kz_index=1,min(val)=4.085379e+00,max(val)=4.312469e+00,\n",
      "len(val)=0\n",
      "kz_index=2,min(val)=3.848177e+00,max(val)=4.075260e+00,\n",
      "len(val)=0\n",
      "kz_index=3,min(val)=3.497057e+00,max(val)=3.724131e+00,\n",
      "len(val)=0\n",
      "kz_index=4,min(val)=3.037556e+00,max(val)=3.264618e+00,\n",
      "len(val)=0\n",
      "kz_index=5,min(val)=2.476922e+00,max(val)=2.703967e+00,\n",
      "len(val)=0\n",
      "kz_index=6,min(val)=1.823996e+00,max(val)=2.051021e+00,\n",
      "len(val)=0\n",
      "kz_index=7,min(val)=1.089074e+00,max(val)=1.316075e+00,\n",
      "len(val)=0\n",
      "kz_index=8,min(val)=2.837479e-01,max(val)=5.107191e-01,\n",
      "len(val)=0\n",
      "kz_index=9,min(val)=2.323952e-03,max(val)=1.023613e-01,\n",
      "len(val)=16\n",
      "kz_index=10,min(val)=1.266436e-03,max(val)=8.746916e-02,\n",
      "len(val)=16\n",
      "kz_index=11,min(val)=8.499028e-03,max(val)=9.345273e-02,\n",
      "len(val)=20\n",
      "kz_index=12,min(val)=5.456753e-03,max(val)=7.967269e-02,\n",
      "len(val)=16\n",
      "kz_index=13,min(val)=3.997328e-03,max(val)=8.630037e-02,\n",
      "len(val)=16\n",
      "kz_index=14,min(val)=1.933558e-02,max(val)=8.556791e-02,\n",
      "len(val)=16\n",
      "kz_index=15,min(val)=4.754749e-03,max(val)=6.917267e-02,\n",
      "len(val)=24\n",
      "kz_index=16,min(val)=5.411064e-04,max(val)=8.432857e-02,\n",
      "len(val)=16\n",
      "kz_index=17,min(val)=5.531496e-04,max(val)=3.347774e-02,\n",
      "k_req (40) is too small, restart with k_req (80)\n",
      "len(val)=44\n",
      "kz_index=18,min(val)=3.120898e-03,max(val)=4.445813e-02,\n",
      "len(val)=24\n",
      "kz_index=19,min(val)=1.552191e-03,max(val)=4.433980e-02,\n",
      "len(val)=28\n",
      "kz_index=20,min(val)=7.469866e-03,max(val)=8.533322e-02,\n",
      "len(val)=16\n",
      "kz_index=21,min(val)=1.275111e-02,max(val)=8.798285e-02,\n",
      "len(val)=20\n",
      "kz_index=22,min(val)=1.718498e-03,max(val)=5.743620e-02,\n",
      "len(val)=32\n",
      "kz_index=23,min(val)=3.399522e-03,max(val)=2.981161e-02,\n",
      "k_req (40) is too small, restart with k_req (80)\n",
      "len(val)=48\n",
      "kz_index=24,min(val)=1.952067e-03,max(val)=6.032755e-02,\n",
      "len(val)=16\n",
      "Elapsed time is: 53.5s\n",
      "----------Iteration: 10, Average Delta: 4.370374e-04 eV----------\n",
      "kz_index=0,min(val)=4.204923e+00,max(val)=4.432016e+00,\n",
      "len(val)=0\n",
      "kz_index=1,min(val)=4.085379e+00,max(val)=4.312469e+00,\n",
      "len(val)=0\n",
      "kz_index=2,min(val)=3.848177e+00,max(val)=4.075260e+00,\n",
      "len(val)=0\n",
      "kz_index=3,min(val)=3.497057e+00,max(val)=3.724131e+00,\n",
      "len(val)=0\n",
      "kz_index=4,min(val)=3.037556e+00,max(val)=3.264618e+00,\n",
      "len(val)=0\n",
      "kz_index=5,min(val)=2.476922e+00,max(val)=2.703967e+00,\n",
      "len(val)=0\n",
      "kz_index=6,min(val)=1.823996e+00,max(val)=2.051021e+00,\n",
      "len(val)=0\n",
      "kz_index=7,min(val)=1.089074e+00,max(val)=1.316075e+00,\n",
      "len(val)=0\n",
      "kz_index=8,min(val)=2.837479e-01,max(val)=5.107191e-01,\n",
      "len(val)=0\n",
      "kz_index=9,min(val)=2.324376e-03,max(val)=1.023613e-01,\n",
      "len(val)=16\n",
      "kz_index=10,min(val)=1.267264e-03,max(val)=8.746917e-02,\n",
      "len(val)=16\n",
      "kz_index=11,min(val)=8.499129e-03,max(val)=9.345274e-02,\n",
      "len(val)=20\n",
      "kz_index=12,min(val)=5.456918e-03,max(val)=7.967270e-02,\n",
      "len(val)=16\n",
      "kz_index=13,min(val)=3.997558e-03,max(val)=8.630038e-02,\n",
      "len(val)=16\n",
      "kz_index=14,min(val)=1.933562e-02,max(val)=8.556792e-02,\n",
      "len(val)=16\n",
      "kz_index=15,min(val)=4.754930e-03,max(val)=6.917268e-02,\n",
      "len(val)=24\n",
      "kz_index=16,min(val)=5.430277e-04,max(val)=8.432858e-02,\n",
      "len(val)=16\n",
      "kz_index=17,min(val)=5.550212e-04,max(val)=3.347776e-02,\n",
      "k_req (40) is too small, restart with k_req (80)\n",
      "len(val)=44\n",
      "kz_index=18,min(val)=3.121177e-03,max(val)=4.445815e-02,\n",
      "len(val)=24\n",
      "kz_index=19,min(val)=1.552843e-03,max(val)=4.433982e-02,\n",
      "len(val)=28\n",
      "kz_index=20,min(val)=7.469988e-03,max(val)=8.533323e-02,\n",
      "len(val)=16\n",
      "kz_index=21,min(val)=1.275117e-02,max(val)=8.798286e-02,\n",
      "len(val)=20\n",
      "kz_index=22,min(val)=1.719056e-03,max(val)=5.743622e-02,\n",
      "len(val)=32\n",
      "kz_index=23,min(val)=3.399786e-03,max(val)=2.981164e-02,\n",
      "k_req (40) is too small, restart with k_req (80)\n",
      "len(val)=48\n",
      "kz_index=24,min(val)=1.952535e-03,max(val)=6.032757e-02,\n",
      "len(val)=16\n",
      "Elapsed time is: 54.3s\n",
      "----------Iteration: 11, Average Delta: 4.388367e-04 eV----------\n",
      "kz_index=0,min(val)=4.204923e+00,max(val)=4.432016e+00,\n",
      "len(val)=0\n",
      "kz_index=1,min(val)=4.085379e+00,max(val)=4.312469e+00,\n",
      "len(val)=0\n",
      "kz_index=2,min(val)=3.848177e+00,max(val)=4.075260e+00,\n",
      "len(val)=0\n",
      "kz_index=3,min(val)=3.497057e+00,max(val)=3.724131e+00,\n",
      "len(val)=0\n",
      "kz_index=4,min(val)=3.037556e+00,max(val)=3.264618e+00,\n",
      "len(val)=0\n",
      "kz_index=5,min(val)=2.476922e+00,max(val)=2.703967e+00,\n",
      "len(val)=0\n",
      "kz_index=6,min(val)=1.823996e+00,max(val)=2.051021e+00,\n",
      "len(val)=0\n",
      "kz_index=7,min(val)=1.089074e+00,max(val)=1.316075e+00,\n",
      "len(val)=0\n",
      "kz_index=8,min(val)=2.837479e-01,max(val)=5.107191e-01,\n",
      "len(val)=0\n",
      "kz_index=9,min(val)=2.324758e-03,max(val)=1.023613e-01,\n",
      "len(val)=16\n",
      "kz_index=10,min(val)=1.268010e-03,max(val)=8.746918e-02,\n",
      "len(val)=16\n",
      "kz_index=11,min(val)=8.499220e-03,max(val)=9.345275e-02,\n",
      "len(val)=20\n",
      "kz_index=12,min(val)=5.457066e-03,max(val)=7.967271e-02,\n",
      "len(val)=16\n",
      "kz_index=13,min(val)=3.997765e-03,max(val)=8.630039e-02,\n",
      "len(val)=16\n",
      "kz_index=14,min(val)=1.933566e-02,max(val)=8.556793e-02,\n",
      "len(val)=16\n",
      "kz_index=15,min(val)=4.755092e-03,max(val)=6.917269e-02,\n",
      "len(val)=24\n",
      "kz_index=16,min(val)=5.447518e-04,max(val)=8.432858e-02,\n",
      "len(val)=16\n",
      "kz_index=17,min(val)=5.567006e-04,max(val)=3.347779e-02,\n",
      "k_req (40) is too small, restart with k_req (80)\n",
      "len(val)=44\n",
      "kz_index=18,min(val)=3.121429e-03,max(val)=4.445817e-02,\n",
      "len(val)=24\n",
      "kz_index=19,min(val)=1.553431e-03,max(val)=4.433984e-02,\n",
      "len(val)=28\n",
      "kz_index=20,min(val)=7.470097e-03,max(val)=8.533324e-02,\n",
      "len(val)=16\n",
      "kz_index=21,min(val)=1.275123e-02,max(val)=8.798287e-02,\n",
      "len(val)=20\n",
      "kz_index=22,min(val)=1.719559e-03,max(val)=5.743623e-02,\n",
      "len(val)=32\n",
      "kz_index=23,min(val)=3.400025e-03,max(val)=2.981166e-02,\n",
      "k_req (40) is too small, restart with k_req (80)\n",
      "len(val)=48\n",
      "kz_index=24,min(val)=1.952958e-03,max(val)=6.032758e-02,\n",
      "len(val)=16\n",
      "Elapsed time is: 56.8s\n",
      "----------Iteration: 12, Average Delta: 4.404663e-04 eV----------\n",
      "kz_index=0,min(val)=4.204923e+00,max(val)=4.432016e+00,\n",
      "len(val)=0\n",
      "kz_index=1,min(val)=4.085379e+00,max(val)=4.312469e+00,\n",
      "len(val)=0\n",
      "kz_index=2,min(val)=3.848177e+00,max(val)=4.075260e+00,\n",
      "len(val)=0\n",
      "kz_index=3,min(val)=3.497057e+00,max(val)=3.724131e+00,\n",
      "len(val)=0\n",
      "kz_index=4,min(val)=3.037556e+00,max(val)=3.264618e+00,\n",
      "len(val)=0\n",
      "kz_index=5,min(val)=2.476922e+00,max(val)=2.703967e+00,\n",
      "len(val)=0\n",
      "kz_index=6,min(val)=1.823996e+00,max(val)=2.051021e+00,\n",
      "len(val)=0\n",
      "kz_index=7,min(val)=1.089074e+00,max(val)=1.316075e+00,\n",
      "len(val)=0\n",
      "kz_index=8,min(val)=2.837479e-01,max(val)=5.107191e-01,\n",
      "len(val)=0\n",
      "kz_index=9,min(val)=2.325105e-03,max(val)=1.023613e-01,\n",
      "len(val)=16\n",
      "kz_index=10,min(val)=1.268688e-03,max(val)=8.746919e-02,\n",
      "len(val)=16\n",
      "kz_index=11,min(val)=8.499303e-03,max(val)=9.345276e-02,\n",
      "len(val)=20\n",
      "kz_index=12,min(val)=5.457201e-03,max(val)=7.967272e-02,\n",
      "len(val)=16\n",
      "kz_index=13,min(val)=3.997953e-03,max(val)=8.630040e-02,\n",
      "len(val)=16\n",
      "kz_index=14,min(val)=1.933570e-02,max(val)=8.556794e-02,\n",
      "len(val)=16\n",
      "kz_index=15,min(val)=4.755240e-03,max(val)=6.917270e-02,\n",
      "len(val)=24\n",
      "kz_index=16,min(val)=5.463124e-04,max(val)=8.432859e-02,\n",
      "len(val)=16\n",
      "kz_index=17,min(val)=5.582209e-04,max(val)=3.347781e-02,\n",
      "k_req (40) is too small, restart with k_req (80)\n",
      "len(val)=44\n",
      "kz_index=18,min(val)=3.121658e-03,max(val)=4.445818e-02,\n",
      "len(val)=24\n",
      "kz_index=19,min(val)=1.553965e-03,max(val)=4.433986e-02,\n",
      "len(val)=28\n",
      "kz_index=20,min(val)=7.470197e-03,max(val)=8.533325e-02,\n",
      "len(val)=16\n",
      "kz_index=21,min(val)=1.275129e-02,max(val)=8.798288e-02,\n",
      "len(val)=20\n",
      "kz_index=22,min(val)=1.720017e-03,max(val)=5.743625e-02,\n",
      "len(val)=32\n",
      "kz_index=23,min(val)=3.400242e-03,max(val)=2.981169e-02,\n",
      "k_req (40) is too small, restart with k_req (80)\n",
      "len(val)=48\n",
      "kz_index=24,min(val)=1.953342e-03,max(val)=6.032759e-02,\n",
      "len(val)=16\n",
      "Elapsed time is: 59.8s\n",
      "----------Iteration: 13, Average Delta: 4.419532e-04 eV----------\n",
      "kz_index=0,min(val)=4.204923e+00,max(val)=4.432016e+00,\n",
      "len(val)=0\n",
      "kz_index=1,min(val)=4.085379e+00,max(val)=4.312469e+00,\n",
      "len(val)=0\n",
      "kz_index=2,min(val)=3.848177e+00,max(val)=4.075260e+00,\n",
      "len(val)=0\n",
      "kz_index=3,min(val)=3.497057e+00,max(val)=3.724131e+00,\n",
      "len(val)=0\n",
      "kz_index=4,min(val)=3.037556e+00,max(val)=3.264618e+00,\n",
      "len(val)=0\n",
      "kz_index=5,min(val)=2.476922e+00,max(val)=2.703967e+00,\n",
      "len(val)=0\n",
      "kz_index=6,min(val)=1.823996e+00,max(val)=2.051021e+00,\n",
      "len(val)=0\n",
      "kz_index=7,min(val)=1.089074e+00,max(val)=1.316075e+00,\n",
      "len(val)=0\n",
      "kz_index=8,min(val)=2.837479e-01,max(val)=5.107191e-01,\n",
      "len(val)=0\n",
      "kz_index=9,min(val)=2.325424e-03,max(val)=1.023613e-01,\n",
      "len(val)=16\n",
      "kz_index=10,min(val)=1.269308e-03,max(val)=8.746919e-02,\n",
      "len(val)=16\n",
      "kz_index=11,min(val)=8.499379e-03,max(val)=9.345276e-02,\n",
      "len(val)=20\n",
      "kz_index=12,min(val)=5.457324e-03,max(val)=7.967273e-02,\n",
      "len(val)=16\n",
      "kz_index=13,min(val)=3.998126e-03,max(val)=8.630040e-02,\n",
      "len(val)=16\n",
      "kz_index=14,min(val)=1.933573e-02,max(val)=8.556795e-02,\n",
      "len(val)=16\n",
      "kz_index=15,min(val)=4.755375e-03,max(val)=6.917271e-02,\n",
      "len(val)=24\n",
      "kz_index=16,min(val)=5.477356e-04,max(val)=8.432860e-02,\n",
      "len(val)=16\n",
      "kz_index=17,min(val)=5.596073e-04,max(val)=3.347783e-02,\n",
      "k_req (40) is too small, restart with k_req (80)\n",
      "len(val)=44\n"
     ]
    }
   ],
   "source": [
    "run()"
   ]
  },
  {
   "cell_type": "code",
   "execution_count": 137,
   "metadata": {},
   "outputs": [],
   "source": [
    "params=Params(L_Al=np.array([10,10,10])/1,L_FM=np.array([2,10,10])/1,U_D=0)\n",
    "# params.energyMF()"
   ]
  },
  {
   "cell_type": "code",
   "execution_count": 138,
   "metadata": {},
   "outputs": [
    {
     "data": {
      "text/plain": "0.0003499999999999999"
     },
     "execution_count": 138,
     "metadata": {},
     "output_type": "execute_result"
    }
   ],
   "source": [
    "params.Delta_mean"
   ]
  },
  {
   "cell_type": "code",
   "execution_count": 124,
   "metadata": {},
   "outputs": [],
   "source": [
    "def ave2(self):\n",
    "    self.Fermi_dist()\n",
    "    summation=[]\n",
    "    # Here only half of k_z is considered because E(kz) is even\n",
    "    for kz_index,energy in enumerate(self.energyall):\n",
    "        if len(energy)>0:\n",
    "            # wf=self.wfall[kz_index].reshape((4,len(self.system.sites),-1))\n",
    "            # summation.append((wf[3,:,:].conj()*wf[0,:,:]-wf[2,:,:].conj()*wf[1,:,:])@self.F_D[kz_index])\n",
    "            wf=self.wfall[kz_index].reshape((len(self.system.sites),4,-1))\n",
    "            summation.append((wf[:,3,:].conj()*wf[:,0,:]-wf[:,2,:].conj()*wf[:,1,:])@self.F_D[kz_index])\n",
    "\n",
    "    ave=np.mean(summation,0)/(2)    \n",
    "    self.Delta_array=self.g*ave\n",
    "    self.update_Delta()"
   ]
  },
  {
   "cell_type": "code",
   "execution_count": 128,
   "metadata": {},
   "outputs": [],
   "source": [
    "def update_Delta(self):\n",
    "        if len(self.Delta_array)==0:\n",
    "            for site in self.system.sites:\n",
    "                self.Delta[site.pos]=self.Delta_0\n",
    "        else:\n",
    "            for site_index,site in enumerate(self.system.sites):\n",
    "                self.Delta[site.pos]=self.Delta_array[site_index]\n",
    "        \n",
    "        self.Delta_mean=np.mean([delta for position,delta in self.Delta.items() if position[0]>0])"
   ]
  },
  {
   "cell_type": "code",
   "execution_count": 129,
   "metadata": {},
   "outputs": [],
   "source": [
    "update_Delta(params)"
   ]
  },
  {
   "cell_type": "code",
   "execution_count": 130,
   "metadata": {},
   "outputs": [
    {
     "data": {
      "text/plain": "0.00034445704922788305"
     },
     "execution_count": 130,
     "metadata": {},
     "output_type": "execute_result"
    }
   ],
   "source": [
    "params.Delta_mean"
   ]
  },
  {
   "cell_type": "code",
   "execution_count": 125,
   "metadata": {},
   "outputs": [],
   "source": [
    "ave2(params)"
   ]
  },
  {
   "cell_type": "code",
   "execution_count": 126,
   "metadata": {},
   "outputs": [
    {
     "data": {
      "text/plain": "[<matplotlib.lines.Line2D at 0x7f54e71100d0>]"
     },
     "execution_count": 126,
     "metadata": {},
     "output_type": "execute_result"
    },
    {
     "data": {
      "image/png": "[encoded data removed]",
      "text/plain": "<Figure size 432x288 with 1 Axes>"
     },
     "metadata": {
      "needs_background": "light"
     },
     "output_type": "display_data"
    }
   ],
   "source": [
    "plt.plot(params.Delta_array)"
   ]
  },
  {
   "cell_type": "code",
   "execution_count": null,
   "metadata": {},
   "outputs": [],
   "source": []
  },
  {
   "cell_type": "code",
   "execution_count": 117,
   "metadata": {},
   "outputs": [
    {
     "data": {
      "text/plain": "[<matplotlib.lines.Line2D at 0x7f54e753cb50>]"
     },
     "execution_count": 117,
     "metadata": {},
     "output_type": "execute_result"
    },
    {
     "data": {
      "image/png": "[encoded data removed]",
      "text/plain": "<Figure size 432x288 with 1 Axes>"
     },
     "metadata": {
      "needs_background": "light"
     },
     "output_type": "display_data"
    }
   ],
   "source": [
    "plt.plot(params.Delta_array)"
   ]
  },
  {
   "cell_type": "code",
   "execution_count": 68,
   "metadata": {},
   "outputs": [],
   "source": [
    "params.estimate_eig()"
   ]
  },
  {
   "cell_type": "code",
   "execution_count": 80,
   "metadata": {},
   "outputs": [
    {
     "data": {
      "text/plain": "12000"
     },
     "execution_count": 80,
     "metadata": {},
     "output_type": "execute_result"
    }
   ],
   "source": [
    "len(params.system.sites)"
   ]
  },
  {
   "cell_type": "code",
   "execution_count": 74,
   "metadata": {},
   "outputs": [],
   "source": [
    "zz,=np.where(params.estimate[:params.N_Al[2]//2]!=0)"
   ]
  },
  {
   "cell_type": "code",
   "execution_count": 63,
   "metadata": {},
   "outputs": [
    {
     "data": {
      "text/plain": "array([ 20,  20,  20,  20,  20,  20,  20,  20,  20,  20,  20,  20,  20,\n        20,  20,  20,  20,  20,  48,  96,  80,  64,  96,  96,  48,  64,\n        96, 128, 128,  96,  96,  96,  64,  96,  96,  32, 128, 160,  96,\n        96,  96,  32, 192, 128, 160,  96,  96,  64, 112, 192])"
     },
     "execution_count": 63,
     "metadata": {},
     "output_type": "execute_result"
    }
   ],
   "source": [
    "np.maximum(params.estimate[:params.N_Al[2]//2],20)"
   ]
  },
  {
   "cell_type": "code",
   "execution_count": 78,
   "metadata": {},
   "outputs": [
    {
     "data": {
      "text/plain": "array([ 20,  20,  20,  20,  20,  20,  20,  20,  20,  20,  20,  20,  20,\n        20,  20,  20,  20,  20,  48,  96,  80,  64,  96,  96,  48,  64,\n        96, 128, 128,  96,  96,  96,  64,  96,  96,  32, 128, 160,  96,\n        96,  96,  32, 192, 128, 160,  96,  96,  64, 112, 192])"
     },
     "execution_count": 78,
     "metadata": {},
     "output_type": "execute_result"
    }
   ],
   "source": [
    "np.maximum(params.estimate[:params.N_Al[2]//2],20)"
   ]
  },
  {
   "cell_type": "code",
   "execution_count": null,
   "metadata": {},
   "outputs": [],
   "source": [
    "params.estimate[:params.N_Al[2]//2]"
   ]
  },
  {
   "cell_type": "code",
   "execution_count": 47,
   "metadata": {},
   "outputs": [
    {
     "data": {
      "text/plain": "array([0])"
     },
     "execution_count": 47,
     "metadata": {},
     "output_type": "execute_result"
    }
   ],
   "source": [
    "zz"
   ]
  },
  {
   "cell_type": "code",
   "execution_count": 43,
   "metadata": {},
   "outputs": [
    {
     "data": {
      "text/plain": "array([99., 99., 99.])"
     },
     "execution_count": 43,
     "metadata": {},
     "output_type": "execute_result"
    }
   ],
   "source": [
    "params.L_Al//params.a"
   ]
  },
  {
   "cell_type": "code",
   "execution_count": 38,
   "metadata": {},
   "outputs": [
    {
     "data": {
      "text/plain": "100"
     },
     "execution_count": 38,
     "metadata": {},
     "output_type": "execute_result"
    }
   ],
   "source": [
    "len(params.estimate)"
   ]
  },
  {
   "cell_type": "code",
   "execution_count": 26,
   "metadata": {},
   "outputs": [
    {
     "data": {
      "text/plain": "12000"
     },
     "execution_count": 26,
     "metadata": {},
     "output_type": "execute_result"
    }
   ],
   "source": [
    "len(list(params.disorder.values()))"
   ]
  },
  {
   "cell_type": "code",
   "execution_count": 27,
   "metadata": {},
   "outputs": [
    {
     "data": {
      "text/plain": "12000"
     },
     "execution_count": 27,
     "metadata": {},
     "output_type": "execute_result"
    }
   ],
   "source": [
    "len(list(params.Delta.values()))"
   ]
  },
  {
   "cell_type": "code",
   "execution_count": 71,
   "metadata": {},
   "outputs": [
    {
     "data": {
      "text/plain": "array([[ 101.65619584,    0.        ,    0.        ,    0.        ],\n       [   0.        ,  101.65619584,    0.        ,    0.        ],\n       [   0.        ,    0.        , -101.65619584,    0.        ],\n       [   0.        ,    0.        ,    0.        , -101.65619584]])"
     },
     "execution_count": 71,
     "metadata": {},
     "output_type": "execute_result"
    }
   ],
   "source": [
    "params.system.hamiltonian(0,0,params=dict(kz_index=1))"
   ]
  },
  {
   "cell_type": "code",
   "execution_count": null,
   "metadata": {},
   "outputs": [],
   "source": [
    "?params.system.hamiltonian"
   ]
  },
  {
   "cell_type": "code",
   "execution_count": null,
   "metadata": {},
   "outputs": [],
   "source": [
    "?params.system.hamiltonian_submatrix"
   ]
  },
  {
   "cell_type": "code",
   "execution_count": 81,
   "metadata": {},
   "outputs": [],
   "source": [
    "zz=params.system.hamiltonian_submatrix(params=dict(kz_index=1),sparse=True)"
   ]
  },
  {
   "cell_type": "code",
   "execution_count": 83,
   "metadata": {},
   "outputs": [
    {
     "data": {
      "text/plain": "(48000, 48000)"
     },
     "execution_count": 83,
     "metadata": {},
     "output_type": "execute_result"
    }
   ],
   "source": [
    "zz.shape"
   ]
  },
  {
   "cell_type": "code",
   "execution_count": 73,
   "metadata": {},
   "outputs": [],
   "source": [
    "zz=params.system.hamiltonian_submatrix(params=dict(kz_index=0),sparse=True)"
   ]
  },
  {
   "cell_type": "code",
   "execution_count": 18,
   "metadata": {},
   "outputs": [
    {
     "data": {
      "text/plain": "(48000, 48000)"
     },
     "execution_count": 18,
     "metadata": {},
     "output_type": "execute_result"
    }
   ],
   "source": [
    "zz.shape"
   ]
  },
  {
   "cell_type": "code",
   "execution_count": 32,
   "metadata": {},
   "outputs": [],
   "source": [
    "val,vec=sla.eigsh(zz,k=22,sigma=0)"
   ]
  },
  {
   "cell_type": "code",
   "execution_count": 35,
   "metadata": {},
   "outputs": [
    {
     "data": {
      "text/plain": "array([-4.19398615,  4.20531291,  4.20500431,  4.19398615,  4.19398615,\n       -4.19398615, -4.20500431, -4.20531291, -4.20500431, -4.20531291,\n        4.20531291,  4.20500431,  4.21633107, -4.21633107,  4.21633107,\n       -4.21633107, -4.22335607, -4.22417828, -4.22335607, -4.22417828,\n        4.22335607,  4.22335607])"
     },
     "execution_count": 35,
     "metadata": {},
     "output_type": "execute_result"
    }
   ],
   "source": [
    "(val)"
   ]
  },
  {
   "cell_type": "code",
   "execution_count": 10,
   "metadata": {},
   "outputs": [
    {
     "data": {
      "text/plain": "['__abstractmethods__',\n '__class__',\n '__delattr__',\n '__dict__',\n '__dir__',\n '__doc__',\n '__eq__',\n '__format__',\n '__ge__',\n '__getattribute__',\n '__gt__',\n '__hash__',\n '__init__',\n '__init_subclass__',\n '__le__',\n '__lt__',\n '__module__',\n '__ne__',\n '__new__',\n '__reduce__',\n '__reduce_ex__',\n '__repr__',\n '__setattr__',\n '__sizeof__',\n '__str__',\n '__subclasshook__',\n '__weakref__',\n '_abc_impl',\n '_cons_law',\n '_init_discrete_symmetries',\n '_symmetries',\n 'discrete_symmetry',\n 'graph',\n 'hamiltonian',\n 'hamiltonian_submatrix',\n 'hoppings',\n 'id_by_site',\n 'lead_interfaces',\n 'lead_paddings',\n 'leads',\n 'onsites',\n 'parameters',\n 'pos',\n 'precalculate',\n 'site_ranges',\n 'sites',\n 'symmetry',\n 'validate_symmetries']"
     },
     "execution_count": 10,
     "metadata": {},
     "output_type": "execute_result"
    }
   ],
   "source": [
    "dir(params.system)"
   ]
  },
  {
   "cell_type": "code",
   "execution_count": 5,
   "metadata": {},
   "outputs": [
    {
     "data": {
      "text/plain": "(2100, 2100)"
     },
     "execution_count": 5,
     "metadata": {},
     "output_type": "execute_result"
    }
   ],
   "source": [
    "zz.shape"
   ]
  },
  {
   "cell_type": "code",
   "execution_count": 263,
   "metadata": {},
   "outputs": [
    {
     "data": {
      "text/plain": "array([0.0025380000000000003, 0.005583600000000001])"
     },
     "execution_count": 263,
     "metadata": {},
     "output_type": "execute_result"
    }
   ],
   "source": [
    "params.system.pos(200)"
   ]
  },
  {
   "cell_type": "code",
   "execution_count": 255,
   "metadata": {},
   "outputs": [
    {
     "data": {
      "text/plain": "array([0.0005076, 0.0005076, 0.0005076])"
     },
     "execution_count": 255,
     "metadata": {},
     "output_type": "execute_result"
    }
   ],
   "source": [
    "params.a"
   ]
  },
  {
   "cell_type": "code",
   "execution_count": 284,
   "metadata": {},
   "outputs": [
    {
     "data": {
      "text/plain": "array([[ 1.87303892e+01+0.j,  0.00000000e+00+0.j,  0.00000000e+00+0.j,\n        -3.50000000e-04+0.j],\n       [ 0.00000000e+00+0.j,  1.87303892e+01+0.j,  3.50000000e-04+0.j,\n         0.00000000e+00+0.j],\n       [ 0.00000000e+00+0.j,  3.50000000e-04+0.j, -1.87303892e+01+0.j,\n         0.00000000e+00+0.j],\n       [-3.50000000e-04+0.j,  0.00000000e+00+0.j,  0.00000000e+00+0.j,\n        -1.87303892e+01+0.j]])"
     },
     "execution_count": 284,
     "metadata": {},
     "output_type": "execute_result"
    }
   ],
   "source": [
    "params.system.hamiltonian(201,201,params=dict(fill_Delta=1))"
   ]
  },
  {
   "cell_type": "code",
   "execution_count": 285,
   "metadata": {},
   "outputs": [
    {
     "data": {
      "text/plain": "array([[ 1.87303892e+01+0.j,  0.00000000e+00+0.j,  0.00000000e+00+0.j,\n        -3.50000000e-04+0.j],\n       [ 0.00000000e+00+0.j,  1.87303892e+01+0.j,  3.50000000e-04+0.j,\n         0.00000000e+00+0.j],\n       [ 0.00000000e+00+0.j,  3.50000000e-04+0.j, -1.87303892e+01+0.j,\n         0.00000000e+00+0.j],\n       [-3.50000000e-04+0.j,  0.00000000e+00+0.j,  0.00000000e+00+0.j,\n        -1.87303892e+01+0.j]])"
     },
     "execution_count": 285,
     "metadata": {},
     "output_type": "execute_result"
    }
   ],
   "source": [
    "i=201\n",
    "zz[i*4:i*4+4,i*4:i*4+4]"
   ]
  },
  {
   "cell_type": "code",
   "execution_count": 266,
   "metadata": {},
   "outputs": [
    {
     "data": {
      "text/plain": "array([[ 1.92870575e+01+0.j,  0.00000000e+00+0.j,  0.00000000e+00+0.j,\n        -3.50000000e-04+0.j],\n       [ 0.00000000e+00+0.j,  1.92870575e+01+0.j,  3.50000000e-04+0.j,\n         0.00000000e+00+0.j],\n       [ 0.00000000e+00+0.j,  3.50000000e-04+0.j, -1.92870575e+01+0.j,\n         0.00000000e+00+0.j],\n       [-3.50000000e-04+0.j,  0.00000000e+00+0.j,  0.00000000e+00+0.j,\n        -1.92870575e+01+0.j]])"
     },
     "execution_count": 266,
     "metadata": {},
     "output_type": "execute_result"
    }
   ],
   "source": [
    "params.system.hamiltonian(202,202,params=dict(fill_Delta=1))"
   ]
  },
  {
   "cell_type": "code",
   "execution_count": 145,
   "metadata": {},
   "outputs": [
    {
     "data": {
      "text/plain": "525"
     },
     "execution_count": 145,
     "metadata": {},
     "output_type": "execute_result"
    }
   ],
   "source": [
    "len(params.system.sites)"
   ]
  },
  {
   "cell_type": "code",
   "execution_count": 222,
   "metadata": {},
   "outputs": [
    {
     "data": {
      "image/png": "[encoded data removed]",
      "text/plain": "<Figure size 720x720 with 1 Axes>"
     },
     "metadata": {
      "needs_background": "light"
     },
     "output_type": "display_data"
    },
    {
     "data": {
      "image/png": "[encoded data removed]",
      "text/plain": "<Figure size 720x720 with 1 Axes>"
     },
     "execution_count": 222,
     "metadata": {},
     "output_type": "execute_result"
    }
   ],
   "source": [
    "kwant.plot(params.system,fig_size=(10,10))"
   ]
  },
  {
   "cell_type": "code",
   "execution_count": 133,
   "metadata": {},
   "outputs": [
    {
     "data": {
      "text/plain": "{}"
     },
     "execution_count": 133,
     "metadata": {},
     "output_type": "execute_result"
    }
   ],
   "source": [
    "params.disorder"
   ]
  },
  {
   "cell_type": "code",
   "execution_count": 98,
   "metadata": {},
   "outputs": [],
   "source": [
    "params.energy_kz()"
   ]
  },
  {
   "cell_type": "code",
   "execution_count": 99,
   "metadata": {},
   "outputs": [],
   "source": [
    "params.Fermi_dist()"
   ]
  },
  {
   "cell_type": "code",
   "execution_count": 100,
   "metadata": {},
   "outputs": [
    {
     "data": {
      "text/plain": "[]"
     },
     "execution_count": 100,
     "metadata": {},
     "output_type": "execute_result"
    }
   ],
   "source": [
    "params.F_D"
   ]
  },
  {
   "cell_type": "code",
   "execution_count": 92,
   "metadata": {},
   "outputs": [
    {
     "data": {
      "text/plain": "[<matplotlib.lines.Line2D at 0x7f27f9f508b0>]"
     },
     "execution_count": 92,
     "metadata": {},
     "output_type": "execute_result"
    },
    {
     "data": {
      "image/png": "[encoded data removed]",
      "text/plain": "<Figure size 432x288 with 1 Axes>"
     },
     "metadata": {
      "needs_background": "light"
     },
     "output_type": "display_data"
    }
   ],
   "source": [
    "plt.plot(params.energy_Al)\n",
    "plt.plot(params.energy_FM)"
   ]
  },
  {
   "cell_type": "code",
   "execution_count": 93,
   "metadata": {},
   "outputs": [
    {
     "data": {
      "text/plain": "array([-6127.21971445, -6003.43749799, -5879.65528154, -5755.87306509,\n       -5632.09084863, -5508.30863218, -5384.52641573, -5260.74419927,\n       -5136.96198282, -5013.17976637, -4889.39754991, -4765.61533346,\n       -4641.83311701, -4518.05090055, -4394.2686841 , -4270.48646765,\n       -4146.70425119, -4022.92203474, -3899.13981829, -3775.35760183,\n       -3651.57538538, -3527.79316892, -3404.01095247, -3280.22873602,\n       -3156.44651956, -3032.66430311, -2908.88208666, -2785.0998702 ,\n       -2661.31765375, -2537.5354373 , -2413.75322084, -2289.97100439,\n       -2166.18878794, -2042.40657148, -1918.62435503, -1794.84213858,\n       -1671.05992212, -1547.27770567, -1423.49548922, -1299.71327276,\n       -1175.93105631, -1052.14883985,  -928.3666234 ,  -804.58440695,\n        -680.80219049,  -557.01997404,  -433.23775759,  -309.45554113,\n        -185.67332468,   -61.89110823,    61.89110823,   185.67332468,\n         309.45554113,   433.23775759,   557.01997404,   680.80219049,\n         804.58440695,   928.3666234 ,  1052.14883985,  1175.93105631,\n        1299.71327276,  1423.49548922,  1547.27770567,  1671.05992212,\n        1794.84213858,  1918.62435503,  2042.40657148,  2166.18878794,\n        2289.97100439,  2413.75322084,  2537.5354373 ,  2661.31765375,\n        2785.0998702 ,  2908.88208666,  3032.66430311,  3156.44651956,\n        3280.22873602,  3404.01095247,  3527.79316892,  3651.57538538,\n        3775.35760183,  3899.13981829,  4022.92203474,  4146.70425119,\n        4270.48646765,  4394.2686841 ,  4518.05090055,  4641.83311701,\n        4765.61533346,  4889.39754991,  5013.17976637,  5136.96198282,\n        5260.74419927,  5384.52641573,  5508.30863218,  5632.09084863,\n        5755.87306509,  5879.65528154,  6003.43749799,  6127.21971445])"
     },
     "execution_count": 93,
     "metadata": {},
     "output_type": "execute_result"
    }
   ],
   "source": [
    "params.kz_list"
   ]
  },
  {
   "cell_type": "code",
   "execution_count": 94,
   "metadata": {},
   "outputs": [],
   "source": [
    "params.estimate_eig()"
   ]
  },
  {
   "cell_type": "code",
   "execution_count": 95,
   "metadata": {},
   "outputs": [
    {
     "data": {
      "text/plain": "[<matplotlib.lines.Line2D at 0x7f27f608bb20>]"
     },
     "execution_count": 95,
     "metadata": {},
     "output_type": "execute_result"
    },
    {
     "data": {
      "image/png": "[encoded data removed]",
      "text/plain": "<Figure size 432x288 with 1 Axes>"
     },
     "metadata": {
      "needs_background": "light"
     },
     "output_type": "display_data"
    }
   ],
   "source": [
    "plt.plot(params.estimate)"
   ]
  },
  {
   "cell_type": "code",
   "execution_count": 54,
   "metadata": {},
   "outputs": [],
   "source": [
    "zz={}\n",
    "for i in range(2):\n",
    "    zz[i]=np.arange(2)"
   ]
  },
  {
   "cell_type": "code",
   "execution_count": 57,
   "metadata": {},
   "outputs": [
    {
     "data": {
      "text/plain": "[array([[0]]), array([[1]])]"
     },
     "execution_count": 57,
     "metadata": {},
     "output_type": "execute_result"
    }
   ],
   "source": [
    "np.meshgrid(*zz)"
   ]
  },
  {
   "cell_type": "code",
   "execution_count": 14,
   "metadata": {},
   "outputs": [
    {
     "ename": "AssertionError",
     "evalue": "error",
     "output_type": "error",
     "traceback": [
      "\u001b[0;31m---------------------------------------------------------------------------\u001b[0m",
      "\u001b[0;31mAssertionError\u001b[0m                            Traceback (most recent call last)",
      "\u001b[0;32m<ipython-input-14-5e41653b5311>\u001b[0m in \u001b[0;36m<module>\u001b[0;34m\u001b[0m\n\u001b[0;32m----> 1\u001b[0;31m \u001b[0;32massert\u001b[0m \u001b[0;32mFalse\u001b[0m\u001b[0;34m,\u001b[0m\u001b[0;34m\"error\"\u001b[0m\u001b[0;34m\u001b[0m\u001b[0;34m\u001b[0m\u001b[0m\n\u001b[0m",
      "\u001b[0;31mAssertionError\u001b[0m: error"
     ]
    }
   ],
   "source": [
    "assert False,\"error\""
   ]
  },
  {
   "cell_type": "code",
   "execution_count": 15,
   "metadata": {},
   "outputs": [
    {
     "ename": "ValueError",
     "evalue": "eee",
     "output_type": "error",
     "traceback": [
      "\u001b[0;31m---------------------------------------------------------------------------\u001b[0m",
      "\u001b[0;31mValueError\u001b[0m                                Traceback (most recent call last)",
      "\u001b[0;32m<ipython-input-15-755de38c5894>\u001b[0m in \u001b[0;36m<module>\u001b[0;34m\u001b[0m\n\u001b[0;32m----> 1\u001b[0;31m \u001b[0;32mraise\u001b[0m \u001b[0mValueError\u001b[0m\u001b[0;34m(\u001b[0m\u001b[0;34m\"eee\"\u001b[0m\u001b[0;34m)\u001b[0m\u001b[0;34m\u001b[0m\u001b[0;34m\u001b[0m\u001b[0m\n\u001b[0m",
      "\u001b[0;31mValueError\u001b[0m: eee"
     ]
    }
   ],
   "source": [
    "class Params:\n",
    "    '''\n",
    "    generate bilayer hetereostructure\n",
    "    example: params=Params(g=1,ED=433)\n",
    "    \n",
    "    '''\n",
    "    def __init__(self,\n",
    "        a=np.array([0.1,0.1,0.1]), # lattice constant (nm)\n",
    "        L_Al=np.array([10,10,5]),   # size of Al (nm)\n",
    "        L_FM=np.array([2,10,5]), # size of FM (nm)\n",
    "        m_Al=1,    # m_e, where m_e is 0.511 MeV\n",
    "        m_FM=1,\n",
    "        EF_Al=11, # Chemical potential of Al in eV\n",
    "        EF_FM=-0.5,\n",
    "        h_exc=0,  # exchange field in eV, acts like Zeeman field\n",
    "        g=5.6,   # Coupling strength in eV\n",
    "        E_D=1,    # Debye temperature in 433 K\n",
    "        T=0,    # Temperature in eV      \n",
    "        U_D=0,     # variance of disorder in eV\n",
    "        periodic_boundary_condition=1, # 1: periodic boundary condition\n",
    "        verbose=True   #verbose\n",
    "        ):\n",
    "        assert L_Al[1]==L_FM[1],\"The y dimension of Al ({}) not same as FM ({})\".format(L_Al[1],L_FM[1])\n",
    "\n",
    "        self.a=np.array(a)*1e-9*5.076e6    # eV^-1\n",
    "        self.L_Al=np.array(L_Al)*1e-9*5.076e6    # eV^-1\n",
    "        self.L_FM=np.array(L_FM)*1e-9*5.076e6   # eV^-1\n",
    "        self.m_Al=m_Al*0.511e6    # eV\n",
    "        self.m_FM=m_FM*0.511e6    # eV\n",
    "        self.EF_Al=EF_Al        # eV\n",
    "        self.EF_FM=EF_FM        # eV\n",
    "        self.h_exc=h_exc        # eV\n",
    "        self.g=g            # eV\n",
    "        self.E_D=E_D*433*8.617333262e-5       # eV\n",
    "        self.T=T            # eV\n",
    "        self.U_D=U_D  # eV\n",
    "        self.periodic_boundary_condition=periodic_boundary_condition\n",
    "        self.verbose=verbose\n",
    "\n",
    "\n",
    "        # self.N=np.rint(self.L/self.a).astype(int)    # Number of grids in the real-sapce mesh\n",
    "        self.s0=np.array([[1,0],[0,1]])\n",
    "        self.sx=np.array([[0,1],[1,0]])\n",
    "        self.sy=np.array([[0,-1j],[1j,0]])\n",
    "        self.sz=np.array([[1,0],[0,-1]])\n",
    "        self.b=2*np.pi/self.a    # reciprocal unit vector in eV\n",
    "        self.t_Al=1/(2*self.m_Al*self.a**2)    # NN hopping of Al in eV\n",
    "        self.t_FM=1/(2*self.m_FM*self.a**2)    # NN hopping of FM in eV\n",
    "        self.m_int=np.sqrt(m_Al*m_FM)\n",
    "        self.t_int=1/(2*self.m_int*self.a**2)    # NN hopping at the interface in eV\n",
    "\n",
    "        # self.disorder=np.random.uniform(-U_D,U_D,())\n",
    "        \n",
    "        # self.variance*np.random.randn(self.N[0],self.N[1])    # disorder profile\n",
    "        # self.Delta=np.zeros((self.N[0],self.N[1]))  \n",
    "        # self.wfall=[[] for _ in range(self.N[2])]\n",
    "        # self.energyall=[[] for _ in range(self.N[2])]    \n",
    "        self.wfall=[]\n",
    "        self.energyall=[]\n",
    "\n",
    "\n",
    "    def energy_kz(self):\n",
    "        kindex=np.arange(self.N[2])\n",
    "        uz=(2*kindex-self.N[2]+1)/(2*self.N[2])\n",
    "        self.kzlist=uz*self.b[2]    # eV^-1\n",
    "        self.energy_Al=2*self.t[2]*(1-np.cos(self.a[2]*self.kzlist))   # eV\n",
    "        return self.energylist\n",
    "    \n",
    "    def estimate_k(self):\n",
    "        k_request=np.zeros(self.N[2])\n",
    "        for kzindex in range(self.N[2]):\n",
    "            kxindex=np.arange(self.N[0])\n",
    "            kyindex=np.arange(self.N[1])        \n",
    "            ux=(2*kxindex-self.N[0]+1)/(2*self.N[0])\n",
    "            uy=(2*kyindex-self.N[1]+1)/(2*self.N[1])\n",
    "            kxlist=ux*self.b[0]\n",
    "            kylist=uy*self.b[1]\n",
    "            kz=self.kzlist[kzindex]\n",
    "            [kxgrid,kygrid]=np.meshgrid(kxlist,kylist)\n",
    "            Emesh=2*self.t[0]*(1-np.cos(kxgrid*self.a[0]))\\\n",
    "                +2*self.t[1]*(1-np.cos(kygrid*self.a[1]))\\\n",
    "                +2*self.t[2]*(1-np.cos(kz*self.a[2]))-self.E_F\n",
    "            k_request[kzindex]=4*np.count_nonzero((Emesh<self.E_D) & (Emesh>-self.E_D))\n",
    "        self.k_request=k_request.astype(int)\n",
    "        return self.k_request\n",
    "    \n",
    "    def Fermi_dist(self):\n",
    "        self.F_D=[1./(np.exp(np.array(energy)/self.T)+1) if len(energy)>0 else [] for energy in self.energyall]\n",
    "        return self.F_D\n"
   ]
  },
  {
   "cell_type": "code",
   "execution_count": 5,
   "metadata": {},
   "outputs": [],
   "source": [
    "x=np.random.rand(2000,2000)"
   ]
  },
  {
   "cell_type": "code",
   "execution_count": 3,
   "metadata": {},
   "outputs": [
    {
     "data": {
      "text/plain": "array([[0.7797932 , 0.8953151 , 0.14383599, ..., 0.55174226, 0.67548541,\n        0.09477704],\n       [0.2773878 , 0.97152523, 0.86985566, ..., 0.10051182, 0.25149315,\n        0.30790199],\n       [0.40373666, 0.43077359, 0.79742827, ..., 0.03423884, 0.02271493,\n        0.35329278],\n       ...,\n       [0.64202836, 0.03812078, 0.8744877 , ..., 0.11265128, 0.57538244,\n        0.86400314],\n       [0.27630545, 0.29227187, 0.91278394, ..., 0.27754341, 0.73006839,\n        0.93438926],\n       [0.60856454, 0.89767812, 0.55927873, ..., 0.53628964, 0.73030519,\n        0.97242069]])"
     },
     "execution_count": 3,
     "metadata": {},
     "output_type": "execute_result"
    }
   ],
   "source": [
    "x"
   ]
  },
  {
   "cell_type": "code",
   "execution_count": 7,
   "metadata": {},
   "outputs": [],
   "source": [
    "import scipy.linalg as la"
   ]
  },
  {
   "cell_type": "code",
   "execution_count": null,
   "metadata": {},
   "outputs": [],
   "source": [
    "la.eigvals()"
   ]
  },
  {
   "cell_type": "code",
   "execution_count": 11,
   "metadata": {},
   "outputs": [
    {
     "name": "stdout",
     "output_type": "stream",
     "text": [
      "4.997797250747681\n"
     ]
    }
   ],
   "source": [
    "st=time.time()\n",
    "la.eig(x)\n",
    "print(time.time()-st)"
   ]
  },
  {
   "cell_type": "code",
   "execution_count": 97,
   "metadata": {},
   "outputs": [
    {
     "name": "stdout",
     "output_type": "stream",
     "text": [
      "kindex=6,min(val)=1.905,max(val)=2.720,\n",
      "len(val)=0\n",
      "kindex=7,min(val)=1.170,max(val)=1.985,\n",
      "len(val)=32\n",
      "kindex=8,min(val)=0.365,max(val)=2.092,\n",
      "len(val)=76\n",
      "kindex=9,min(val)=0.063,max(val)=2.443,\n",
      "len(val)=120\n",
      "kindex=10,min(val)=0.053,max(val)=1.985,\n",
      "len(val)=172\n",
      "kindex=11,min(val)=0.053,max(val)=2.012,\n",
      "len(val)=208\n",
      "kindex=12,min(val)=0.031,max(val)=1.840,\n",
      "k (218) is too small, restart with k (436)\n",
      "len(val)=224\n",
      "kindex=13,min(val)=0.073,max(val)=1.953,\n",
      "len(val)=228\n",
      "kindex=14,min(val)=0.104,max(val)=1.880,\n",
      "len(val)=244\n",
      "kindex=15,min(val)=0.050,max(val)=2.050,\n",
      "len(val)=248\n",
      "kindex=16,min(val)=0.061,max(val)=1.941,\n",
      "len(val)=248\n",
      "kindex=17,min(val)=0.057,max(val)=1.935,\n",
      "len(val)=264\n",
      "kindex=18,min(val)=0.025,max(val)=1.817,\n",
      "k (284) is too small, restart with k (568)\n",
      "len(val)=288\n",
      "kindex=19,min(val)=0.027,max(val)=1.911,\n",
      "len(val)=304\n",
      "kindex=20,min(val)=0.024,max(val)=1.815,\n",
      "k (318) is too small, restart with k (636)\n",
      "len(val)=332\n",
      "kindex=21,min(val)=0.021,max(val)=1.718,\n",
      "k (318) is too small, restart with k (636)\n",
      "len(val)=336\n",
      "kindex=22,min(val)=0.055,max(val)=2.039,\n",
      "len(val)=336\n",
      "kindex=23,min(val)=0.022,max(val)=2.169,\n",
      "len(val)=352\n",
      "kindex=24,min(val)=0.087,max(val)=2.046,\n",
      "len(val)=352\n",
      "Elapsed time is: 43.6808s\n",
      "Average Delta: 0.0183 eV\n",
      "kindex=6,min(val)=1.905,max(val)=2.720,\n",
      "len(val)=0\n",
      "kindex=7,min(val)=1.170,max(val)=1.985,\n",
      "len(val)=32\n",
      "kindex=8,min(val)=0.365,max(val)=2.092,\n",
      "len(val)=76\n",
      "kindex=9,min(val)=0.063,max(val)=2.443,\n",
      "len(val)=120\n",
      "kindex=10,min(val)=0.052,max(val)=1.985,\n",
      "len(val)=172\n",
      "kindex=11,min(val)=0.052,max(val)=2.012,\n",
      "len(val)=208\n",
      "kindex=12,min(val)=0.030,max(val)=1.840,\n",
      "k (218) is too small, restart with k (436)\n",
      "len(val)=224\n",
      "kindex=13,min(val)=0.073,max(val)=1.953,\n",
      "len(val)=228\n",
      "kindex=14,min(val)=0.103,max(val)=1.880,\n",
      "len(val)=244\n",
      "kindex=15,min(val)=0.049,max(val)=2.050,\n",
      "len(val)=248\n",
      "kindex=16,min(val)=0.061,max(val)=1.941,\n",
      "len(val)=248\n",
      "kindex=17,min(val)=0.056,max(val)=1.935,\n",
      "len(val)=264\n",
      "kindex=18,min(val)=0.023,max(val)=1.817,\n",
      "k (284) is too small, restart with k (568)\n",
      "len(val)=288\n",
      "kindex=19,min(val)=0.026,max(val)=1.911,\n",
      "len(val)=304\n",
      "kindex=20,min(val)=0.023,max(val)=1.815,\n",
      "k (318) is too small, restart with k (636)\n",
      "len(val)=332\n",
      "kindex=21,min(val)=0.019,max(val)=1.718,\n",
      "k (318) is too small, restart with k (636)\n",
      "len(val)=336\n",
      "kindex=22,min(val)=0.054,max(val)=2.039,\n",
      "len(val)=336\n",
      "kindex=23,min(val)=0.021,max(val)=2.169,\n",
      "len(val)=352\n",
      "kindex=24,min(val)=0.086,max(val)=2.045,\n",
      "len(val)=352\n",
      "Elapsed time is: 44.1629s\n",
      "Average Delta: 0.0169 eV\n",
      "kindex=6,min(val)=1.905,max(val)=2.720,\n",
      "len(val)=0\n",
      "kindex=7,min(val)=1.170,max(val)=1.985,\n",
      "len(val)=32\n",
      "kindex=8,min(val)=0.365,max(val)=2.092,\n",
      "len(val)=76\n",
      "kindex=9,min(val)=0.062,max(val)=2.443,\n",
      "len(val)=120\n",
      "kindex=10,min(val)=0.052,max(val)=1.985,\n",
      "len(val)=172\n",
      "kindex=11,min(val)=0.052,max(val)=2.012,\n",
      "len(val)=208\n",
      "kindex=12,min(val)=0.029,max(val)=1.840,\n",
      "k (218) is too small, restart with k (436)\n",
      "len(val)=224\n",
      "kindex=13,min(val)=0.073,max(val)=1.953,\n",
      "len(val)=228\n",
      "kindex=14,min(val)=0.103,max(val)=1.880,\n",
      "len(val)=244\n",
      "kindex=15,min(val)=0.049,max(val)=2.050,\n",
      "len(val)=248\n",
      "kindex=16,min(val)=0.061,max(val)=1.941,\n",
      "len(val)=248\n",
      "kindex=17,min(val)=0.056,max(val)=1.935,\n",
      "len(val)=264\n",
      "kindex=18,min(val)=0.022,max(val)=1.817,\n",
      "k (284) is too small, restart with k (568)\n",
      "len(val)=288\n",
      "kindex=19,min(val)=0.025,max(val)=1.911,\n",
      "len(val)=304\n",
      "kindex=20,min(val)=0.022,max(val)=1.815,\n",
      "k (318) is too small, restart with k (636)\n",
      "len(val)=332\n",
      "kindex=21,min(val)=0.018,max(val)=1.718,\n",
      "k (318) is too small, restart with k (636)\n",
      "len(val)=336\n",
      "kindex=22,min(val)=0.054,max(val)=2.039,\n",
      "len(val)=336\n",
      "kindex=23,min(val)=0.020,max(val)=2.169,\n",
      "len(val)=352\n",
      "kindex=24,min(val)=0.086,max(val)=2.045,\n",
      "len(val)=352\n",
      "Elapsed time is: 42.5520s\n",
      "Average Delta: 0.0159 eV\n",
      "kindex=6,min(val)=1.905,max(val)=2.720,\n",
      "len(val)=0\n",
      "kindex=7,min(val)=1.170,max(val)=1.985,\n",
      "len(val)=32\n",
      "kindex=8,min(val)=0.365,max(val)=2.092,\n",
      "len(val)=76\n",
      "kindex=9,min(val)=0.062,max(val)=2.443,\n",
      "len(val)=120\n",
      "kindex=10,min(val)=0.052,max(val)=1.985,\n",
      "len(val)=172\n",
      "kindex=11,min(val)=0.052,max(val)=2.012,\n",
      "len(val)=208\n",
      "kindex=12,min(val)=0.029,max(val)=1.840,\n",
      "k (218) is too small, restart with k (436)\n",
      "len(val)=224\n",
      "kindex=13,min(val)=0.072,max(val)=1.953,\n",
      "len(val)=228\n",
      "kindex=14,min(val)=0.103,max(val)=1.880,\n",
      "len(val)=244\n",
      "kindex=15,min(val)=0.048,max(val)=2.050,\n",
      "len(val)=248\n",
      "kindex=16,min(val)=0.060,max(val)=1.941,\n",
      "len(val)=248\n",
      "kindex=17,min(val)=0.056,max(val)=1.935,\n",
      "len(val)=264\n",
      "kindex=18,min(val)=0.022,max(val)=1.817,\n",
      "k (284) is too small, restart with k (568)\n",
      "len(val)=288\n",
      "kindex=19,min(val)=0.025,max(val)=1.911,\n",
      "len(val)=304\n",
      "kindex=20,min(val)=0.021,max(val)=1.815,\n",
      "k (318) is too small, restart with k (636)\n",
      "len(val)=332\n",
      "kindex=21,min(val)=0.017,max(val)=1.718,\n",
      "k (318) is too small, restart with k (636)\n",
      "len(val)=336\n",
      "kindex=22,min(val)=0.054,max(val)=2.039,\n",
      "len(val)=336\n",
      "kindex=23,min(val)=0.019,max(val)=2.169,\n",
      "len(val)=352\n",
      "kindex=24,min(val)=0.086,max(val)=2.045,\n",
      "len(val)=352\n",
      "Elapsed time is: 37.5256s\n",
      "Average Delta: 0.0150 eV\n",
      "kindex=6,min(val)=1.905,max(val)=2.720,\n",
      "len(val)=0\n",
      "kindex=7,min(val)=1.170,max(val)=1.985,\n",
      "len(val)=32\n",
      "kindex=8,min(val)=0.365,max(val)=2.092,\n",
      "len(val)=76\n",
      "kindex=9,min(val)=0.062,max(val)=2.443,\n",
      "len(val)=120\n",
      "kindex=10,min(val)=0.051,max(val)=1.985,\n",
      "len(val)=172\n",
      "kindex=11,min(val)=0.051,max(val)=2.012,\n",
      "len(val)=208\n",
      "kindex=12,min(val)=0.028,max(val)=1.840,\n",
      "k (218) is too small, restart with k (436)\n",
      "len(val)=224\n",
      "kindex=13,min(val)=0.072,max(val)=1.953,\n",
      "len(val)=228\n",
      "kindex=14,min(val)=0.103,max(val)=1.880,\n",
      "len(val)=244\n",
      "kindex=15,min(val)=0.048,max(val)=2.050,\n",
      "len(val)=248\n",
      "kindex=16,min(val)=0.060,max(val)=1.941,\n",
      "len(val)=248\n",
      "kindex=17,min(val)=0.055,max(val)=1.935,\n",
      "len(val)=264\n",
      "kindex=18,min(val)=0.021,max(val)=1.817,\n",
      "k (284) is too small, restart with k (568)\n",
      "len(val)=288\n",
      "kindex=19,min(val)=0.024,max(val)=1.911,\n",
      "len(val)=304\n",
      "kindex=20,min(val)=0.021,max(val)=1.815,\n",
      "k (318) is too small, restart with k (636)\n",
      "len(val)=332\n",
      "kindex=21,min(val)=0.016,max(val)=1.718,\n",
      "k (318) is too small, restart with k (636)\n",
      "len(val)=336\n",
      "kindex=22,min(val)=0.053,max(val)=2.039,\n",
      "len(val)=336\n",
      "kindex=23,min(val)=0.018,max(val)=2.169,\n",
      "len(val)=352\n",
      "kindex=24,min(val)=0.086,max(val)=2.045,\n",
      "len(val)=352\n",
      "Elapsed time is: 42.0488s\n",
      "Average Delta: 0.0143 eV\n",
      "kindex=6,min(val)=1.905,max(val)=2.720,\n",
      "len(val)=0\n",
      "kindex=7,min(val)=1.170,max(val)=1.985,\n",
      "len(val)=32\n",
      "kindex=8,min(val)=0.365,max(val)=2.092,\n",
      "len(val)=76\n",
      "kindex=9,min(val)=0.062,max(val)=2.443,\n",
      "len(val)=120\n",
      "kindex=10,min(val)=0.051,max(val)=1.985,\n",
      "len(val)=172\n",
      "kindex=11,min(val)=0.051,max(val)=2.012,\n",
      "len(val)=208\n",
      "kindex=12,min(val)=0.028,max(val)=1.840,\n",
      "k (218) is too small, restart with k (436)\n",
      "len(val)=224\n",
      "kindex=13,min(val)=0.072,max(val)=1.953,\n",
      "len(val)=228\n",
      "kindex=14,min(val)=0.103,max(val)=1.880,\n",
      "len(val)=244\n",
      "kindex=15,min(val)=0.048,max(val)=2.050,\n",
      "len(val)=248\n",
      "kindex=16,min(val)=0.060,max(val)=1.941,\n",
      "len(val)=248\n",
      "kindex=17,min(val)=0.055,max(val)=1.935,\n",
      "len(val)=264\n",
      "kindex=18,min(val)=0.020,max(val)=1.817,\n",
      "k (284) is too small, restart with k (568)\n",
      "len(val)=288\n",
      "kindex=19,min(val)=0.024,max(val)=1.911,\n",
      "len(val)=304\n",
      "kindex=20,min(val)=0.020,max(val)=1.815,\n",
      "k (318) is too small, restart with k (636)\n",
      "len(val)=332\n",
      "kindex=21,min(val)=0.016,max(val)=1.718,\n",
      "k (318) is too small, restart with k (636)\n",
      "len(val)=336\n",
      "kindex=22,min(val)=0.053,max(val)=2.039,\n",
      "len(val)=336\n",
      "kindex=23,min(val)=0.018,max(val)=2.169,\n",
      "len(val)=352\n",
      "kindex=24,min(val)=0.085,max(val)=2.045,\n",
      "len(val)=352\n",
      "Elapsed time is: 41.9565s\n",
      "Average Delta: 0.0137 eV\n",
      "kindex=6,min(val)=1.905,max(val)=2.720,\n",
      "len(val)=0\n",
      "kindex=7,min(val)=1.170,max(val)=1.985,\n",
      "len(val)=32\n",
      "kindex=8,min(val)=0.365,max(val)=2.092,\n",
      "len(val)=76\n",
      "kindex=9,min(val)=0.061,max(val)=2.443,\n",
      "len(val)=120\n",
      "kindex=10,min(val)=0.051,max(val)=1.985,\n",
      "len(val)=172\n",
      "kindex=11,min(val)=0.051,max(val)=2.012,\n",
      "len(val)=208\n",
      "kindex=12,min(val)=0.027,max(val)=1.840,\n",
      "k (218) is too small, restart with k (436)\n",
      "len(val)=224\n",
      "kindex=13,min(val)=0.072,max(val)=1.953,\n",
      "len(val)=228\n",
      "kindex=14,min(val)=0.103,max(val)=1.880,\n",
      "len(val)=244\n",
      "kindex=15,min(val)=0.048,max(val)=2.050,\n",
      "len(val)=248\n",
      "kindex=16,min(val)=0.060,max(val)=1.941,\n",
      "len(val)=248\n",
      "kindex=17,min(val)=0.055,max(val)=1.935,\n",
      "len(val)=264\n",
      "kindex=18,min(val)=0.020,max(val)=1.817,\n",
      "k (284) is too small, restart with k (568)\n",
      "len(val)=288\n",
      "kindex=19,min(val)=0.023,max(val)=1.911,\n",
      "len(val)=304\n",
      "kindex=20,min(val)=0.020,max(val)=1.815,\n",
      "k (318) is too small, restart with k (636)\n",
      "len(val)=332\n",
      "kindex=21,min(val)=0.015,max(val)=1.718,\n",
      "k (318) is too small, restart with k (636)\n"
     ]
    },
    {
     "ename": "KeyboardInterrupt",
     "evalue": "",
     "output_type": "error",
     "traceback": [
      "\u001b[0;31m---------------------------------------------------------------------------\u001b[0m",
      "\u001b[0;31mKeyboardInterrupt\u001b[0m                         Traceback (most recent call last)",
      "\u001b[0;32m<ipython-input-97-7d88c23c37dc>\u001b[0m in \u001b[0;36m<module>\u001b[0;34m\u001b[0m\n\u001b[1;32m      3\u001b[0m \u001b[0mp\u001b[0m\u001b[0;34m.\u001b[0m\u001b[0mestimate_k\u001b[0m\u001b[0;34m(\u001b[0m\u001b[0;34m)\u001b[0m\u001b[0;34m\u001b[0m\u001b[0;34m\u001b[0m\u001b[0m\n\u001b[1;32m      4\u001b[0m \u001b[0;34m\u001b[0m\u001b[0m\n\u001b[0;32m----> 5\u001b[0;31m \u001b[0miter\u001b[0m\u001b[0;34m(\u001b[0m\u001b[0;36m2e-2\u001b[0m\u001b[0;34m,\u001b[0m\u001b[0mp\u001b[0m\u001b[0;34m)\u001b[0m\u001b[0;34m\u001b[0m\u001b[0;34m\u001b[0m\u001b[0m\n\u001b[0m",
      "\u001b[0;32m<ipython-input-46-5e301d8d1136>\u001b[0m in \u001b[0;36miter\u001b[0;34m(initial, param)\u001b[0m\n\u001b[1;32m     12\u001b[0m         \u001b[0;32mif\u001b[0m \u001b[0mnp\u001b[0m\u001b[0;34m.\u001b[0m\u001b[0mabs\u001b[0m\u001b[0;34m(\u001b[0m\u001b[0mDeltalist\u001b[0m\u001b[0;34m[\u001b[0m\u001b[0mi\u001b[0m\u001b[0;34m]\u001b[0m\u001b[0;34m.\u001b[0m\u001b[0mmean\u001b[0m\u001b[0;34m(\u001b[0m\u001b[0;34m)\u001b[0m\u001b[0;34m-\u001b[0m\u001b[0mDeltalist\u001b[0m\u001b[0;34m[\u001b[0m\u001b[0mi\u001b[0m\u001b[0;34m-\u001b[0m\u001b[0;36m1\u001b[0m\u001b[0;34m]\u001b[0m\u001b[0;34m.\u001b[0m\u001b[0mmean\u001b[0m\u001b[0;34m(\u001b[0m\u001b[0;34m)\u001b[0m\u001b[0;34m)\u001b[0m\u001b[0;34m<\u001b[0m\u001b[0;36m1e-8\u001b[0m\u001b[0;34m:\u001b[0m\u001b[0;34m\u001b[0m\u001b[0;34m\u001b[0m\u001b[0m\n\u001b[1;32m     13\u001b[0m             \u001b[0;32mbreak\u001b[0m\u001b[0;34m\u001b[0m\u001b[0;34m\u001b[0m\u001b[0m\n\u001b[0;32m---> 14\u001b[0;31m         \u001b[0menergyMF\u001b[0m\u001b[0;34m(\u001b[0m\u001b[0mparam\u001b[0m\u001b[0;34m)\u001b[0m\u001b[0;34m\u001b[0m\u001b[0;34m\u001b[0m\u001b[0m\n\u001b[0m\u001b[1;32m     15\u001b[0m \u001b[0;34m\u001b[0m\u001b[0m\n",
      "\u001b[0;32m<ipython-input-96-11bfd7bc1cd8>\u001b[0m in \u001b[0;36menergyMF\u001b[0;34m(param)\u001b[0m\n\u001b[1;32m     24\u001b[0m             \u001b[0mk_req\u001b[0m\u001b[0;34m=\u001b[0m\u001b[0mk_req\u001b[0m\u001b[0;34m*\u001b[0m\u001b[0;36m2\u001b[0m\u001b[0;34m\u001b[0m\u001b[0;34m\u001b[0m\u001b[0m\n\u001b[1;32m     25\u001b[0m             \u001b[0;32mif\u001b[0m \u001b[0mlen\u001b[0m\u001b[0;34m(\u001b[0m\u001b[0mparam\u001b[0m\u001b[0;34m.\u001b[0m\u001b[0menergyall\u001b[0m\u001b[0;34m[\u001b[0m\u001b[0mkindex\u001b[0m\u001b[0;34m]\u001b[0m\u001b[0;34m)\u001b[0m\u001b[0;34m>\u001b[0m\u001b[0;36m0\u001b[0m\u001b[0;34m:\u001b[0m\u001b[0;34m\u001b[0m\u001b[0;34m\u001b[0m\u001b[0m\n\u001b[0;32m---> 26\u001b[0;31m                 \u001b[0mval\u001b[0m\u001b[0;34m,\u001b[0m\u001b[0mvec\u001b[0m\u001b[0;34m=\u001b[0m\u001b[0msla\u001b[0m\u001b[0;34m.\u001b[0m\u001b[0meigsh\u001b[0m\u001b[0;34m(\u001b[0m\u001b[0mH_bdg\u001b[0m\u001b[0;34m,\u001b[0m\u001b[0mk\u001b[0m\u001b[0;34m=\u001b[0m\u001b[0mk_req\u001b[0m\u001b[0;34m,\u001b[0m\u001b[0msigma\u001b[0m\u001b[0;34m=\u001b[0m\u001b[0;36m0\u001b[0m\u001b[0;34m,\u001b[0m\u001b[0mv0\u001b[0m\u001b[0;34m=\u001b[0m\u001b[0mparam\u001b[0m\u001b[0;34m.\u001b[0m\u001b[0mwfall\u001b[0m\u001b[0;34m[\u001b[0m\u001b[0mkindex\u001b[0m\u001b[0;34m]\u001b[0m\u001b[0;34m[\u001b[0m\u001b[0;34m:\u001b[0m\u001b[0;34m,\u001b[0m\u001b[0;36m0\u001b[0m\u001b[0;34m]\u001b[0m\u001b[0;34m)\u001b[0m\u001b[0;34m\u001b[0m\u001b[0;34m\u001b[0m\u001b[0m\n\u001b[0m\u001b[1;32m     27\u001b[0m             \u001b[0;32melse\u001b[0m\u001b[0;34m:\u001b[0m\u001b[0;34m\u001b[0m\u001b[0;34m\u001b[0m\u001b[0m\n\u001b[1;32m     28\u001b[0m                 \u001b[0mval\u001b[0m\u001b[0;34m,\u001b[0m\u001b[0mvec\u001b[0m\u001b[0;34m=\u001b[0m\u001b[0msla\u001b[0m\u001b[0;34m.\u001b[0m\u001b[0meigsh\u001b[0m\u001b[0;34m(\u001b[0m\u001b[0mH_bdg\u001b[0m\u001b[0;34m,\u001b[0m\u001b[0mk\u001b[0m\u001b[0;34m=\u001b[0m\u001b[0mk_req\u001b[0m\u001b[0;34m,\u001b[0m\u001b[0msigma\u001b[0m\u001b[0;34m=\u001b[0m\u001b[0;36m0\u001b[0m\u001b[0;34m)\u001b[0m\u001b[0;34m\u001b[0m\u001b[0;34m\u001b[0m\u001b[0m\n",
      "\u001b[0;32m~/anaconda3/lib/python3.8/site-packages/scipy/sparse/linalg/eigen/arpack/arpack.py\u001b[0m in \u001b[0;36meigsh\u001b[0;34m(A, k, M, sigma, which, v0, ncv, maxiter, tol, return_eigenvectors, Minv, OPinv, mode)\u001b[0m\n\u001b[1;32m   1685\u001b[0m     \u001b[0;32mwith\u001b[0m \u001b[0m_ARPACK_LOCK\u001b[0m\u001b[0;34m:\u001b[0m\u001b[0;34m\u001b[0m\u001b[0;34m\u001b[0m\u001b[0m\n\u001b[1;32m   1686\u001b[0m         \u001b[0;32mwhile\u001b[0m \u001b[0;32mnot\u001b[0m \u001b[0mparams\u001b[0m\u001b[0;34m.\u001b[0m\u001b[0mconverged\u001b[0m\u001b[0;34m:\u001b[0m\u001b[0;34m\u001b[0m\u001b[0;34m\u001b[0m\u001b[0m\n\u001b[0;32m-> 1687\u001b[0;31m             \u001b[0mparams\u001b[0m\u001b[0;34m.\u001b[0m\u001b[0miterate\u001b[0m\u001b[0;34m(\u001b[0m\u001b[0;34m)\u001b[0m\u001b[0;34m\u001b[0m\u001b[0;34m\u001b[0m\u001b[0m\n\u001b[0m\u001b[1;32m   1688\u001b[0m \u001b[0;34m\u001b[0m\u001b[0m\n\u001b[1;32m   1689\u001b[0m         \u001b[0;32mreturn\u001b[0m \u001b[0mparams\u001b[0m\u001b[0;34m.\u001b[0m\u001b[0mextract\u001b[0m\u001b[0;34m(\u001b[0m\u001b[0mreturn_eigenvectors\u001b[0m\u001b[0;34m)\u001b[0m\u001b[0;34m\u001b[0m\u001b[0;34m\u001b[0m\u001b[0m\n",
      "\u001b[0;32m~/anaconda3/lib/python3.8/site-packages/scipy/sparse/linalg/eigen/arpack/arpack.py\u001b[0m in \u001b[0;36miterate\u001b[0;34m(self)\u001b[0m\n\u001b[1;32m    535\u001b[0m     \u001b[0;32mdef\u001b[0m \u001b[0miterate\u001b[0m\u001b[0;34m(\u001b[0m\u001b[0mself\u001b[0m\u001b[0;34m)\u001b[0m\u001b[0;34m:\u001b[0m\u001b[0;34m\u001b[0m\u001b[0;34m\u001b[0m\u001b[0m\n\u001b[1;32m    536\u001b[0m         \u001b[0mself\u001b[0m\u001b[0;34m.\u001b[0m\u001b[0mido\u001b[0m\u001b[0;34m,\u001b[0m \u001b[0mself\u001b[0m\u001b[0;34m.\u001b[0m\u001b[0mtol\u001b[0m\u001b[0;34m,\u001b[0m \u001b[0mself\u001b[0m\u001b[0;34m.\u001b[0m\u001b[0mresid\u001b[0m\u001b[0;34m,\u001b[0m \u001b[0mself\u001b[0m\u001b[0;34m.\u001b[0m\u001b[0mv\u001b[0m\u001b[0;34m,\u001b[0m \u001b[0mself\u001b[0m\u001b[0;34m.\u001b[0m\u001b[0miparam\u001b[0m\u001b[0;34m,\u001b[0m \u001b[0mself\u001b[0m\u001b[0;34m.\u001b[0m\u001b[0mipntr\u001b[0m\u001b[0;34m,\u001b[0m \u001b[0mself\u001b[0m\u001b[0;34m.\u001b[0m\u001b[0minfo\u001b[0m \u001b[0;34m=\u001b[0m\u001b[0;31m \u001b[0m\u001b[0;31m\\\u001b[0m\u001b[0;34m\u001b[0m\u001b[0;34m\u001b[0m\u001b[0m\n\u001b[0;32m--> 537\u001b[0;31m             self._arpack_solver(self.ido, self.bmat, self.which, self.k,\n\u001b[0m\u001b[1;32m    538\u001b[0m                                 \u001b[0mself\u001b[0m\u001b[0;34m.\u001b[0m\u001b[0mtol\u001b[0m\u001b[0;34m,\u001b[0m \u001b[0mself\u001b[0m\u001b[0;34m.\u001b[0m\u001b[0mresid\u001b[0m\u001b[0;34m,\u001b[0m \u001b[0mself\u001b[0m\u001b[0;34m.\u001b[0m\u001b[0mv\u001b[0m\u001b[0;34m,\u001b[0m \u001b[0mself\u001b[0m\u001b[0;34m.\u001b[0m\u001b[0miparam\u001b[0m\u001b[0;34m,\u001b[0m\u001b[0;34m\u001b[0m\u001b[0;34m\u001b[0m\u001b[0m\n\u001b[1;32m    539\u001b[0m                                 self.ipntr, self.workd, self.workl, self.info)\n",
      "\u001b[0;31mKeyboardInterrupt\u001b[0m: "
     ]
    }
   ],
   "source": [
    "p=Params(L=[25e-10,25e-10,50e-10],E_D=50*433,periodic_boundary_condition=0)\n",
    "p.energy_kz()\n",
    "p.estimate_k()\n",
    "\n",
    "iter(2e-2,p)"
   ]
  },
  {
   "cell_type": "code",
   "execution_count": 32,
   "metadata": {},
   "outputs": [],
   "source": [
    "import matplotlib.pyplot as plt"
   ]
  },
  {
   "cell_type": "code",
   "execution_count": 98,
   "metadata": {},
   "outputs": [
    {
     "data": {
      "text/plain": [
       "Text(0.5, 1.0, '0.013720508545789972')"
      ]
     },
     "execution_count": 98,
     "metadata": {},
     "output_type": "execute_result"
    },
    {
     "data": {
      "image/png": "[encoded data removed]",
      "image/svg+xml": "<?xml version=\"1.0\" encoding=\"utf-8\" standalone=\"no\"?>\n<!DOCTYPE svg PUBLIC \"-//W3C//DTD SVG 1.1//EN\"\n  \"http://www.w3.org/Graphics/SVG/1.1/DTD/svg11.dtd\">\n<!-- Created with matplotlib (https://matplotlib.org/) -->\n<svg height=\"263.63625pt\" version=\"1.1\" viewBox=\"0 0 251.565 263.63625\" width=\"251.565pt\" xmlns=\"http://www.w3.org/2000/svg\" xmlns:xlink=\"http://www.w3.org/1999/xlink\">\n <metadata>\n  <rdf:RDF xmlns:cc=\"http://creativecommons.org/ns#\" xmlns:dc=\"http://purl.org/dc/elements/1.1/\" xmlns:rdf=\"http://www.w3.org/1999/02/22-rdf-syntax-ns#\">\n   <cc:Work>\n    <dc:type rdf:resource=\"http://purl.org/dc/dcmitype/StillImage\"/>\n    <dc:date>2021-02-23T12:51:11.215518</dc:date>\n    <dc:format>image/svg+xml</dc:format>\n    <dc:creator>\n     <cc:Agent>\n      <dc:title>Matplotlib v3.3.2, https://matplotlib.org/</dc:title>\n     </cc:Agent>\n    </dc:creator>\n   </cc:Work>\n  </rdf:RDF>\n </metadata>\n <defs>\n  <style type=\"text/css\">*{stroke-linecap:butt;stroke-linejoin:round;}</style>\n </defs>\n <g id=\"figure_1\">\n  <g id=\"patch_1\">\n   <path d=\"M 0 263.63625 \nL 251.565 263.63625 \nL 251.565 0 \nL 0 0 \nz\n\" style=\"fill:none;\"/>\n  </g>\n  <g id=\"axes_1\">\n   <g id=\"patch_2\">\n    <path d=\"M 26.925 239.758125 \nL 244.365 239.758125 \nL 244.365 22.318125 \nL 26.925 22.318125 \nz\n\" style=\"fill:#ffffff;\"/>\n   </g>\n   <g clip-path=\"url(#pc89a6b33aa)\">\n    <image height=\"218\" id=\"imagee56daeb8c9\" transform=\"scale(1 -1)translate(0 -218)\" width=\"218\" x=\"26.925\" xlink:href=\"data:image/png;base64,\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\" y=\"-21.758125\"/>\n   </g>\n   <g id=\"matplotlib.axis_1\">\n    <g id=\"xtick_1\">\n     <g id=\"line2d_1\">\n      <defs>\n       <path d=\"M 0 0 \nL 0 3.5 \n\" id=\"mbe7f6d3708\" style=\"stroke:#000000;stroke-width:0.8;\"/>\n      </defs>\n      <g>\n       <use style=\"stroke:#000000;stroke-width:0.8;\" x=\"31.2738\" xlink:href=\"#mbe7f6d3708\" y=\"239.758125\"/>\n      </g>\n     </g>\n     <g id=\"text_1\">\n      <!-- 0 -->\n      <g transform=\"translate(28.09255 254.356563)scale(0.1 -0.1)\">\n       <defs>\n        <path d=\"M 31.78125 66.40625 \nQ 24.171875 66.40625 20.328125 58.90625 \nQ 16.5 51.421875 16.5 36.375 \nQ 16.5 21.390625 20.328125 13.890625 \nQ 24.171875 6.390625 31.78125 6.390625 \nQ 39.453125 6.390625 43.28125 13.890625 \nQ 47.125 21.390625 47.125 36.375 \nQ 47.125 51.421875 43.28125 58.90625 \nQ 39.453125 66.40625 31.78125 66.40625 \nz\nM 31.78125 74.21875 \nQ 44.046875 74.21875 50.515625 64.515625 \nQ 56.984375 54.828125 56.984375 36.375 \nQ 56.984375 17.96875 50.515625 8.265625 \nQ 44.046875 -1.421875 31.78125 -1.421875 \nQ 19.53125 -1.421875 13.0625 8.265625 \nQ 6.59375 17.96875 6.59375 36.375 \nQ 6.59375 54.828125 13.0625 64.515625 \nQ 19.53125 74.21875 31.78125 74.21875 \nz\n\" id=\"DejaVuSans-48\"/>\n       </defs>\n       <use xlink:href=\"#DejaVuSans-48\"/>\n      </g>\n     </g>\n    </g>\n    <g id=\"xtick_2\">\n     <g id=\"line2d_2\">\n      <g>\n       <use style=\"stroke:#000000;stroke-width:0.8;\" x=\"74.7618\" xlink:href=\"#mbe7f6d3708\" y=\"239.758125\"/>\n      </g>\n     </g>\n     <g id=\"text_2\">\n      <!-- 5 -->\n      <g transform=\"translate(71.58055 254.356563)scale(0.1 -0.1)\">\n       <defs>\n        <path d=\"M 10.796875 72.90625 \nL 49.515625 72.90625 \nL 49.515625 64.59375 \nL 19.828125 64.59375 \nL 19.828125 46.734375 \nQ 21.96875 47.46875 24.109375 47.828125 \nQ 26.265625 48.1875 28.421875 48.1875 \nQ 40.625 48.1875 47.75 41.5 \nQ 54.890625 34.8125 54.890625 23.390625 \nQ 54.890625 11.625 47.5625 5.09375 \nQ 40.234375 -1.421875 26.90625 -1.421875 \nQ 22.3125 -1.421875 17.546875 -0.640625 \nQ 12.796875 0.140625 7.71875 1.703125 \nL 7.71875 11.625 \nQ 12.109375 9.234375 16.796875 8.0625 \nQ 21.484375 6.890625 26.703125 6.890625 \nQ 35.15625 6.890625 40.078125 11.328125 \nQ 45.015625 15.765625 45.015625 23.390625 \nQ 45.015625 31 40.078125 35.4375 \nQ 35.15625 39.890625 26.703125 39.890625 \nQ 22.75 39.890625 18.8125 39.015625 \nQ 14.890625 38.140625 10.796875 36.28125 \nz\n\" id=\"DejaVuSans-53\"/>\n       </defs>\n       <use xlink:href=\"#DejaVuSans-53\"/>\n      </g>\n     </g>\n    </g>\n    <g id=\"xtick_3\">\n     <g id=\"line2d_3\">\n      <g>\n       <use style=\"stroke:#000000;stroke-width:0.8;\" x=\"118.2498\" xlink:href=\"#mbe7f6d3708\" y=\"239.758125\"/>\n      </g>\n     </g>\n     <g id=\"text_3\">\n      <!-- 10 -->\n      <g transform=\"translate(111.8873 254.356563)scale(0.1 -0.1)\">\n       <defs>\n        <path d=\"M 12.40625 8.296875 \nL 28.515625 8.296875 \nL 28.515625 63.921875 \nL 10.984375 60.40625 \nL 10.984375 69.390625 \nL 28.421875 72.90625 \nL 38.28125 72.90625 \nL 38.28125 8.296875 \nL 54.390625 8.296875 \nL 54.390625 0 \nL 12.40625 0 \nz\n\" id=\"DejaVuSans-49\"/>\n       </defs>\n       <use xlink:href=\"#DejaVuSans-49\"/>\n       <use x=\"63.623047\" xlink:href=\"#DejaVuSans-48\"/>\n      </g>\n     </g>\n    </g>\n    <g id=\"xtick_4\">\n     <g id=\"line2d_4\">\n      <g>\n       <use style=\"stroke:#000000;stroke-width:0.8;\" x=\"161.7378\" xlink:href=\"#mbe7f6d3708\" y=\"239.758125\"/>\n      </g>\n     </g>\n     <g id=\"text_4\">\n      <!-- 15 -->\n      <g transform=\"translate(155.3753 254.356563)scale(0.1 -0.1)\">\n       <use xlink:href=\"#DejaVuSans-49\"/>\n       <use x=\"63.623047\" xlink:href=\"#DejaVuSans-53\"/>\n      </g>\n     </g>\n    </g>\n    <g id=\"xtick_5\">\n     <g id=\"line2d_5\">\n      <g>\n       <use style=\"stroke:#000000;stroke-width:0.8;\" x=\"205.2258\" xlink:href=\"#mbe7f6d3708\" y=\"239.758125\"/>\n      </g>\n     </g>\n     <g id=\"text_5\">\n      <!-- 20 -->\n      <g transform=\"translate(198.8633 254.356563)scale(0.1 -0.1)\">\n       <defs>\n        <path d=\"M 19.1875 8.296875 \nL 53.609375 8.296875 \nL 53.609375 0 \nL 7.328125 0 \nL 7.328125 8.296875 \nQ 12.9375 14.109375 22.625 23.890625 \nQ 32.328125 33.6875 34.8125 36.53125 \nQ 39.546875 41.84375 41.421875 45.53125 \nQ 43.3125 49.21875 43.3125 52.78125 \nQ 43.3125 58.59375 39.234375 62.25 \nQ 35.15625 65.921875 28.609375 65.921875 \nQ 23.96875 65.921875 18.8125 64.3125 \nQ 13.671875 62.703125 7.8125 59.421875 \nL 7.8125 69.390625 \nQ 13.765625 71.78125 18.9375 73 \nQ 24.125 74.21875 28.421875 74.21875 \nQ 39.75 74.21875 46.484375 68.546875 \nQ 53.21875 62.890625 53.21875 53.421875 \nQ 53.21875 48.921875 51.53125 44.890625 \nQ 49.859375 40.875 45.40625 35.40625 \nQ 44.1875 33.984375 37.640625 27.21875 \nQ 31.109375 20.453125 19.1875 8.296875 \nz\n\" id=\"DejaVuSans-50\"/>\n       </defs>\n       <use xlink:href=\"#DejaVuSans-50\"/>\n       <use x=\"63.623047\" xlink:href=\"#DejaVuSans-48\"/>\n      </g>\n     </g>\n    </g>\n   </g>\n   <g id=\"matplotlib.axis_2\">\n    <g id=\"ytick_1\">\n     <g id=\"line2d_6\">\n      <defs>\n       <path d=\"M 0 0 \nL -3.5 0 \n\" id=\"mb29f202317\" style=\"stroke:#000000;stroke-width:0.8;\"/>\n      </defs>\n      <g>\n       <use style=\"stroke:#000000;stroke-width:0.8;\" x=\"26.925\" xlink:href=\"#mb29f202317\" y=\"26.666925\"/>\n      </g>\n     </g>\n     <g id=\"text_6\">\n      <!-- 0 -->\n      <g transform=\"translate(13.5625 30.466144)scale(0.1 -0.1)\">\n       <use xlink:href=\"#DejaVuSans-48\"/>\n      </g>\n     </g>\n    </g>\n    <g id=\"ytick_2\">\n     <g id=\"line2d_7\">\n      <g>\n       <use style=\"stroke:#000000;stroke-width:0.8;\" x=\"26.925\" xlink:href=\"#mb29f202317\" y=\"70.154925\"/>\n      </g>\n     </g>\n     <g id=\"text_7\">\n      <!-- 5 -->\n      <g transform=\"translate(13.5625 73.954144)scale(0.1 -0.1)\">\n       <use xlink:href=\"#DejaVuSans-53\"/>\n      </g>\n     </g>\n    </g>\n    <g id=\"ytick_3\">\n     <g id=\"line2d_8\">\n      <g>\n       <use style=\"stroke:#000000;stroke-width:0.8;\" x=\"26.925\" xlink:href=\"#mb29f202317\" y=\"113.642925\"/>\n      </g>\n     </g>\n     <g id=\"text_8\">\n      <!-- 10 -->\n      <g transform=\"translate(7.2 117.442144)scale(0.1 -0.1)\">\n       <use xlink:href=\"#DejaVuSans-49\"/>\n       <use x=\"63.623047\" xlink:href=\"#DejaVuSans-48\"/>\n      </g>\n     </g>\n    </g>\n    <g id=\"ytick_4\">\n     <g id=\"line2d_9\">\n      <g>\n       <use style=\"stroke:#000000;stroke-width:0.8;\" x=\"26.925\" xlink:href=\"#mb29f202317\" y=\"157.130925\"/>\n      </g>\n     </g>\n     <g id=\"text_9\">\n      <!-- 15 -->\n      <g transform=\"translate(7.2 160.930144)scale(0.1 -0.1)\">\n       <use xlink:href=\"#DejaVuSans-49\"/>\n       <use x=\"63.623047\" xlink:href=\"#DejaVuSans-53\"/>\n      </g>\n     </g>\n    </g>\n    <g id=\"ytick_5\">\n     <g id=\"line2d_10\">\n      <g>\n       <use style=\"stroke:#000000;stroke-width:0.8;\" x=\"26.925\" xlink:href=\"#mb29f202317\" y=\"200.618925\"/>\n      </g>\n     </g>\n     <g id=\"text_10\">\n      <!-- 20 -->\n      <g transform=\"translate(7.2 204.418144)scale(0.1 -0.1)\">\n       <use xlink:href=\"#DejaVuSans-50\"/>\n       <use x=\"63.623047\" xlink:href=\"#DejaVuSans-48\"/>\n      </g>\n     </g>\n    </g>\n   </g>\n   <g id=\"patch_3\">\n    <path d=\"M 26.925 239.758125 \nL 26.925 22.318125 \n\" style=\"fill:none;stroke:#000000;stroke-linecap:square;stroke-linejoin:miter;stroke-width:0.8;\"/>\n   </g>\n   <g id=\"patch_4\">\n    <path d=\"M 244.365 239.758125 \nL 244.365 22.318125 \n\" style=\"fill:none;stroke:#000000;stroke-linecap:square;stroke-linejoin:miter;stroke-width:0.8;\"/>\n   </g>\n   <g id=\"patch_5\">\n    <path d=\"M 26.925 239.758125 \nL 244.365 239.758125 \n\" style=\"fill:none;stroke:#000000;stroke-linecap:square;stroke-linejoin:miter;stroke-width:0.8;\"/>\n   </g>\n   <g id=\"patch_6\">\n    <path d=\"M 26.925 22.318125 \nL 244.365 22.318125 \n\" style=\"fill:none;stroke:#000000;stroke-linecap:square;stroke-linejoin:miter;stroke-width:0.8;\"/>\n   </g>\n   <g id=\"text_11\">\n    <!-- 0.013720508545789972 -->\n    <g transform=\"translate(61.205625 16.318125)scale(0.12 -0.12)\">\n     <defs>\n      <path d=\"M 10.6875 12.40625 \nL 21 12.40625 \nL 21 0 \nL 10.6875 0 \nz\n\" id=\"DejaVuSans-46\"/>\n      <path d=\"M 40.578125 39.3125 \nQ 47.65625 37.796875 51.625 33 \nQ 55.609375 28.21875 55.609375 21.1875 \nQ 55.609375 10.40625 48.1875 4.484375 \nQ 40.765625 -1.421875 27.09375 -1.421875 \nQ 22.515625 -1.421875 17.65625 -0.515625 \nQ 12.796875 0.390625 7.625 2.203125 \nL 7.625 11.71875 \nQ 11.71875 9.328125 16.59375 8.109375 \nQ 21.484375 6.890625 26.8125 6.890625 \nQ 36.078125 6.890625 40.9375 10.546875 \nQ 45.796875 14.203125 45.796875 21.1875 \nQ 45.796875 27.640625 41.28125 31.265625 \nQ 36.765625 34.90625 28.71875 34.90625 \nL 20.21875 34.90625 \nL 20.21875 43.015625 \nL 29.109375 43.015625 \nQ 36.375 43.015625 40.234375 45.921875 \nQ 44.09375 48.828125 44.09375 54.296875 \nQ 44.09375 59.90625 40.109375 62.90625 \nQ 36.140625 65.921875 28.71875 65.921875 \nQ 24.65625 65.921875 20.015625 65.03125 \nQ 15.375 64.15625 9.8125 62.3125 \nL 9.8125 71.09375 \nQ 15.4375 72.65625 20.34375 73.4375 \nQ 25.25 74.21875 29.59375 74.21875 \nQ 40.828125 74.21875 47.359375 69.109375 \nQ 53.90625 64.015625 53.90625 55.328125 \nQ 53.90625 49.265625 50.4375 45.09375 \nQ 46.96875 40.921875 40.578125 39.3125 \nz\n\" id=\"DejaVuSans-51\"/>\n      <path d=\"M 8.203125 72.90625 \nL 55.078125 72.90625 \nL 55.078125 68.703125 \nL 28.609375 0 \nL 18.3125 0 \nL 43.21875 64.59375 \nL 8.203125 64.59375 \nz\n\" id=\"DejaVuSans-55\"/>\n      <path d=\"M 31.78125 34.625 \nQ 24.75 34.625 20.71875 30.859375 \nQ 16.703125 27.09375 16.703125 20.515625 \nQ 16.703125 13.921875 20.71875 10.15625 \nQ 24.75 6.390625 31.78125 6.390625 \nQ 38.8125 6.390625 42.859375 10.171875 \nQ 46.921875 13.96875 46.921875 20.515625 \nQ 46.921875 27.09375 42.890625 30.859375 \nQ 38.875 34.625 31.78125 34.625 \nz\nM 21.921875 38.8125 \nQ 15.578125 40.375 12.03125 44.71875 \nQ 8.5 49.078125 8.5 55.328125 \nQ 8.5 64.0625 14.71875 69.140625 \nQ 20.953125 74.21875 31.78125 74.21875 \nQ 42.671875 74.21875 48.875 69.140625 \nQ 55.078125 64.0625 55.078125 55.328125 \nQ 55.078125 49.078125 51.53125 44.71875 \nQ 48 40.375 41.703125 38.8125 \nQ 48.828125 37.15625 52.796875 32.3125 \nQ 56.78125 27.484375 56.78125 20.515625 \nQ 56.78125 9.90625 50.3125 4.234375 \nQ 43.84375 -1.421875 31.78125 -1.421875 \nQ 19.734375 -1.421875 13.25 4.234375 \nQ 6.78125 9.90625 6.78125 20.515625 \nQ 6.78125 27.484375 10.78125 32.3125 \nQ 14.796875 37.15625 21.921875 38.8125 \nz\nM 18.3125 54.390625 \nQ 18.3125 48.734375 21.84375 45.5625 \nQ 25.390625 42.390625 31.78125 42.390625 \nQ 38.140625 42.390625 41.71875 45.5625 \nQ 45.3125 48.734375 45.3125 54.390625 \nQ 45.3125 60.0625 41.71875 63.234375 \nQ 38.140625 66.40625 31.78125 66.40625 \nQ 25.390625 66.40625 21.84375 63.234375 \nQ 18.3125 60.0625 18.3125 54.390625 \nz\n\" id=\"DejaVuSans-56\"/>\n      <path d=\"M 37.796875 64.3125 \nL 12.890625 25.390625 \nL 37.796875 25.390625 \nz\nM 35.203125 72.90625 \nL 47.609375 72.90625 \nL 47.609375 25.390625 \nL 58.015625 25.390625 \nL 58.015625 17.1875 \nL 47.609375 17.1875 \nL 47.609375 0 \nL 37.796875 0 \nL 37.796875 17.1875 \nL 4.890625 17.1875 \nL 4.890625 26.703125 \nz\n\" id=\"DejaVuSans-52\"/>\n      <path d=\"M 10.984375 1.515625 \nL 10.984375 10.5 \nQ 14.703125 8.734375 18.5 7.8125 \nQ 22.3125 6.890625 25.984375 6.890625 \nQ 35.75 6.890625 40.890625 13.453125 \nQ 46.046875 20.015625 46.78125 33.40625 \nQ 43.953125 29.203125 39.59375 26.953125 \nQ 35.25 24.703125 29.984375 24.703125 \nQ 19.046875 24.703125 12.671875 31.3125 \nQ 6.296875 37.9375 6.296875 49.421875 \nQ 6.296875 60.640625 12.9375 67.421875 \nQ 19.578125 74.21875 30.609375 74.21875 \nQ 43.265625 74.21875 49.921875 64.515625 \nQ 56.59375 54.828125 56.59375 36.375 \nQ 56.59375 19.140625 48.40625 8.859375 \nQ 40.234375 -1.421875 26.421875 -1.421875 \nQ 22.703125 -1.421875 18.890625 -0.6875 \nQ 15.09375 0.046875 10.984375 1.515625 \nz\nM 30.609375 32.421875 \nQ 37.25 32.421875 41.125 36.953125 \nQ 45.015625 41.5 45.015625 49.421875 \nQ 45.015625 57.28125 41.125 61.84375 \nQ 37.25 66.40625 30.609375 66.40625 \nQ 23.96875 66.40625 20.09375 61.84375 \nQ 16.21875 57.28125 16.21875 49.421875 \nQ 16.21875 41.5 20.09375 36.953125 \nQ 23.96875 32.421875 30.609375 32.421875 \nz\n\" id=\"DejaVuSans-57\"/>\n     </defs>\n     <use xlink:href=\"#DejaVuSans-48\"/>\n     <use x=\"63.623047\" xlink:href=\"#DejaVuSans-46\"/>\n     <use x=\"95.410156\" xlink:href=\"#DejaVuSans-48\"/>\n     <use x=\"159.033203\" xlink:href=\"#DejaVuSans-49\"/>\n     <use x=\"222.65625\" xlink:href=\"#DejaVuSans-51\"/>\n     <use x=\"286.279297\" xlink:href=\"#DejaVuSans-55\"/>\n     <use x=\"349.902344\" xlink:href=\"#DejaVuSans-50\"/>\n     <use x=\"413.525391\" xlink:href=\"#DejaVuSans-48\"/>\n     <use x=\"477.148438\" xlink:href=\"#DejaVuSans-53\"/>\n     <use x=\"540.771484\" xlink:href=\"#DejaVuSans-48\"/>\n     <use x=\"604.394531\" xlink:href=\"#DejaVuSans-56\"/>\n     <use x=\"668.017578\" xlink:href=\"#DejaVuSans-53\"/>\n     <use x=\"731.640625\" xlink:href=\"#DejaVuSans-52\"/>\n     <use x=\"795.263672\" xlink:href=\"#DejaVuSans-53\"/>\n     <use x=\"858.886719\" xlink:href=\"#DejaVuSans-55\"/>\n     <use x=\"922.509766\" xlink:href=\"#DejaVuSans-56\"/>\n     <use x=\"986.132812\" xlink:href=\"#DejaVuSans-57\"/>\n     <use x=\"1049.755859\" xlink:href=\"#DejaVuSans-57\"/>\n     <use x=\"1113.378906\" xlink:href=\"#DejaVuSans-55\"/>\n     <use x=\"1177.001953\" xlink:href=\"#DejaVuSans-50\"/>\n    </g>\n   </g>\n  </g>\n </g>\n <defs>\n  <clipPath id=\"pc89a6b33aa\">\n   <rect height=\"217.44\" width=\"217.44\" x=\"26.925\" y=\"22.318125\"/>\n  </clipPath>\n </defs>\n</svg>\n",
      "text/plain": "<Figure size 432x288 with 1 Axes>"
     },
     "metadata": {
      "needs_background": "light"
     },
     "output_type": "display_data"
    }
   ],
   "source": [
    "fig,ax=plt.subplots()\n",
    "ax.imshow(p.Delta)\n",
    "ax.set_title(p.Delta.mean())"
   ]
  },
  {
   "cell_type": "code",
   "execution_count": null,
   "metadata": {},
   "outputs": [],
   "source": []
  }
 ],
 "metadata": {
  "kernelspec": {
   "display_name": "Python 3.8.5 64-bit ('base': conda)",
   "name": "python385jvsc74a57bd06aee4f39eba147985a2c1cbf1db4ebecc02362fa8877deaa860706b7b1b97f3d"
  },
  "language_info": {
   "codemirror_mode": {
    "name": "ipython",
    "version": 3
   },
   "file_extension": ".py",
   "mimetype": "text/x-python",
   "name": "python",
   "nbconvert_exporter": "python",
   "pygments_lexer": "ipython3",
   "version": "3.8.5"
  },
  "orig_nbformat": 2
 },
 "nbformat": 4,
 "nbformat_minor": 2
}