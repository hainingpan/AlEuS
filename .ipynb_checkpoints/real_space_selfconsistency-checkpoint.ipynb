{
 "cells": [
  {
   "cell_type": "code",
   "execution_count": 1,
   "metadata": {
    "scrolled": true
   },
   "outputs": [
    {
     "name": "stdout",
     "output_type": "stream",
     "text": [
      "Killed old intances of ipcluster.\n",
      "Launching 150 engines in a ipcluster.\n",
      "Waiting for 0 seconds for the log-file.\n",
      "2021-02-19 08:09:38.149 [IPClusterStart] Attempting to load config file: ipcluster_config.py\n",
      "2021-02-19 08:09:38.149 [IPClusterStart] Looking for ipcluster_config in /etc/ipython\n",
      "2021-02-19 08:09:38.149 [IPClusterStart] Looking for ipcluster_config in /usr/local/etc/ipython\n",
      "2021-02-19 08:09:38.149 [IPClusterStart] Looking for ipcluster_config in /home/cxliu/miniconda3/etc/ipython\n",
      "2021-02-19 08:09:38.150 [IPClusterStart] Looking for ipcluster_config in /home/cxliu/.ipython/profile_pbs_20GB\n",
      "2021-02-19 08:09:38.150 [IPClusterStart] Loaded config file: /home/cxliu/.ipython/profile_pbs_20GB/ipcluster_config.py\n",
      "2021-02-19 08:09:38.150 [IPClusterStart] Looking for ipcluster_config in /home/cxliu\n",
      "Found the log-file (/home/cxliu/.ipython/profile_pbs_20GB/log/ipcluster-21439.log) in 0 seconds.\n",
      "2021-02-19 08:09:38.330 [IPClusterStart] Starting ipcluster with [daemon=True]\n",
      "2021-02-19 08:09:38.337 [IPClusterStart] Creating pid file: /home/cxliu/.ipython/profile_pbs_20GB/pid/ipcluster.pid\n",
      "2021-02-19 08:09:38.337 [IPClusterStart] Starting Controller with PBSControllerLauncher\n",
      "2021-02-19 08:09:38.338 [IPClusterStart] Starting PBSControllerLauncher: ['qsub', './pbs_controller']\n",
      "2021-02-19 08:09:38.338 [IPClusterStart] adding job array settings to batch script\n",
      "2021-02-19 08:09:38.338 [IPClusterStart] Writing batch script: ./pbs_controller\n",
      "2021-02-19 08:09:38.626 [IPClusterStart] Job submitted with job id: '276946'\n",
      "2021-02-19 08:09:38.626 [IPClusterStart] Process 'qsub' started: '276946'\n",
      "2021-02-19 08:09:39.628 [IPClusterStart] Starting 150 Engines with PBSEngineSetLauncher\n",
      "2021-02-19 08:09:39.628 [IPClusterStart] Starting PBSEngineSetLauncher: ['qsub', './pbs_engines']\n",
      "2021-02-19 08:09:39.629 [IPClusterStart] Writing batch script: ./pbs_engines\n",
      "2021-02-19 08:09:39.919 [IPClusterStart] Job submitted with job id: '276947'\n",
      "2021-02-19 08:09:39.919 [IPClusterStart] Process 'qsub' started: '276947'\n",
      "2021-02-19 08:10:09.950 [IPClusterStart] Engines appear to have started successfully\n",
      "The log-file reports \"Engines appear to have started successfully\".                                 \n",
      "Copied over .ipython/profile_pbs_20GB/security/ipcontroller-client.json in 1 attempt.               \n",
      "Connected to the `ipcluster` using an `ipyparallel.Client`.\n",
      "Connected to 17 out of 150 engines after 0 seconds.                                                 \n",
      "Connected to 149 out of 150 engines after 18 seconds.                                               \n",
      "Connected to 150 out of 150 engines after 21 seconds.                                               \n",
      "Adding ~/work_sp2/Poisson_Solver to path.\n"
     ]
    }
   ],
   "source": [
    "import hpc05\n",
    "client, dview, lview = hpc05.start_remote_and_connect(150, hostname='hpc05', profile='pbs_20GB',\n",
    "    folder='~/work_sp2/Poisson_Solver')"
   ]
  },
  {
   "cell_type": "code",
   "execution_count": 1,
   "metadata": {},
   "outputs": [],
   "source": [
    "%matplotlib inline\n",
    "import matplotlib.pyplot as plt"
   ]
  },
  {
   "cell_type": "code",
   "execution_count": 5,
   "metadata": {},
   "outputs": [],
   "source": [
    "# %%px\n",
    "import numpy as np\n",
    "import kwant\n",
    "# import general_functions as gen"
   ]
  },
  {
   "cell_type": "code",
   "execution_count": 3,
   "metadata": {},
   "outputs": [
    {
     "output_type": "error",
     "ename": "ModuleNotFoundError",
     "evalue": "No module named 'general_functions'",
     "traceback": [
      "\u001b[0;31m---------------------------------------------------------------------------\u001b[0m",
      "\u001b[0;31mModuleNotFoundError\u001b[0m                       Traceback (most recent call last)",
      "\u001b[0;32m<ipython-input-3-cf533781c152>\u001b[0m in \u001b[0;36m<module>\u001b[0;34m\u001b[0m\n\u001b[1;32m      3\u001b[0m \u001b[0;32mimport\u001b[0m \u001b[0msys\u001b[0m\u001b[0;34m\u001b[0m\u001b[0;34m\u001b[0m\u001b[0m\n\u001b[1;32m      4\u001b[0m \u001b[0msys\u001b[0m\u001b[0;34m.\u001b[0m\u001b[0mpath\u001b[0m\u001b[0;34m.\u001b[0m\u001b[0mappend\u001b[0m\u001b[0;34m(\u001b[0m\u001b[0;34m'../General'\u001b[0m\u001b[0;34m)\u001b[0m\u001b[0;34m\u001b[0m\u001b[0;34m\u001b[0m\u001b[0m\n\u001b[0;32m----> 5\u001b[0;31m \u001b[0;32mimport\u001b[0m \u001b[0mgeneral_functions\u001b[0m \u001b[0;32mas\u001b[0m \u001b[0mgen\u001b[0m\u001b[0;34m\u001b[0m\u001b[0;34m\u001b[0m\u001b[0m\n\u001b[0m",
      "\u001b[0;31mModuleNotFoundError\u001b[0m: No module named 'general_functions'"
     ]
    }
   ],
   "source": [
    "import numpy as np\n",
    "import kwant\n",
    "import sys\n",
    "sys.path.append('../General')\n",
    "import general_functions as gen"
   ]
  },
  {
   "cell_type": "code",
   "execution_count": null,
   "metadata": {},
   "outputs": [],
   "source": []
  },
  {
   "cell_type": "code",
   "execution_count": null,
   "metadata": {},
   "outputs": [],
   "source": []
  },
  {
   "cell_type": "code",
   "execution_count": 3,
   "metadata": {},
   "outputs": [],
   "source": [
    "#%%px --local\n",
    "sigma_0 = np.array([[1, 0], [0, 1]]) \n",
    "sigma_x = np.array([[0, 1], [1, 0]])\n",
    "sigma_y = np.array([[0, -1j], [1j, 0]])\n",
    "sigma_z = np.array([[1, 0], [0, -1]])\n",
    "\n",
    "tau_0 = np.array([[1, 0], [0, 1]]) \n",
    "tau_x = np.array([[0, 1], [1, 0]])\n",
    "tau_y = np.array([[0, -1j], [1j, 0]])\n",
    "tau_z = np.array([[1, 0], [0, -1]])"
   ]
  },
  {
   "cell_type": "code",
   "execution_count": 10,
   "metadata": {},
   "outputs": [],
   "source": [
    "import scipy.sparse.linalg as sla\n",
    "from scipy.sparse import identity\n",
    "import kwant.linalg.mumps as mumps\n",
    "import numpy.linalg as LA\n",
    "import numpy as np"
   ]
  },
  {
   "cell_type": "code",
   "execution_count": 416,
   "metadata": {},
   "outputs": [],
   "source": [
    "import tinyarray"
   ]
  },
  {
   "cell_type": "code",
   "execution_count": 6,
   "metadata": {},
   "outputs": [],
   "source": [
    "#%%px --local\n",
    "def make_bare_Al(a=0.1, width=2.5, thickness=2.5, periodic_boundary=False):\n",
    "    '''\n",
    "    Parameters:\n",
    "    -------------\n",
    "    a: lattice constant in unit of nm\n",
    "    width: width of Al in unit of nm\n",
    "    thickness: thickness of Al in unit of nm\n",
    "    \n",
    "    Returns:\n",
    "    ----------\n",
    "    finalized kwant syst\n",
    "    '''\n",
    "    \n",
    "    def shape(pos):\n",
    "        x, y = pos\n",
    "        in_x = -width / 2.0 <= x <= width / 2.0\n",
    "        in_y = 0 <= y <= thickness\n",
    "        return in_x and in_y\n",
    "    \n",
    "    def onsite(site, t_Al, E_F, Delta, k):\n",
    "        x, y = site.pos\n",
    "        return (6 * t_Al - E_F - 2 * t_Al * np.cos(k)) * np.kron(tau_z, sigma_0) \\\n",
    "            + Delta(x, y) * np.kron(tau_y, sigma_y)\n",
    "    \n",
    "    def hopping(site1, site2, t_Al):\n",
    "        return -t_Al * np.kron(tau_z, sigma_0)\n",
    "    \n",
    "    lat = kwant.lattice.square(a)\n",
    "    syst = kwant.Builder()\n",
    "    syst[lat.shape(shape, (0, 0))] = onsite\n",
    "    syst[lat.neighbors()] = hopping\n",
    "    return syst.finalized()"
   ]
  },
  {
   "cell_type": "code",
   "execution_count": 7,
   "metadata": {},
   "outputs": [],
   "source": [
    "#%%px --local\n",
    "def n_F(E, kT):\n",
    "    return 1.0 / (np.exp(E/kT) + 1.0) "
   ]
  },
  {
   "cell_type": "code",
   "execution_count": 8,
   "metadata": {},
   "outputs": [],
   "source": [
    "#%%px --local\n",
    "def get_Delta_fun(positions, Deltas):\n",
    "    def Delta(x, y):\n",
    "        r = np.array([[x, y]])\n",
    "        sqdist = np.sum((positions - r)**2, axis=1) # find the point closet to (x, y)\n",
    "        return Deltas[np.argmin(sqdist)]\n",
    "    return Delta"
   ]
  },
  {
   "cell_type": "code",
   "execution_count": 9,
   "metadata": {},
   "outputs": [],
   "source": [
    "#%%px --local\n",
    "def Delta_selfconsistency(syst, ham_params, g=1e4, N=400, E_cutoff=1.8565e3, kT=1e-6):\n",
    "    es, wfs = gen.eigen_problem(\n",
    "        syst=syst,\n",
    "        ham_params=ham_params,\n",
    "        sparse_matrix=True,\n",
    "        k=N,\n",
    "        return_wf=True\n",
    "    )\n",
    "\n",
    "    u_su, v_sd = wfs[0::4, :], wfs[3::4, :]\n",
    "    vu = np.multiply(np.conj(v_sd), u_su)\n",
    "    n_F_E = np.multiply(n_F(E=es, kT=kT), np.heaviside(E_cutoff - abs(es), 0))\n",
    "    Deltas = g * np.matmul(vu, n_F_E)\n",
    "    return Deltas"
   ]
  },
  {
   "cell_type": "code",
   "execution_count": 64,
   "metadata": {},
   "outputs": [
    {
     "data": {
      "text/plain": [
       "0.0"
      ]
     },
     "execution_count": 64,
     "metadata": {},
     "output_type": "execute_result"
    }
   ],
   "source": [
    "np.heaviside(-2, 0)"
   ]
  },
  {
   "cell_type": "code",
   "execution_count": null,
   "metadata": {},
   "outputs": [],
   "source": []
  },
  {
   "cell_type": "code",
   "execution_count": null,
   "metadata": {},
   "outputs": [],
   "source": []
  },
  {
   "cell_type": "markdown",
   "metadata": {},
   "source": [
    "# 1. Band structure"
   ]
  },
  {
   "cell_type": "code",
   "execution_count": 9,
   "metadata": {},
   "outputs": [],
   "source": [
    "%%px --local\n",
    "def band_par_k(k):\n",
    "    N = 400\n",
    "    bare_Al_ham_params['k'] = k\n",
    "    es = gen.eigen_problem(\n",
    "        syst=bare_Al,\n",
    "        ham_params=bare_Al_ham_params,\n",
    "        sparse_matrix=True,\n",
    "        k=N,\n",
    "        return_wf=False\n",
    "    )\n",
    "    ks = k * np.ones(N)\n",
    "    Eks = es\n",
    "    return ks, Eks"
   ]
  },
  {
   "cell_type": "code",
   "execution_count": 11,
   "metadata": {},
   "outputs": [],
   "source": [
    "%%px\n",
    "bare_Al_geo_params = dict(\n",
    "    a=0.1,\n",
    "    width=2.5,\n",
    "    thickness=2.5,\n",
    "    periodic_boundary=False\n",
    ")\n",
    "bare_Al = make_bare_Al(**bare_Al_geo_params)"
   ]
  },
  {
   "cell_type": "code",
   "execution_count": 12,
   "metadata": {},
   "outputs": [],
   "source": [
    "%%px\n",
    "positions_Al = gen.get_positions(syst=bare_Al)\n",
    "Deltas_ansatz = 7 * np.ones(np.shape(positions_Al)[0])\n",
    "Delta_fun = get_Delta_fun(positions=positions_Al, Deltas=Deltas_ansatz)\n",
    "t_Al = gen.t_function(m_eff=1.0, a=0.1)\n",
    "\n",
    "bare_Al_ham_params = dict(\n",
    "    t_Al=t_Al,\n",
    "    E_F=11.27e3,\n",
    "    Delta=Delta_fun,\n",
    "    k=0.0\n",
    ")"
   ]
  },
  {
   "cell_type": "code",
   "execution_count": 16,
   "metadata": {},
   "outputs": [
    {
     "name": "stdout",
     "output_type": "stream",
     "text": [
      " 300/300 tasks finished after  440 s\n",
      "done\n"
     ]
    }
   ],
   "source": [
    "k_range = np.linspace(-np.pi, np.pi, 300)\n",
    "result = lview.map_async(band_par_k, k_range)\n",
    "result.wait_interactive()\n",
    "result = result.get()"
   ]
  },
  {
   "cell_type": "code",
   "execution_count": 17,
   "metadata": {},
   "outputs": [],
   "source": [
    "k_E = np.asarray(result)\n",
    "ks = k_E[:, 0, :].flatten()\n",
    "Eks = k_E[:, 1, :].flatten()"
   ]
  },
  {
   "cell_type": "code",
   "execution_count": 50,
   "metadata": {},
   "outputs": [
    {
     "ename": "NameError",
     "evalue": "name 'k_range' is not defined",
     "output_type": "error",
     "traceback": [
      "\u001b[0;31m---------------------------------------------------------------------------\u001b[0m",
      "\u001b[0;31mNameError\u001b[0m                                 Traceback (most recent call last)",
      "\u001b[0;32m<ipython-input-50-13d55a8f75cf>\u001b[0m in \u001b[0;36m<module>\u001b[0;34m\u001b[0m\n\u001b[1;32m      1\u001b[0m \u001b[0mplt\u001b[0m\u001b[0;34m.\u001b[0m\u001b[0mfigure\u001b[0m\u001b[0;34m(\u001b[0m\u001b[0mfigsize\u001b[0m\u001b[0;34m=\u001b[0m\u001b[0;34m(\u001b[0m\u001b[0;36m8.5\u001b[0m\u001b[0;34m,\u001b[0m \u001b[0;36m6\u001b[0m\u001b[0;34m)\u001b[0m\u001b[0;34m)\u001b[0m\u001b[0;34m\u001b[0m\u001b[0;34m\u001b[0m\u001b[0m\n\u001b[0;32m----> 2\u001b[0;31m \u001b[0mplt\u001b[0m\u001b[0;34m.\u001b[0m\u001b[0mplot\u001b[0m\u001b[0;34m(\u001b[0m\u001b[0mk_range\u001b[0m\u001b[0;34m,\u001b[0m \u001b[0;36m7\u001b[0m \u001b[0;34m*\u001b[0m \u001b[0mnp\u001b[0m\u001b[0;34m.\u001b[0m\u001b[0mones\u001b[0m\u001b[0;34m(\u001b[0m\u001b[0mlen\u001b[0m\u001b[0;34m(\u001b[0m\u001b[0mk_range\u001b[0m\u001b[0;34m)\u001b[0m\u001b[0;34m)\u001b[0m\u001b[0;34m,\u001b[0m \u001b[0mc\u001b[0m\u001b[0;34m=\u001b[0m\u001b[0;34m'red'\u001b[0m\u001b[0;34m,\u001b[0m \u001b[0mls\u001b[0m\u001b[0;34m=\u001b[0m\u001b[0;34m'--'\u001b[0m\u001b[0;34m)\u001b[0m\u001b[0;34m\u001b[0m\u001b[0;34m\u001b[0m\u001b[0m\n\u001b[0m\u001b[1;32m      3\u001b[0m \u001b[0mplt\u001b[0m\u001b[0;34m.\u001b[0m\u001b[0mplot\u001b[0m\u001b[0;34m(\u001b[0m\u001b[0mk_range\u001b[0m\u001b[0;34m,\u001b[0m \u001b[0;34m-\u001b[0m\u001b[0;36m7\u001b[0m \u001b[0;34m*\u001b[0m \u001b[0mnp\u001b[0m\u001b[0;34m.\u001b[0m\u001b[0mones\u001b[0m\u001b[0;34m(\u001b[0m\u001b[0mlen\u001b[0m\u001b[0;34m(\u001b[0m\u001b[0mk_range\u001b[0m\u001b[0;34m)\u001b[0m\u001b[0;34m)\u001b[0m\u001b[0;34m,\u001b[0m \u001b[0mc\u001b[0m\u001b[0;34m=\u001b[0m\u001b[0;34m'red'\u001b[0m\u001b[0;34m,\u001b[0m \u001b[0mls\u001b[0m\u001b[0;34m=\u001b[0m\u001b[0;34m'--'\u001b[0m\u001b[0;34m)\u001b[0m\u001b[0;34m\u001b[0m\u001b[0;34m\u001b[0m\u001b[0m\n\u001b[1;32m      4\u001b[0m \u001b[0mplt\u001b[0m\u001b[0;34m.\u001b[0m\u001b[0mplot\u001b[0m\u001b[0;34m(\u001b[0m\u001b[0mk_range\u001b[0m\u001b[0;34m,\u001b[0m \u001b[0;36m0.0\u001b[0m \u001b[0;34m*\u001b[0m \u001b[0mnp\u001b[0m\u001b[0;34m.\u001b[0m\u001b[0mones\u001b[0m\u001b[0;34m(\u001b[0m\u001b[0mlen\u001b[0m\u001b[0;34m(\u001b[0m\u001b[0mk_range\u001b[0m\u001b[0;34m)\u001b[0m\u001b[0;34m)\u001b[0m\u001b[0;34m,\u001b[0m \u001b[0mc\u001b[0m\u001b[0;34m=\u001b[0m\u001b[0;34m'k'\u001b[0m\u001b[0;34m,\u001b[0m \u001b[0mls\u001b[0m\u001b[0;34m=\u001b[0m\u001b[0;34m'--'\u001b[0m\u001b[0;34m)\u001b[0m\u001b[0;34m\u001b[0m\u001b[0;34m\u001b[0m\u001b[0m\n\u001b[1;32m      5\u001b[0m \u001b[0mplt\u001b[0m\u001b[0;34m.\u001b[0m\u001b[0mscatter\u001b[0m\u001b[0;34m(\u001b[0m\u001b[0mks\u001b[0m\u001b[0;34m,\u001b[0m \u001b[0mEks\u001b[0m\u001b[0;34m,\u001b[0m \u001b[0ms\u001b[0m\u001b[0;34m=\u001b[0m\u001b[0;36m4\u001b[0m\u001b[0;34m)\u001b[0m\u001b[0;34m\u001b[0m\u001b[0;34m\u001b[0m\u001b[0m\n",
      "\u001b[0;31mNameError\u001b[0m: name 'k_range' is not defined"
     ]
    },
    {
     "data": {
      "text/plain": [
       "<Figure size 612x432 with 0 Axes>"
      ]
     },
     "metadata": {},
     "output_type": "display_data"
    }
   ],
   "source": [
    "plt.figure(figsize=(8.5, 6))\n",
    "plt.plot(k_range, 7 * np.ones(len(k_range)), c='red', ls='--')\n",
    "plt.plot(k_range, -7 * np.ones(len(k_range)), c='red', ls='--')\n",
    "plt.plot(k_range, 0.0 * np.ones(len(k_range)), c='k', ls='--')\n",
    "plt.scatter(ks, Eks, s=4)\n",
    "plt.xlim([min(k_range), max(k_range)])\n",
    "plt.xlabel('k(a^-1)')\n",
    "plt.ylim([-2e3, 2e3])\n",
    "plt.ylabel('E(meV)')\n",
    "plt.show()"
   ]
  },
  {
   "cell_type": "code",
   "execution_count": null,
   "metadata": {},
   "outputs": [],
   "source": []
  },
  {
   "cell_type": "code",
   "execution_count": null,
   "metadata": {},
   "outputs": [],
   "source": []
  },
  {
   "cell_type": "code",
   "execution_count": null,
   "metadata": {},
   "outputs": [],
   "source": []
  },
  {
   "cell_type": "code",
   "execution_count": null,
   "metadata": {},
   "outputs": [],
   "source": []
  },
  {
   "cell_type": "code",
   "execution_count": null,
   "metadata": {},
   "outputs": [],
   "source": []
  },
  {
   "cell_type": "markdown",
   "metadata": {},
   "source": [
    "# 2. Self-consistency pairing gap"
   ]
  },
  {
   "cell_type": "code",
   "execution_count": 74,
   "metadata": {},
   "outputs": [],
   "source": [
    "bare_Al_geo_params = dict(\n",
    "    a=0.1,\n",
    "    width=2.5,\n",
    "    thickness=2.5,\n",
    "    periodic_boundary=False\n",
    ")\n",
    "bare_Al = make_bare_Al(**bare_Al_geo_params)"
   ]
  },
  {
   "cell_type": "code",
   "execution_count": 75,
   "metadata": {},
   "outputs": [],
   "source": [
    "positions_Al = gen.get_positions(syst=bare_Al)\n",
    "Deltas_ansatz = 10 * np.ones(np.shape(positions_Al)[0])\n",
    "Delta_fun = get_Delta_fun(positions=positions_Al, Deltas=Deltas_ansatz)\n",
    "t_Al = gen.t_function(m_eff=1.0, a=0.1)\n",
    "\n",
    "bare_Al_ham_params = dict(\n",
    "    t_Al=t_Al,\n",
    "    E_F=11e3,\n",
    "    Delta=Delta_fun,\n",
    "    k=0.0\n",
    ")"
   ]
  },
  {
   "cell_type": "code",
   "execution_count": 76,
   "metadata": {},
   "outputs": [
    {
     "name": "stdout",
     "output_type": "stream",
     "text": [
      "CPU times: user 21.9 s, sys: 178 ms, total: 22.1 s\n",
      "Wall time: 22.1 s\n"
     ]
    }
   ],
   "source": [
    "%%time\n",
    "es, wfs = gen.eigen_problem(\n",
    "    syst=bare_Al,\n",
    "    ham_params=bare_Al_ham_params,\n",
    "    sparse_matrix=True,\n",
    "    k=400,\n",
    "    return_wf=True\n",
    ")"
   ]
  },
  {
   "cell_type": "code",
   "execution_count": null,
   "metadata": {},
   "outputs": [],
   "source": []
  },
  {
   "cell_type": "code",
   "execution_count": 59,
   "metadata": {
    "scrolled": true
   },
   "outputs": [
    {
     "name": "stdout",
     "output_type": "stream",
     "text": [
      "-3.141592653589793\n"
     ]
    },
    {
     "name": "stderr",
     "output_type": "stream",
     "text": [
      "<ipython-input-10-22cec123c9c2>:3: RuntimeWarning: overflow encountered in exp\n",
      "  return 1.0 / (np.exp(E/kT) + 1.0)\n"
     ]
    },
    {
     "name": "stdout",
     "output_type": "stream",
     "text": [
      "-3.015928947446201\n",
      "-2.8902652413026098\n",
      "-2.764601535159018\n",
      "-2.6389378290154264\n",
      "-2.5132741228718345\n",
      "-2.3876104167282426\n",
      "-2.261946710584651\n",
      "-2.1362830044410597\n",
      "-2.0106192982974678\n",
      "-1.884955592153876\n",
      "-1.7592918860102844\n",
      "-1.6336281798666925\n",
      "-1.5079644737231008\n",
      "-1.3823007675795091\n",
      "-1.2566370614359175\n",
      "-1.1309733552923258\n",
      "-1.0053096491487339\n",
      "-0.8796459430051424\n",
      "-0.7539822368615505\n",
      "-0.6283185307179591\n",
      "-0.5026548245743672\n",
      "-0.3769911184307757\n",
      "-0.2513274122871838\n",
      "-0.1256637061435919\n",
      "-4.440892098500626e-16\n",
      "0.12566370614359146\n",
      "0.2513274122871829\n",
      "0.3769911184307748\n",
      "0.5026548245743663\n",
      "0.6283185307179582\n",
      "0.7539822368615496\n",
      "0.8796459430051415\n",
      "1.0053096491487334\n",
      "1.1309733552923253\n",
      "1.2566370614359164\n",
      "1.3823007675795083\n",
      "1.5079644737231002\n",
      "1.633628179866692\n",
      "1.759291886010283\n",
      "1.884955592153875\n",
      "2.010619298297467\n",
      "2.136283004441059\n",
      "2.2619467105846507\n",
      "2.3876104167282417\n",
      "2.5132741228718336\n",
      "2.6389378290154255\n",
      "2.7646015351590174\n",
      "2.8902652413026093\n",
      "3.015928947446201\n"
     ]
    }
   ],
   "source": [
    "N_kz = 50\n",
    "kz_range = np.linspace(-np.pi, np.pi - 2 * np.pi / N_kz , N_kz)\n",
    "Deltas_sum = np.zeros(np.shape(positions_Al)[0], dtype=complex)\n",
    "for kz in kz_range:\n",
    "    print(kz)\n",
    "    bare_Al_ham_params['k'] = kz\n",
    "    Deltas = Delta_selfconsistency(\n",
    "        syst=bare_Al,\n",
    "        ham_params=bare_Al_ham_params,\n",
    "        g=10e3,\n",
    "        N=400,\n",
    "        E_cutoff=1.8565e3,\n",
    "        kT=1e-6\n",
    "    )\n",
    "    Deltas_sum += Deltas\n",
    "Deltas = Deltas_sum / N_kz"
   ]
  },
  {
   "cell_type": "code",
   "execution_count": 65,
   "metadata": {},
   "outputs": [
    {
     "name": "stderr",
     "output_type": "stream",
     "text": [
      "/opt/conda/lib/python3.8/site-packages/numpy/core/_asarray.py:136: ComplexWarning: Casting complex values to real discards the imaginary part\n",
      "  return array(a, dtype, copy=False, order=order, subok=True)\n"
     ]
    },
    {
     "data": {
      "text/plain": [
       "<matplotlib.collections.PathCollection at 0x7f8996355ca0>"
      ]
     },
     "execution_count": 65,
     "metadata": {},
     "output_type": "execute_result"
    },
    {
     "data": {
      "image/png": "[encoded data removed]",
      "text/plain": [
       "<Figure size 432x288 with 1 Axes>"
      ]
     },
     "metadata": {
      "needs_background": "light"
     },
     "output_type": "display_data"
    }
   ],
   "source": [
    "plt.figure()\n",
    "plt.scatter(positions_Al[:, 0], positions_Al[:, 1], c=Deltas)"
   ]
  },
  {
   "cell_type": "code",
   "execution_count": 61,
   "metadata": {},
   "outputs": [
    {
     "data": {
      "text/plain": [
       "(12.039714618399305-2.246964536177037e-14j)"
      ]
     },
     "execution_count": 61,
     "metadata": {},
     "output_type": "execute_result"
    }
   ],
   "source": [
    "np.mean(Deltas)"
   ]
  },
  {
   "cell_type": "code",
   "execution_count": null,
   "metadata": {},
   "outputs": [],
   "source": []
  },
  {
   "cell_type": "code",
   "execution_count": null,
   "metadata": {},
   "outputs": [],
   "source": []
  },
  {
   "cell_type": "code",
   "execution_count": null,
   "metadata": {},
   "outputs": [],
   "source": []
  },
  {
   "cell_type": "code",
   "execution_count": null,
   "metadata": {},
   "outputs": [],
   "source": []
  },
  {
   "cell_type": "code",
   "execution_count": null,
   "metadata": {},
   "outputs": [],
   "source": []
  },
  {
   "cell_type": "code",
   "execution_count": null,
   "metadata": {},
   "outputs": [],
   "source": []
  },
  {
   "cell_type": "code",
   "execution_count": null,
   "metadata": {},
   "outputs": [],
   "source": []
  },
  {
   "cell_type": "code",
   "execution_count": null,
   "metadata": {},
   "outputs": [],
   "source": []
  },
  {
   "cell_type": "code",
   "execution_count": null,
   "metadata": {},
   "outputs": [],
   "source": []
  },
  {
   "cell_type": "code",
   "execution_count": null,
   "metadata": {},
   "outputs": [],
   "source": []
  },
  {
   "cell_type": "markdown",
   "metadata": {},
   "source": [
    "# Local calculations"
   ]
  },
  {
   "cell_type": "markdown",
   "metadata": {},
   "source": [
    "## A. benchmark performance"
   ]
  },
  {
   "cell_type": "code",
   "execution_count": 10,
   "metadata": {},
   "outputs": [
    {
     "name": "stdout",
     "output_type": "stream",
     "text": [
      "CPU times: user 45.6 ms, sys: 16.2 ms, total: 61.7 ms\n",
      "Wall time: 60.8 ms\n"
     ]
    }
   ],
   "source": [
    "%%time\n",
    "bare_Al_geo_params = dict(\n",
    "    a=0.1,\n",
    "    width=2.5,\n",
    "    thickness=2.5,\n",
    "    periodic_boundary=False\n",
    ")\n",
    "bare_Al = make_bare_Al(**bare_Al_geo_params)"
   ]
  },
  {
   "cell_type": "code",
   "execution_count": 11,
   "metadata": {},
   "outputs": [
    {
     "name": "stdout",
     "output_type": "stream",
     "text": [
      "CPU times: user 3.12 ms, sys: 2.68 ms, total: 5.8 ms\n",
      "Wall time: 4.1 ms\n"
     ]
    }
   ],
   "source": [
    "%%time\n",
    "positions_Al = gen.get_positions(syst=bare_Al)\n",
    "Deltas_ansatz = 10 * np.ones(np.shape(positions_Al)[0])\n",
    "Delta_fun = get_Delta_fun(positions=positions_Al, Deltas=Deltas_ansatz)\n",
    "t_Al = gen.t_function(m_eff=1.0, a=0.1)"
   ]
  },
  {
   "cell_type": "code",
   "execution_count": 12,
   "metadata": {},
   "outputs": [
    {
     "name": "stdout",
     "output_type": "stream",
     "text": [
      "CPU times: user 13 µs, sys: 3 µs, total: 16 µs\n",
      "Wall time: 26.9 µs\n"
     ]
    }
   ],
   "source": [
    "%%time\n",
    "bare_Al_ham_params = dict(\n",
    "    t_Al=t_Al,\n",
    "    E_F=11e3,\n",
    "    Delta=Delta_fun,\n",
    "    k=0.0\n",
    ")"
   ]
  },
  {
   "cell_type": "code",
   "execution_count": null,
   "metadata": {},
   "outputs": [],
   "source": []
  },
  {
   "cell_type": "code",
   "execution_count": null,
   "metadata": {},
   "outputs": [],
   "source": []
  },
  {
   "cell_type": "code",
   "execution_count": 41,
   "metadata": {},
   "outputs": [
    {
     "name": "stdout",
     "output_type": "stream",
     "text": [
      "CPU times: user 188 ms, sys: 4 ms, total: 192 ms\n",
      "Wall time: 189 ms\n"
     ]
    }
   ],
   "source": [
    "%%time\n",
    "ham_matrix = bare_Al.hamiltonian_submatrix(params=bare_Al_ham_params, sparse=True)"
   ]
  },
  {
   "cell_type": "code",
   "execution_count": 39,
   "metadata": {},
   "outputs": [],
   "source": [
    "import pickle"
   ]
  },
  {
   "cell_type": "code",
   "execution_count": 40,
   "metadata": {},
   "outputs": [],
   "source": [
    "import pickle\n",
    "with open(r'ham.pickle', 'wb') as handle:\n",
    "    pickle.dump(ham_matrix, handle)"
   ]
  },
  {
   "cell_type": "code",
   "execution_count": null,
   "metadata": {},
   "outputs": [],
   "source": []
  },
  {
   "cell_type": "code",
   "execution_count": null,
   "metadata": {},
   "outputs": [],
   "source": []
  },
  {
   "cell_type": "code",
   "execution_count": 37,
   "metadata": {},
   "outputs": [
    {
     "data": {
      "text/plain": [
       "(2600, 2600)"
      ]
     },
     "execution_count": 37,
     "metadata": {},
     "output_type": "execute_result"
    }
   ],
   "source": [
    "np.shape(ham_matrix)"
   ]
  },
  {
   "cell_type": "code",
   "execution_count": 28,
   "metadata": {},
   "outputs": [],
   "source": [
    "import scipy\n"
   ]
  },
  {
   "cell_type": "code",
   "execution_count": 38,
   "metadata": {},
   "outputs": [
    {
     "ename": "TypeError",
     "evalue": "sparse matrix length is ambiguous; use getnnz() or shape[0]",
     "output_type": "error",
     "traceback": [
      "\u001b[0;31m---------------------------------------------------------------------------\u001b[0m",
      "\u001b[0;31mTypeError\u001b[0m                                 Traceback (most recent call last)",
      "\u001b[0;32m<ipython-input-38-6bb9b42da03f>\u001b[0m in \u001b[0;36m<module>\u001b[0;34m\u001b[0m\n\u001b[0;32m----> 1\u001b[0;31m \u001b[0mnew_ham\u001b[0m \u001b[0;34m=\u001b[0m \u001b[0mscipy\u001b[0m\u001b[0;34m.\u001b[0m\u001b[0msparse\u001b[0m\u001b[0;34m.\u001b[0m\u001b[0mblock_diag\u001b[0m\u001b[0;34m(\u001b[0m\u001b[0mham_matrix\u001b[0m\u001b[0;34m)\u001b[0m\u001b[0;34m\u001b[0m\u001b[0;34m\u001b[0m\u001b[0m\n\u001b[0m",
      "\u001b[0;32m/opt/conda/lib/python3.8/site-packages/scipy/sparse/construct.py\u001b[0m in \u001b[0;36mblock_diag\u001b[0;34m(mats, format, dtype)\u001b[0m\n\u001b[1;32m    668\u001b[0m \u001b[0;34m\u001b[0m\u001b[0m\n\u001b[1;32m    669\u001b[0m     \"\"\"\n\u001b[0;32m--> 670\u001b[0;31m     \u001b[0mnmat\u001b[0m \u001b[0;34m=\u001b[0m \u001b[0mlen\u001b[0m\u001b[0;34m(\u001b[0m\u001b[0mmats\u001b[0m\u001b[0;34m)\u001b[0m\u001b[0;34m\u001b[0m\u001b[0;34m\u001b[0m\u001b[0m\n\u001b[0m\u001b[1;32m    671\u001b[0m     \u001b[0mrows\u001b[0m \u001b[0;34m=\u001b[0m \u001b[0;34m[\u001b[0m\u001b[0;34m]\u001b[0m\u001b[0;34m\u001b[0m\u001b[0;34m\u001b[0m\u001b[0m\n\u001b[1;32m    672\u001b[0m     \u001b[0;32mfor\u001b[0m \u001b[0mia\u001b[0m\u001b[0;34m,\u001b[0m \u001b[0ma\u001b[0m \u001b[0;32min\u001b[0m \u001b[0menumerate\u001b[0m\u001b[0;34m(\u001b[0m\u001b[0mmats\u001b[0m\u001b[0;34m)\u001b[0m\u001b[0;34m:\u001b[0m\u001b[0;34m\u001b[0m\u001b[0;34m\u001b[0m\u001b[0m\n",
      "\u001b[0;32m/opt/conda/lib/python3.8/site-packages/scipy/sparse/base.py\u001b[0m in \u001b[0;36m__len__\u001b[0;34m(self)\u001b[0m\n\u001b[1;32m    289\u001b[0m     \u001b[0;31m# non-zeros is more important.  For now, raise an exception!\u001b[0m\u001b[0;34m\u001b[0m\u001b[0;34m\u001b[0m\u001b[0;34m\u001b[0m\u001b[0m\n\u001b[1;32m    290\u001b[0m     \u001b[0;32mdef\u001b[0m \u001b[0m__len__\u001b[0m\u001b[0;34m(\u001b[0m\u001b[0mself\u001b[0m\u001b[0;34m)\u001b[0m\u001b[0;34m:\u001b[0m\u001b[0;34m\u001b[0m\u001b[0;34m\u001b[0m\u001b[0m\n\u001b[0;32m--> 291\u001b[0;31m         raise TypeError(\"sparse matrix length is ambiguous; use getnnz()\"\n\u001b[0m\u001b[1;32m    292\u001b[0m                         \" or shape[0]\")\n\u001b[1;32m    293\u001b[0m \u001b[0;34m\u001b[0m\u001b[0m\n",
      "\u001b[0;31mTypeError\u001b[0m: sparse matrix length is ambiguous; use getnnz() or shape[0]"
     ]
    }
   ],
   "source": [
    "new_ham = scipy.sparse.block_diag(ham_matrix)"
   ]
  },
  {
   "cell_type": "code",
   "execution_count": 31,
   "metadata": {},
   "outputs": [
    {
     "data": {
      "text/plain": [
       "<2600x2600 sparse matrix of type '<class 'numpy.complex128'>'\n",
       "\twith 23176 stored elements (9 diagonals) in DIAgonal format>"
      ]
     },
     "execution_count": 31,
     "metadata": {},
     "output_type": "execute_result"
    }
   ],
   "source": [
    "new_ham"
   ]
  },
  {
   "cell_type": "code",
   "execution_count": 46,
   "metadata": {},
   "outputs": [
    {
     "ename": "ArpackNoConvergence",
     "evalue": "ARPACK error -1: No convergence (26001 iterations, 4/10 eigenvectors converged)",
     "output_type": "error",
     "traceback": [
      "\u001b[0;31m---------------------------------------------------------------------------\u001b[0m",
      "\u001b[0;31mArpackNoConvergence\u001b[0m                       Traceback (most recent call last)",
      "\u001b[0;32m<timed exec>\u001b[0m in \u001b[0;36m<module>\u001b[0;34m\u001b[0m\n",
      "\u001b[0;32m/opt/conda/lib/python3.8/site-packages/scipy/sparse/linalg/eigen/arpack/arpack.py\u001b[0m in \u001b[0;36meigsh\u001b[0;34m(A, k, M, sigma, which, v0, ncv, maxiter, tol, return_eigenvectors, Minv, OPinv, mode)\u001b[0m\n\u001b[1;32m   1685\u001b[0m     \u001b[0;32mwith\u001b[0m \u001b[0m_ARPACK_LOCK\u001b[0m\u001b[0;34m:\u001b[0m\u001b[0;34m\u001b[0m\u001b[0;34m\u001b[0m\u001b[0m\n\u001b[1;32m   1686\u001b[0m         \u001b[0;32mwhile\u001b[0m \u001b[0;32mnot\u001b[0m \u001b[0mparams\u001b[0m\u001b[0;34m.\u001b[0m\u001b[0mconverged\u001b[0m\u001b[0;34m:\u001b[0m\u001b[0;34m\u001b[0m\u001b[0;34m\u001b[0m\u001b[0m\n\u001b[0;32m-> 1687\u001b[0;31m             \u001b[0mparams\u001b[0m\u001b[0;34m.\u001b[0m\u001b[0miterate\u001b[0m\u001b[0;34m(\u001b[0m\u001b[0;34m)\u001b[0m\u001b[0;34m\u001b[0m\u001b[0;34m\u001b[0m\u001b[0m\n\u001b[0m\u001b[1;32m   1688\u001b[0m \u001b[0;34m\u001b[0m\u001b[0m\n\u001b[1;32m   1689\u001b[0m         \u001b[0;32mreturn\u001b[0m \u001b[0mparams\u001b[0m\u001b[0;34m.\u001b[0m\u001b[0mextract\u001b[0m\u001b[0;34m(\u001b[0m\u001b[0mreturn_eigenvectors\u001b[0m\u001b[0;34m)\u001b[0m\u001b[0;34m\u001b[0m\u001b[0;34m\u001b[0m\u001b[0m\n",
      "\u001b[0;32m/opt/conda/lib/python3.8/site-packages/scipy/sparse/linalg/eigen/arpack/arpack.py\u001b[0m in \u001b[0;36miterate\u001b[0;34m(self)\u001b[0m\n\u001b[1;32m    569\u001b[0m                 \u001b[0;32mpass\u001b[0m\u001b[0;34m\u001b[0m\u001b[0;34m\u001b[0m\u001b[0m\n\u001b[1;32m    570\u001b[0m             \u001b[0;32melif\u001b[0m \u001b[0mself\u001b[0m\u001b[0;34m.\u001b[0m\u001b[0minfo\u001b[0m \u001b[0;34m==\u001b[0m \u001b[0;36m1\u001b[0m\u001b[0;34m:\u001b[0m\u001b[0;34m\u001b[0m\u001b[0;34m\u001b[0m\u001b[0m\n\u001b[0;32m--> 571\u001b[0;31m                 \u001b[0mself\u001b[0m\u001b[0;34m.\u001b[0m\u001b[0m_raise_no_convergence\u001b[0m\u001b[0;34m(\u001b[0m\u001b[0;34m)\u001b[0m\u001b[0;34m\u001b[0m\u001b[0;34m\u001b[0m\u001b[0m\n\u001b[0m\u001b[1;32m    572\u001b[0m             \u001b[0;32melse\u001b[0m\u001b[0;34m:\u001b[0m\u001b[0;34m\u001b[0m\u001b[0;34m\u001b[0m\u001b[0m\n\u001b[1;32m    573\u001b[0m                 \u001b[0;32mraise\u001b[0m \u001b[0mArpackError\u001b[0m\u001b[0;34m(\u001b[0m\u001b[0mself\u001b[0m\u001b[0;34m.\u001b[0m\u001b[0minfo\u001b[0m\u001b[0;34m,\u001b[0m \u001b[0minfodict\u001b[0m\u001b[0;34m=\u001b[0m\u001b[0mself\u001b[0m\u001b[0;34m.\u001b[0m\u001b[0miterate_infodict\u001b[0m\u001b[0;34m)\u001b[0m\u001b[0;34m\u001b[0m\u001b[0;34m\u001b[0m\u001b[0m\n",
      "\u001b[0;32m/opt/conda/lib/python3.8/site-packages/scipy/sparse/linalg/eigen/arpack/arpack.py\u001b[0m in \u001b[0;36m_raise_no_convergence\u001b[0;34m(self)\u001b[0m\n\u001b[1;32m    375\u001b[0m             \u001b[0mvec\u001b[0m \u001b[0;34m=\u001b[0m \u001b[0mnp\u001b[0m\u001b[0;34m.\u001b[0m\u001b[0mzeros\u001b[0m\u001b[0;34m(\u001b[0m\u001b[0;34m(\u001b[0m\u001b[0mself\u001b[0m\u001b[0;34m.\u001b[0m\u001b[0mn\u001b[0m\u001b[0;34m,\u001b[0m \u001b[0;36m0\u001b[0m\u001b[0;34m)\u001b[0m\u001b[0;34m)\u001b[0m\u001b[0;34m\u001b[0m\u001b[0;34m\u001b[0m\u001b[0m\n\u001b[1;32m    376\u001b[0m             \u001b[0mk_ok\u001b[0m \u001b[0;34m=\u001b[0m \u001b[0;36m0\u001b[0m\u001b[0;34m\u001b[0m\u001b[0;34m\u001b[0m\u001b[0m\n\u001b[0;32m--> 377\u001b[0;31m         \u001b[0;32mraise\u001b[0m \u001b[0mArpackNoConvergence\u001b[0m\u001b[0;34m(\u001b[0m\u001b[0mmsg\u001b[0m \u001b[0;34m%\u001b[0m \u001b[0;34m(\u001b[0m\u001b[0mnum_iter\u001b[0m\u001b[0;34m,\u001b[0m \u001b[0mk_ok\u001b[0m\u001b[0;34m,\u001b[0m \u001b[0mself\u001b[0m\u001b[0;34m.\u001b[0m\u001b[0mk\u001b[0m\u001b[0;34m)\u001b[0m\u001b[0;34m,\u001b[0m \u001b[0mev\u001b[0m\u001b[0;34m,\u001b[0m \u001b[0mvec\u001b[0m\u001b[0;34m)\u001b[0m\u001b[0;34m\u001b[0m\u001b[0;34m\u001b[0m\u001b[0m\n\u001b[0m\u001b[1;32m    378\u001b[0m \u001b[0;34m\u001b[0m\u001b[0m\n\u001b[1;32m    379\u001b[0m \u001b[0;34m\u001b[0m\u001b[0m\n",
      "\u001b[0;31mArpackNoConvergence\u001b[0m: ARPACK error -1: No convergence (26001 iterations, 4/10 eigenvectors converged)"
     ]
    }
   ],
   "source": [
    "%%time\n",
    "es, wfs = sla.eigsh(A=ham_matrix, k=10, which='SM')"
   ]
  },
  {
   "cell_type": "code",
   "execution_count": 45,
   "metadata": {},
   "outputs": [
    {
     "data": {
      "text/plain": [
       "array([ -71.42656245,   71.42656245,  -71.42656245,   71.42656245,\n",
       "       -132.93292756, -132.93292756, -133.62649174,  132.93292757,\n",
       "        132.93292756,  133.62649174])"
      ]
     },
     "execution_count": 45,
     "metadata": {},
     "output_type": "execute_result"
    }
   ],
   "source": [
    "es"
   ]
  },
  {
   "cell_type": "code",
   "execution_count": null,
   "metadata": {},
   "outputs": [],
   "source": []
  },
  {
   "cell_type": "code",
   "execution_count": null,
   "metadata": {},
   "outputs": [],
   "source": []
  },
  {
   "cell_type": "code",
   "execution_count": 101,
   "metadata": {},
   "outputs": [
    {
     "output_type": "error",
     "ename": "NameError",
     "evalue": "name 'ham_matrix' is not defined",
     "traceback": [
      "\u001b[0;31m---------------------------------------------------------------------------\u001b[0m",
      "\u001b[0;31mNameError\u001b[0m                                 Traceback (most recent call last)",
      "\u001b[0;32m<timed exec>\u001b[0m in \u001b[0;36m<module>\u001b[0;34m\u001b[0m\n",
      "\u001b[0;31mNameError\u001b[0m: name 'ham_matrix' is not defined"
     ]
    }
   ],
   "source": [
    "%%time\n",
    "es, wfs = sparse_diag(matrix=ham_matrix.tocsc(), k=300, sigma=0, return_eigenvectors=True)"
   ]
  },
  {
   "cell_type": "code",
   "execution_count": 7,
   "metadata": {},
   "outputs": [],
   "source": [
    "import pickle"
   ]
  },
  {
   "cell_type": "code",
   "execution_count": 8,
   "metadata": {},
   "outputs": [],
   "source": [
    "with open('ham.pickle','rb') as f:\n",
    "    z=pickle.load(f)"
   ]
  },
  {
   "cell_type": "code",
   "execution_count": 415,
   "metadata": {},
   "outputs": [
    {
     "output_type": "error",
     "ename": "AttributeError",
     "evalue": "module 'kwant.linalg._mumps' has no attribute 'dmumps'",
     "traceback": [
      "\u001b[0;31m---------------------------------------------------------------------------\u001b[0m",
      "\u001b[0;31mAttributeError\u001b[0m                            Traceback (most recent call last)",
      "\u001b[0;32m<timed exec>\u001b[0m in \u001b[0;36m<module>\u001b[0;34m\u001b[0m\n",
      "\u001b[0;32m<ipython-input-6-fab2e4afb4e0>\u001b[0m in \u001b[0;36msparse_diag\u001b[0;34m(matrix, k, sigma, **kwargs)\u001b[0m\n\u001b[1;32m     15\u001b[0m             \u001b[0;32mreturn\u001b[0m \u001b[0mself\u001b[0m\u001b[0;34m.\u001b[0m\u001b[0msolve\u001b[0m\u001b[0;34m(\u001b[0m\u001b[0mx\u001b[0m\u001b[0;34m.\u001b[0m\u001b[0mastype\u001b[0m\u001b[0;34m(\u001b[0m\u001b[0mself\u001b[0m\u001b[0;34m.\u001b[0m\u001b[0mdtype\u001b[0m\u001b[0;34m)\u001b[0m\u001b[0;34m)\u001b[0m\u001b[0;34m\u001b[0m\u001b[0;34m\u001b[0m\u001b[0m\n\u001b[1;32m     16\u001b[0m \u001b[0;34m\u001b[0m\u001b[0m\n\u001b[0;32m---> 17\u001b[0;31m     \u001b[0mopinv\u001b[0m \u001b[0;34m=\u001b[0m \u001b[0mLuInv\u001b[0m\u001b[0;34m(\u001b[0m\u001b[0mmatrix\u001b[0m \u001b[0;34m-\u001b[0m \u001b[0msigma\u001b[0m \u001b[0;34m*\u001b[0m \u001b[0midentity\u001b[0m\u001b[0;34m(\u001b[0m\u001b[0mmatrix\u001b[0m\u001b[0;34m.\u001b[0m\u001b[0mshape\u001b[0m\u001b[0;34m[\u001b[0m\u001b[0;36m0\u001b[0m\u001b[0;34m]\u001b[0m\u001b[0;34m)\u001b[0m\u001b[0;34m)\u001b[0m\u001b[0;34m\u001b[0m\u001b[0;34m\u001b[0m\u001b[0m\n\u001b[0m\u001b[1;32m     18\u001b[0m     \u001b[0;32mreturn\u001b[0m \u001b[0msla\u001b[0m\u001b[0;34m.\u001b[0m\u001b[0meigsh\u001b[0m\u001b[0;34m(\u001b[0m\u001b[0mmatrix\u001b[0m\u001b[0;34m,\u001b[0m \u001b[0mk\u001b[0m\u001b[0;34m,\u001b[0m \u001b[0msigma\u001b[0m\u001b[0;34m=\u001b[0m\u001b[0msigma\u001b[0m\u001b[0;34m,\u001b[0m \u001b[0mOPinv\u001b[0m\u001b[0;34m=\u001b[0m\u001b[0mopinv\u001b[0m\u001b[0;34m,\u001b[0m \u001b[0;34m**\u001b[0m\u001b[0mkwargs\u001b[0m\u001b[0;34m)\u001b[0m\u001b[0;34m\u001b[0m\u001b[0;34m\u001b[0m\u001b[0m\n",
      "\u001b[0;32m<ipython-input-6-fab2e4afb4e0>\u001b[0m in \u001b[0;36m__init__\u001b[0;34m(self, A)\u001b[0m\n\u001b[1;32m      7\u001b[0m         \u001b[0;32mdef\u001b[0m \u001b[0m__init__\u001b[0m\u001b[0;34m(\u001b[0m\u001b[0mself\u001b[0m\u001b[0;34m,\u001b[0m \u001b[0mA\u001b[0m\u001b[0;34m)\u001b[0m\u001b[0;34m:\u001b[0m\u001b[0;34m\u001b[0m\u001b[0;34m\u001b[0m\u001b[0m\n\u001b[1;32m      8\u001b[0m             \u001b[0minst\u001b[0m \u001b[0;34m=\u001b[0m \u001b[0mmumps\u001b[0m\u001b[0;34m.\u001b[0m\u001b[0mMUMPSContext\u001b[0m\u001b[0;34m(\u001b[0m\u001b[0;34m)\u001b[0m\u001b[0;34m\u001b[0m\u001b[0;34m\u001b[0m\u001b[0m\n\u001b[0;32m----> 9\u001b[0;31m             \u001b[0minst\u001b[0m\u001b[0;34m.\u001b[0m\u001b[0manalyze\u001b[0m\u001b[0;34m(\u001b[0m\u001b[0mA\u001b[0m\u001b[0;34m,\u001b[0m \u001b[0mordering\u001b[0m\u001b[0;34m=\u001b[0m\u001b[0;34m'pord'\u001b[0m\u001b[0;34m)\u001b[0m \u001b[0;31m# other values: pord, metis, scotch\u001b[0m\u001b[0;34m\u001b[0m\u001b[0;34m\u001b[0m\u001b[0m\n\u001b[0m\u001b[1;32m     10\u001b[0m             \u001b[0minst\u001b[0m\u001b[0;34m.\u001b[0m\u001b[0mfactor\u001b[0m\u001b[0;34m(\u001b[0m\u001b[0mA\u001b[0m\u001b[0;34m)\u001b[0m\u001b[0;34m\u001b[0m\u001b[0;34m\u001b[0m\u001b[0m\n\u001b[1;32m     11\u001b[0m             \u001b[0mself\u001b[0m\u001b[0;34m.\u001b[0m\u001b[0msolve\u001b[0m \u001b[0;34m=\u001b[0m \u001b[0minst\u001b[0m\u001b[0;34m.\u001b[0m\u001b[0msolve\u001b[0m\u001b[0;34m\u001b[0m\u001b[0;34m\u001b[0m\u001b[0m\n",
      "\u001b[0;32m~/anaconda3/lib/python3.8/site-packages/kwant/linalg/mumps.py\u001b[0m in \u001b[0;36manalyze\u001b[0;34m(self, a, ordering, overwrite_a)\u001b[0m\n\u001b[1;32m    227\u001b[0m \u001b[0;34m\u001b[0m\u001b[0m\n\u001b[1;32m    228\u001b[0m         \u001b[0;32mif\u001b[0m \u001b[0mdtype\u001b[0m \u001b[0;34m!=\u001b[0m \u001b[0mself\u001b[0m\u001b[0;34m.\u001b[0m\u001b[0mdtype\u001b[0m\u001b[0;34m:\u001b[0m\u001b[0;34m\u001b[0m\u001b[0;34m\u001b[0m\u001b[0m\n\u001b[0;32m--> 229\u001b[0;31m             \u001b[0mself\u001b[0m\u001b[0;34m.\u001b[0m\u001b[0mmumps_instance\u001b[0m \u001b[0;34m=\u001b[0m \u001b[0mgetattr\u001b[0m\u001b[0;34m(\u001b[0m\u001b[0m_mumps\u001b[0m\u001b[0;34m,\u001b[0m \u001b[0mdtype\u001b[0m\u001b[0;34m+\u001b[0m\u001b[0;34m\"mumps\"\u001b[0m\u001b[0;34m)\u001b[0m\u001b[0;34m(\u001b[0m\u001b[0mself\u001b[0m\u001b[0;34m.\u001b[0m\u001b[0mverbose\u001b[0m\u001b[0;34m)\u001b[0m\u001b[0;34m\u001b[0m\u001b[0;34m\u001b[0m\u001b[0m\n\u001b[0m\u001b[1;32m    230\u001b[0m             \u001b[0mself\u001b[0m\u001b[0;34m.\u001b[0m\u001b[0mdtype\u001b[0m \u001b[0;34m=\u001b[0m \u001b[0mdtype\u001b[0m\u001b[0;34m\u001b[0m\u001b[0;34m\u001b[0m\u001b[0m\n\u001b[1;32m    231\u001b[0m \u001b[0;34m\u001b[0m\u001b[0m\n",
      "\u001b[0;31mAttributeError\u001b[0m: module 'kwant.linalg._mumps' has no attribute 'dmumps'"
     ]
    }
   ],
   "source": [
    "%%time\n",
    "es, wfs = sparse_diag(matrix=zz, k=300, sigma=0)"
   ]
  },
  {
   "cell_type": "code",
   "execution_count": 32,
   "metadata": {},
   "outputs": [],
   "source": [
    "zz=(z+z.T)/2"
   ]
  },
  {
   "cell_type": "code",
   "execution_count": 36,
   "metadata": {},
   "outputs": [
    {
     "output_type": "execute_result",
     "data": {
      "text/plain": [
       "<2600x2600 sparse matrix of type '<class 'numpy.complex128'>'\n",
       "\twith 15192 stored elements in COOrdinate format>"
      ]
     },
     "metadata": {},
     "execution_count": 36
    }
   ],
   "source": [
    "z"
   ]
  },
  {
   "cell_type": "code",
   "execution_count": 130,
   "metadata": {},
   "outputs": [
    {
     "output_type": "stream",
     "name": "stdout",
     "text": [
      "  (0, 896)\t(-3809.9821161548584+0j)\n  (0, 996)\t(-3809.9821161548584+0j)\n  (0, 1000)\t(4239.928464619433+0j)\n  (0, 1003)\t(-10+0j)\n  (0, 1004)\t(-3809.9821161548584+0j)\n  (0, 1104)\t(-3809.9821161548584+0j)\n"
     ]
    }
   ],
   "source": [
    "print(zz[1000,:])"
   ]
  },
  {
   "cell_type": "code",
   "execution_count": 131,
   "metadata": {},
   "outputs": [
    {
     "output_type": "stream",
     "name": "stdout",
     "text": [
      "CPU times: user 0 ns, sys: 3.55 ms, total: 3.55 ms\nWall time: 1.82 ms\n"
     ]
    }
   ],
   "source": [
    "%%time\n",
    "zz=np.real(zz).tocoo()"
   ]
  },
  {
   "cell_type": "code",
   "execution_count": 407,
   "metadata": {},
   "outputs": [
    {
     "output_type": "stream",
     "name": "stdout",
     "text": [
      "CPU times: user 8.31 ms, sys: 9.68 ms, total: 18 ms\nWall time: 15.8 ms\n"
     ]
    }
   ],
   "source": [
    "%%time\n",
    "# zop=SpLuInv_(zz)\n",
    "zop=SpSolve(zz)"
   ]
  },
  {
   "cell_type": "code",
   "execution_count": 408,
   "metadata": {},
   "outputs": [
    {
     "output_type": "stream",
     "name": "stdout",
     "text": [
      "CPU times: user 3.38 ms, sys: 0 ns, total: 3.38 ms\nWall time: 1.77 ms\n"
     ]
    },
    {
     "output_type": "execute_result",
     "data": {
      "text/plain": [
       "array([ 3.41030990e-05,  5.79007684e-05, -3.41030990e-05, ...,\n",
       "        5.79007684e-05, -3.41030990e-05, -5.79007684e-05])"
      ]
     },
     "metadata": {},
     "execution_count": 408
    }
   ],
   "source": [
    "%%time\n",
    "zop(np.ones(2600))"
   ]
  },
  {
   "cell_type": "code",
   "execution_count": 337,
   "metadata": {},
   "outputs": [
    {
     "output_type": "execute_result",
     "data": {
      "text/plain": [
       "(2600, 2600)"
      ]
     },
     "metadata": {},
     "execution_count": 337
    }
   ],
   "source": [
    "zop.shape"
   ]
  },
  {
   "cell_type": "code",
   "execution_count": 266,
   "metadata": {},
   "outputs": [
    {
     "output_type": "execute_result",
     "data": {
      "text/plain": [
       "array([ 3.41030990e-05,  5.79007684e-05, -3.41030990e-05, ...,\n",
       "        5.79007684e-05, -3.41030990e-05, -5.79007684e-05])"
      ]
     },
     "metadata": {},
     "execution_count": 266
    }
   ],
   "source": [
    "sla.spsolve(zop.M,np.ones(2600))"
   ]
  },
  {
   "cell_type": "code",
   "execution_count": 412,
   "metadata": {},
   "outputs": [
    {
     "output_type": "stream",
     "name": "stdout",
     "text": [
      "CPU times: user 11.1 s, sys: 300 ms, total: 11.4 s\nWall time: 2.86 s\n"
     ]
    }
   ],
   "source": [
    "%%time\n",
    "es, wfs= sla.eigsh(zz,k=500,sigma=0,tol=1e-14)"
   ]
  },
  {
   "cell_type": "code",
   "execution_count": 413,
   "metadata": {},
   "outputs": [
    {
     "output_type": "stream",
     "name": "stdout",
     "text": [
      "CPU times: user 35.6 s, sys: 959 ms, total: 36.6 s\nWall time: 9.37 s\n"
     ]
    }
   ],
   "source": [
    "%%time\n",
    "es, wfs= la.eig(zz.toarray())"
   ]
  },
  {
   "cell_type": "code",
   "execution_count": 406,
   "metadata": {},
   "outputs": [],
   "source": [
    "class SpSolve(LinearOperator):\n",
    "    \"\"\"\n",
    "    Use spsolve to directly solve Ax=B\n",
    "\n",
    "    \"\"\"\n",
    "    def __init__(self, M):\n",
    "        self.M=M\n",
    "        self.factorized=sla.factorized(M)\n",
    "        self.shape = M.shape\n",
    "        # self.dtype = M.dtype\n",
    "        # self.isreal = not np.issubdtype(self.dtype, np.complexfloating)\n",
    "        # self.counter=0\n",
    "\n",
    "    def _matvec(self, x):\n",
    "        # careful here: splu.solve will throw away imaginary\n",
    "        # part of x if M is real \n",
    "        # self.counter+=1   \n",
    "        return self.factorized(x)"
   ]
  },
  {
   "cell_type": "code",
   "execution_count": 386,
   "metadata": {},
   "outputs": [],
   "source": [
    "class SpSolve(LinearOperator):\n",
    "    \"\"\"\n",
    "    Use spsolve to directly solve Ax=B\n",
    "    Requires: scikit-umfpack and SuiteSparse\n",
    "    https://scikit-umfpack.github.io/scikit-umfpack\n",
    "    \"\"\"\n",
    "    def __init__(self,A):\n",
    "        if is_pydata_spmatrix(A):\n",
    "            A = A.to_scipy_sparse().tocsc()\n",
    "\n",
    "\n",
    "        if not (isspmatrix_csc(A) or isspmatrix_csr(A)):\n",
    "            A = csc_matrix(A)\n",
    "            warn('spsolve requires A be CSC or CSR matrix format',\n",
    "                    SparseEfficiencyWarning)\n",
    "\n",
    " \n",
    "\n",
    "        # sum duplicates for non-canonical format\n",
    "        A.sum_duplicates()\n",
    "        A = A.asfptype()  # upcast to a floating point format\n",
    "        result_dtype = A.dtype\n",
    "        if A.dtype != result_dtype:\n",
    "            A = A.astype(result_dtype)\n",
    "\n",
    "\n",
    "        # validate input shapes\n",
    "        M, N = A.shape\n",
    "        if (M != N):\n",
    "            raise ValueError(\"matrix must be square (has shape %s)\" % ((M, N),))\n",
    "\n",
    "\n",
    "        umf_family, A = _get_umf_family(A)\n",
    "        self.A=A\n",
    "        self.shape=A.shape\n",
    "        self.dtype = A.dtype\n",
    "        self.M=M\n",
    "        self.umf = umfpack.UmfpackContext(umf_family)\n",
    "\n",
    "    def _matvec(self,b):\n",
    "        # b is a vector only if b have shape (n,) or (n, 1)\n",
    "        # b_is_sparse = isspmatrix(b) or is_pydata_spmatrix(b)\n",
    "        # if not b_is_sparse:\n",
    "        b = asarray(b)\n",
    "        #     print(\"asarray(b)\")\n",
    "        # b_is_vector = ((b.ndim == 1) or (b.ndim == 2 and b.shape[1] == 1))  \n",
    "\n",
    "        # if b.dtype != self.dtype:\n",
    "        #     b = b.astype(self.dtype)\n",
    "        #     print(\"astype(self)\")\n",
    "\n",
    "        # if self.M != b.shape[0]:\n",
    "        #     raise ValueError(\"matrix - rhs dimension mismatch (%s - %s)\"\n",
    "        #                     % (self.A.shape, b.shape[0]))\n",
    "        # if b_is_vector:\n",
    "        #     if b_is_sparse:\n",
    "        #         b_vec = b.toarray()\n",
    "        #         print(\"toarray()\")\n",
    "        #     else:\n",
    "        b_vec = b\n",
    "            #     print(\"b\")\n",
    "            # b_vec = asarray(b_vec, dtype=self.A.dtype).ravel()\n",
    "\n",
    "            # if noScikit:\n",
    "            #     raise RuntimeError('Scikits.umfpack not installed.')\n",
    "\n",
    "            # if self.A.dtype.char not in 'dD':\n",
    "            #     raise ValueError(\"convert matrix data to double, please, using\"\n",
    "            #         \" .astype(), or set linsolve.useUmfpack = False\")\n",
    "\n",
    "        x  = self.umf.linsolve(umfpack.UMFPACK_A, self.A, b_vec,\n",
    "                         autoTranspose=True)\n",
    "        return x\n",
    "\n",
    "    def _get_umf_family(A):\n",
    "        \"\"\"Get umfpack family string given the sparse matrix dtype.\"\"\"\n",
    "        _families = {\n",
    "            (np.float64, np.int32): 'di',\n",
    "            (np.complex128, np.int32): 'zi',\n",
    "            (np.float64, np.int64): 'dl',\n",
    "            (np.complex128, np.int64): 'zl'\n",
    "        }\n",
    "\n",
    "        f_type = np.sctypeDict[A.dtype.name]\n",
    "        i_type = np.sctypeDict[A.indices.dtype.name]\n",
    "\n",
    "        try:\n",
    "            family = _families[(f_type, i_type)]\n",
    "\n",
    "        except KeyError as e:\n",
    "            msg = 'only float64 or complex128 matrices with int32 or int64' \\\n",
    "                ' indices are supported! (got: matrix: %s, indices: %s)' \\\n",
    "                % (f_type, i_type)\n",
    "            raise ValueError(msg) from e\n",
    "\n",
    "        # See gh-8278. Considered converting only if\n",
    "        # A.shape[0]*A.shape[1] > np.iinfo(np.int32).max,\n",
    "        # but that didn't always fix the issue.\n",
    "        family = family[0] + \"l\"\n",
    "        A_new = copy.copy(A)\n",
    "        A_new.indptr = np.array(A.indptr, copy=False, dtype=np.int64)\n",
    "        A_new.indices = np.array(A.indices, copy=False, dtype=np.int64)\n",
    "\n",
    "        return family, A_new"
   ]
  },
  {
   "cell_type": "code",
   "execution_count": 185,
   "metadata": {},
   "outputs": [],
   "source": [
    "class SpLuInv_(LinearOperator):\n",
    "    \"\"\"\n",
    "    SpLuInv:\n",
    "       helper class to repeatedly solve M*x=b\n",
    "       using a sparse LU-decomposition of M\n",
    "    \"\"\"\n",
    "    def __init__(self, M):\n",
    "        self.M_lu = splu(M)\n",
    "        self.shape = M.shape\n",
    "        self.dtype = M.dtype\n",
    "        self.isreal = not np.issubdtype(self.dtype, np.complexfloating)\n",
    "        self.counter=0\n",
    "\n",
    "    def _matvec(self, x):\n",
    "        # careful here: splu.solve will throw away imaginary\n",
    "        # part of x if M is real \n",
    "        self.counter+=1       \n",
    "        x = np.asarray(x)\n",
    "        if self.isreal and np.issubdtype(x.dtype, np.complexfloating):\n",
    "            return (self.M_lu.solve(np.real(x).astype(self.dtype))\n",
    "                    + 1j * self.M_lu.solve(np.imag(x).astype(self.dtype)))\n",
    "        else:\n",
    "            return self.M_lu.solve(x.astype(self.dtype))"
   ]
  },
  {
   "cell_type": "code",
   "execution_count": 6,
   "metadata": {},
   "outputs": [],
   "source": [
    "def sparse_diag(matrix, k, sigma, **kwargs):\n",
    "    \"\"\"Call sla.eigsh with mumps support.\n",
    "\n",
    "    Please see scipy.sparse.linalg.eigsh for documentation.\n",
    "    \"\"\"\n",
    "    class LuInv(sla.LinearOperator):\n",
    "        def __init__(self, A):\n",
    "            inst = mumps.MUMPSContext()\n",
    "            inst.analyze(A, ordering='pord') # other values: pord, metis, scotch\n",
    "            inst.factor(A)\n",
    "            self.solve = inst.solve\n",
    "            sla.LinearOperator.__init__(self, A.dtype, A.shape)\n",
    "\n",
    "        def _matvec(self, x):\n",
    "            return self.solve(x.astype(self.dtype))\n",
    "\n",
    "    opinv = LuInv(matrix - sigma * identity(matrix.shape[0]))\n",
    "    return sla.eigsh(matrix, k, sigma=sigma, OPinv=opinv, **kwargs)"
   ]
  },
  {
   "cell_type": "code",
   "execution_count": 47,
   "metadata": {},
   "outputs": [],
   "source": [
    "from scipy.sparse import csc_matrix\n",
    "from scipy.sparse.linalg import splu"
   ]
  },
  {
   "cell_type": "code",
   "execution_count": 55,
   "metadata": {},
   "outputs": [
    {
     "output_type": "error",
     "ename": "ModuleNotFoundError",
     "evalue": "No module named 'sksparse'",
     "traceback": [
      "\u001b[0;31m---------------------------------------------------------------------------\u001b[0m",
      "\u001b[0;31mModuleNotFoundError\u001b[0m                       Traceback (most recent call last)",
      "\u001b[0;32m<ipython-input-55-da66fd98ff96>\u001b[0m in \u001b[0;36m<module>\u001b[0;34m\u001b[0m\n\u001b[0;32m----> 1\u001b[0;31m \u001b[0;32mfrom\u001b[0m \u001b[0msksparse\u001b[0m\u001b[0;34m.\u001b[0m\u001b[0mcholmod\u001b[0m \u001b[0;32mimport\u001b[0m \u001b[0mcholesky\u001b[0m\u001b[0;34m\u001b[0m\u001b[0;34m\u001b[0m\u001b[0m\n\u001b[0m",
      "\u001b[0;31mModuleNotFoundError\u001b[0m: No module named 'sksparse'"
     ]
    }
   ],
   "source": [
    "from sksparse.cholmod import cholesky"
   ]
  },
  {
   "cell_type": "code",
   "execution_count": 370,
   "metadata": {},
   "outputs": [
    {
     "output_type": "stream",
     "name": "stdout",
     "text": [
      "CPU times: user 40.5 ms, sys: 10 ms, total: 50.5 ms\nWall time: 16.1 ms\n"
     ]
    }
   ],
   "source": [
    "%%time\n",
    "# A = csc_matrix(zz, dtype=float)\n",
    "B = splu(zz)\n",
    "zzB=B.solve(x)"
   ]
  },
  {
   "cell_type": "code",
   "execution_count": 194,
   "metadata": {},
   "outputs": [],
   "source": [
    "x = np.random.rand(2600,1)"
   ]
  },
  {
   "cell_type": "code",
   "execution_count": 196,
   "metadata": {},
   "outputs": [
    {
     "output_type": "execute_result",
     "data": {
      "text/plain": [
       "array([[-4.55155909e-06],\n",
       "       [ 1.39994775e-04],\n",
       "       [-6.00679525e-05],\n",
       "       ...,\n",
       "       [-3.80978486e-05],\n",
       "       [-6.80883179e-05],\n",
       "       [-6.21895454e-05]])"
      ]
     },
     "metadata": {},
     "execution_count": 196
    }
   ],
   "source": [
    "zzB"
   ]
  },
  {
   "cell_type": "code",
   "execution_count": 300,
   "metadata": {},
   "outputs": [
    {
     "output_type": "execute_result",
     "data": {
      "text/plain": [
       "numpy.dtype"
      ]
     },
     "metadata": {},
     "execution_count": 300
    }
   ],
   "source": [
    "type(zz.dtype)"
   ]
  },
  {
   "cell_type": "code",
   "execution_count": 320,
   "metadata": {},
   "outputs": [
    {
     "output_type": "stream",
     "name": "stdout",
     "text": [
      "float64\nCPU times: user 44.8 ms, sys: 132 µs, total: 44.9 ms\nWall time: 15.5 ms\n"
     ]
    }
   ],
   "source": [
    "%%time\n",
    "zzB2=spsolve_(zz,x)"
   ]
  },
  {
   "cell_type": "code",
   "execution_count": 304,
   "metadata": {},
   "outputs": [
    {
     "output_type": "execute_result",
     "data": {
      "text/plain": [
       "array([-4.55155909e-06,  1.39994775e-04, -6.00679525e-05, ...,\n",
       "       -3.80978486e-05, -6.80883179e-05, -6.21895454e-05])"
      ]
     },
     "metadata": {},
     "execution_count": 304
    }
   ],
   "source": [
    "zzB2"
   ]
  },
  {
   "cell_type": "code",
   "execution_count": 212,
   "metadata": {},
   "outputs": [],
   "source": [
    "import scipy.linalg as la"
   ]
  },
  {
   "cell_type": "code",
   "execution_count": 216,
   "metadata": {},
   "outputs": [],
   "source": [
    "zzden=zz.todense()"
   ]
  },
  {
   "cell_type": "code",
   "execution_count": 218,
   "metadata": {},
   "outputs": [],
   "source": [
    "from sksparse.cholmod import cholesky"
   ]
  },
  {
   "cell_type": "code",
   "execution_count": 296,
   "metadata": {},
   "outputs": [],
   "source": [
    "from scikits.umfpack import spsolve, splu"
   ]
  },
  {
   "cell_type": "code",
   "execution_count": 319,
   "metadata": {},
   "outputs": [],
   "source": [
    "def spsolve_(A,b):\n",
    "    if is_pydata_spmatrix(A):\n",
    "        A = A.to_scipy_sparse().tocsc()\n",
    "\n",
    "\n",
    "    if not (isspmatrix_csc(A) or isspmatrix_csr(A)):\n",
    "        A = csc_matrix(A)\n",
    "        warn('spsolve requires A be CSC or CSR matrix format',\n",
    "                SparseEfficiencyWarning)\n",
    "\n",
    "    # b is a vector only if b have shape (n,) or (n, 1)\n",
    "    b_is_sparse = isspmatrix(b) or is_pydata_spmatrix(b)\n",
    "    if not b_is_sparse:\n",
    "        b = asarray(b)\n",
    "    b_is_vector = ((b.ndim == 1) or (b.ndim == 2 and b.shape[1] == 1))   \n",
    "\n",
    "    # sum duplicates for non-canonical format\n",
    "    A.sum_duplicates()\n",
    "    A = A.asfptype()  # upcast to a floating point format\n",
    "    result_dtype = np.promote_types(A.dtype, b.dtype)\n",
    "    print(A.dtype)\n",
    "    if A.dtype != result_dtype:\n",
    "        A = A.astype(result_dtype)\n",
    "    if b.dtype != result_dtype:\n",
    "        b = b.astype(result_dtype)\n",
    "\n",
    "    # validate input shapes\n",
    "    M, N = A.shape\n",
    "    if (M != N):\n",
    "        raise ValueError(\"matrix must be square (has shape %s)\" % ((M, N),))\n",
    "\n",
    "    if M != b.shape[0]:\n",
    "        raise ValueError(\"matrix - rhs dimension mismatch (%s - %s)\"\n",
    "                         % (A.shape, b.shape[0]))\n",
    "\n",
    "\n",
    "    if b_is_vector:\n",
    "        if b_is_sparse:\n",
    "            b_vec = b.toarray()\n",
    "        else:\n",
    "            b_vec = b\n",
    "        b_vec = asarray(b_vec, dtype=A.dtype).ravel()\n",
    "\n",
    "        if noScikit:\n",
    "            raise RuntimeError('Scikits.umfpack not installed.')\n",
    "\n",
    "        if A.dtype.char not in 'dD':\n",
    "            raise ValueError(\"convert matrix data to double, please, using\"\n",
    "                  \" .astype(), or set linsolve.useUmfpack = False\")\n",
    "\n",
    "        umf_family, A = _get_umf_family(A)\n",
    "        umf = umfpack.UmfpackContext(umf_family)\n",
    "\n",
    "        x = umf.linsolve(umfpack.UMFPACK_A, A, b_vec,\n",
    "                         autoTranspose=True)\n"
   ]
  },
  {
   "cell_type": "code",
   "execution_count": 301,
   "metadata": {},
   "outputs": [],
   "source": [
    "def _get_umf_family(A):\n",
    "    \"\"\"Get umfpack family string given the sparse matrix dtype.\"\"\"\n",
    "    _families = {\n",
    "        (np.float64, np.int32): 'di',\n",
    "        (np.complex128, np.int32): 'zi',\n",
    "        (np.float64, np.int64): 'dl',\n",
    "        (np.complex128, np.int64): 'zl'\n",
    "    }\n",
    "\n",
    "    f_type = np.sctypeDict[A.dtype.name]\n",
    "    i_type = np.sctypeDict[A.indices.dtype.name]\n",
    "\n",
    "    try:\n",
    "        family = _families[(f_type, i_type)]\n",
    "\n",
    "    except KeyError as e:\n",
    "        msg = 'only float64 or complex128 matrices with int32 or int64' \\\n",
    "            ' indices are supported! (got: matrix: %s, indices: %s)' \\\n",
    "            % (f_type, i_type)\n",
    "        raise ValueError(msg) from e\n",
    "\n",
    "    # See gh-8278. Considered converting only if\n",
    "    # A.shape[0]*A.shape[1] > np.iinfo(np.int32).max,\n",
    "    # but that didn't always fix the issue.\n",
    "    family = family[0] + \"l\"\n",
    "    A_new = copy.copy(A)\n",
    "    A_new.indptr = np.array(A.indptr, copy=False, dtype=np.int64)\n",
    "    A_new.indices = np.array(A.indices, copy=False, dtype=np.int64)\n",
    "\n",
    "    return family, A_new"
   ]
  },
  {
   "cell_type": "code",
   "execution_count": 305,
   "metadata": {},
   "outputs": [
    {
     "output_type": "execute_result",
     "data": {
      "text/plain": [
       "False"
      ]
     },
     "metadata": {},
     "execution_count": 305
    }
   ],
   "source": [
    "is_pydata_spmatrix(zz)"
   ]
  },
  {
   "cell_type": "code",
   "execution_count": 302,
   "metadata": {},
   "outputs": [],
   "source": [
    "from warnings import warn\n",
    "\n",
    "import numpy as np\n",
    "from numpy import asarray\n",
    "from scipy.sparse import (isspmatrix_csc, isspmatrix_csr, isspmatrix,\n",
    "                          SparseEfficiencyWarning, csc_matrix, csr_matrix)\n",
    "from scipy.sparse.sputils import is_pydata_spmatrix\n",
    "from scipy.linalg import LinAlgError\n",
    "import copy\n",
    "\n",
    "def spsolve_(A, b, permc_spec=None, use_umfpack=True):\n",
    "    \"\"\"Solve the sparse linear system Ax=b, where b may be a vector or a matrix.\n",
    "    Parameters\n",
    "    ----------\n",
    "    A : ndarray or sparse matrix\n",
    "        The square matrix A will be converted into CSC or CSR form\n",
    "    b : ndarray or sparse matrix\n",
    "        The matrix or vector representing the right hand side of the equation.\n",
    "        If a vector, b.shape must be (n,) or (n, 1).\n",
    "    permc_spec : str, optional\n",
    "        How to permute the columns of the matrix for sparsity preservation.\n",
    "        (default: 'COLAMD')\n",
    "        - ``NATURAL``: natural ordering.\n",
    "        - ``MMD_ATA``: minimum degree ordering on the structure of A^T A.\n",
    "        - ``MMD_AT_PLUS_A``: minimum degree ordering on the structure of A^T+A.\n",
    "        - ``COLAMD``: approximate minimum degree column ordering\n",
    "    use_umfpack : bool, optional\n",
    "        if True (default) then use umfpack for the solution.  This is\n",
    "        only referenced if b is a vector and ``scikit-umfpack`` is installed.\n",
    "    Returns\n",
    "    -------\n",
    "    x : ndarray or sparse matrix\n",
    "        the solution of the sparse linear equation.\n",
    "        If b is a vector, then x is a vector of size A.shape[1]\n",
    "        If b is a matrix, then x is a matrix of size (A.shape[1], b.shape[1])\n",
    "    Notes\n",
    "    -----\n",
    "    For solving the matrix expression AX = B, this solver assumes the resulting\n",
    "    matrix X is sparse, as is often the case for very sparse inputs.  If the\n",
    "    resulting X is dense, the construction of this sparse result will be\n",
    "    relatively expensive.  In that case, consider converting A to a dense\n",
    "    matrix and using scipy.linalg.solve or its variants.\n",
    "    Examples\n",
    "    --------\n",
    "    >>> from scipy.sparse import csc_matrix\n",
    "    >>> from scipy.sparse.linalg import spsolve\n",
    "    >>> A = csc_matrix([[3, 2, 0], [1, -1, 0], [0, 5, 1]], dtype=float)\n",
    "    >>> B = csc_matrix([[2, 0], [-1, 0], [2, 0]], dtype=float)\n",
    "    >>> x = spsolve(A, B)\n",
    "    >>> np.allclose(A.dot(x).todense(), B.todense())\n",
    "    True\n",
    "    \"\"\"\n",
    "\n",
    "    if is_pydata_spmatrix(A):\n",
    "        A = A.to_scipy_sparse().tocsc()\n",
    "\n",
    "    if not (isspmatrix_csc(A) or isspmatrix_csr(A)):\n",
    "        A = csc_matrix(A)\n",
    "        warn('spsolve requires A be CSC or CSR matrix format',\n",
    "                SparseEfficiencyWarning)\n",
    "\n",
    "    # b is a vector only if b have shape (n,) or (n, 1)\n",
    "    b_is_sparse = isspmatrix(b) or is_pydata_spmatrix(b)\n",
    "    if not b_is_sparse:\n",
    "        b = asarray(b)\n",
    "    b_is_vector = ((b.ndim == 1) or (b.ndim == 2 and b.shape[1] == 1))\n",
    "\n",
    "    # sum duplicates for non-canonical format\n",
    "    A.sum_duplicates()\n",
    "    A = A.asfptype()  # upcast to a floating point format\n",
    "    result_dtype = np.promote_types(A.dtype, b.dtype)\n",
    "    if A.dtype != result_dtype:\n",
    "        A = A.astype(result_dtype)\n",
    "    if b.dtype != result_dtype:\n",
    "        b = b.astype(result_dtype)\n",
    "\n",
    "    # validate input shapes\n",
    "    M, N = A.shape\n",
    "    if (M != N):\n",
    "        raise ValueError(\"matrix must be square (has shape %s)\" % ((M, N),))\n",
    "\n",
    "    if M != b.shape[0]:\n",
    "        raise ValueError(\"matrix - rhs dimension mismatch (%s - %s)\"\n",
    "                         % (A.shape, b.shape[0]))\n",
    "\n",
    "    use_umfpack = use_umfpack and useUmfpack\n",
    "\n",
    "    if b_is_vector and use_umfpack:\n",
    "        if b_is_sparse:\n",
    "            b_vec = b.toarray()\n",
    "        else:\n",
    "            b_vec = b\n",
    "        b_vec = asarray(b_vec, dtype=A.dtype).ravel()\n",
    "\n",
    "        if noScikit:\n",
    "            raise RuntimeError('Scikits.umfpack not installed.')\n",
    "\n",
    "        if A.dtype.char not in 'dD':\n",
    "            raise ValueError(\"convert matrix data to double, please, using\"\n",
    "                  \" .astype(), or set linsolve.useUmfpack = False\")\n",
    "\n",
    "        umf_family, A = _get_umf_family(A)\n",
    "        umf = umfpack.UmfpackContext(umf_family)\n",
    "        x = umf.linsolve(umfpack.UMFPACK_A, A, b_vec,\n",
    "                         autoTranspose=True)\n",
    "    else:\n",
    "        if b_is_vector and b_is_sparse:\n",
    "            b = b.toarray()\n",
    "            b_is_sparse = False\n",
    "\n",
    "        if not b_is_sparse:\n",
    "            if isspmatrix_csc(A):\n",
    "                flag = 1  # CSC format\n",
    "            else:\n",
    "                flag = 0  # CSR format\n",
    "\n",
    "            options = dict(ColPerm=permc_spec)\n",
    "            x, info = _superlu.gssv(N, A.nnz, A.data, A.indices, A.indptr,\n",
    "                                    b, flag, options=options)\n",
    "            if info != 0:\n",
    "                warn(\"Matrix is exactly singular\", MatrixRankWarning)\n",
    "                x.fill(np.nan)\n",
    "            if b_is_vector:\n",
    "                x = x.ravel()\n",
    "        else:\n",
    "            # b is sparse\n",
    "            Afactsolve = factorized(A)\n",
    "\n",
    "            if not (isspmatrix_csc(b) or is_pydata_spmatrix(b)):\n",
    "                warn('spsolve is more efficient when sparse b '\n",
    "                     'is in the CSC matrix format', SparseEfficiencyWarning)\n",
    "                b = csc_matrix(b)\n",
    "\n",
    "            # Create a sparse output matrix by repeatedly applying\n",
    "            # the sparse factorization to solve columns of b.\n",
    "            data_segs = []\n",
    "            row_segs = []\n",
    "            col_segs = []\n",
    "            for j in range(b.shape[1]):\n",
    "                bj = np.asarray(b[:, j].todense()).ravel()\n",
    "                xj = Afactsolve(bj)\n",
    "                w = np.flatnonzero(xj)\n",
    "                segment_length = w.shape[0]\n",
    "                row_segs.append(w)\n",
    "                col_segs.append(np.full(segment_length, j, dtype=int))\n",
    "                data_segs.append(np.asarray(xj[w], dtype=A.dtype))\n",
    "            sparse_data = np.concatenate(data_segs)\n",
    "            sparse_row = np.concatenate(row_segs)\n",
    "            sparse_col = np.concatenate(col_segs)\n",
    "            x = A.__class__((sparse_data, (sparse_row, sparse_col)),\n",
    "                           shape=b.shape, dtype=A.dtype)\n",
    "\n",
    "            if is_pydata_spmatrix(b):\n",
    "                x = b.__class__(x)\n",
    "\n",
    "    return x"
   ]
  }
 ],
 "metadata": {
  "kernelspec": {
   "display_name": "Python 3",
   "language": "python",
   "name": "python3"
  },
  "language_info": {
   "codemirror_mode": {
    "name": "ipython",
    "version": 3
   },
   "file_extension": ".py",
   "mimetype": "text/x-python",
   "name": "python",
   "nbconvert_exporter": "python",
   "pygments_lexer": "ipython3",
   "version": "3.8.5-final"
  }
 },
 "nbformat": 4,
 "nbformat_minor": 4
}