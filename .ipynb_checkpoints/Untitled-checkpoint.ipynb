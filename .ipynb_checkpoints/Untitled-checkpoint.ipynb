{
 "cells": [
  {
   "cell_type": "code",
   "execution_count": 1,
   "metadata": {},
   "outputs": [],
   "source": [
    "import matplotlib.pyplot as plt\n",
    "import numpy as np\n",
    "from scipy.io import loadmat\n",
    "from scipy.interpolate import interp1d"
   ]
  },
  {
   "cell_type": "code",
   "execution_count": 2,
   "metadata": {},
   "outputs": [
    {
     "data": {
      "text/plain": [
       "<matplotlib.legend.Legend at 0x7fdd1f445700>"
      ]
     },
     "execution_count": 2,
     "metadata": {},
     "output_type": "execute_result"
    },
    {
     "data": {
      "image/png": "[encoded data removed]",
      "text/plain": [
       "<Figure size 432x288 with 4 Axes>"
      ]
     },
     "metadata": {
      "needs_background": "light"
     },
     "output_type": "display_data"
    }
   ],
   "source": [
    "fig,ax=plt.subplots(2,2)\n",
    "pts=np.array([0,1,2])\n",
    "line1,=ax[0,0].plot(pts,label='a')\n",
    "line2,=ax[0,0].plot(pts+1,label='b')\n",
    "\n",
    "[ax.plot(pts,label='a') for ax in ax.flatten()[1:]]\n",
    "[ax.plot(pts+1,label='b') for ax in ax.flatten()[1:]]\n",
    "fig.legend((line1,line2),('a','b'),loc=10, bbox_to_anchor=(.5,.5),framealpha=1)"
   ]
  },
  {
   "cell_type": "code",
   "execution_count": null,
   "metadata": {},
   "outputs": [],
   "source": [
    "data=loadmat('Zeeman.mat')"
   ]
  },
  {
   "cell_type": "code",
   "execution_count": null,
   "metadata": {},
   "outputs": [],
   "source": [
    "fig,ax=plt.subplots()\n",
    "ax.plot(data['Tlist'].flatten(),(data['gaplist_SC']-data['gaplist_N']).flatten(),'.',color='b')\n",
    "ax.set_xlabel('$E_Z$',color='b')\n",
    "ax.set_ylabel('$\\Delta$')\n",
    "ax.tick_params(axis='y', labelcolor='b')\n",
    "\n",
    "ax2=ax.twinx()\n",
    "ax2.plot(data['Tlist'].flatten(),(data['htotlist_SC']-data['htotlist_N']).flatten(),'.',color='r')\n",
    "ax2.set_ylabel('$\\Delta E$',color='r')\n",
    "ax2.tick_params(axis='y', labelcolor='r')\n",
    "\n",
    "\n"
   ]
  },
  {
   "cell_type": "code",
   "execution_count": null,
   "metadata": {},
   "outputs": [],
   "source": [
    "f=interp1d((data['htotlist_SC']-data['htotlist_N']).flatten()[:12],data['Tlist'].flatten()[:12])"
   ]
  },
  {
   "cell_type": "code",
   "execution_count": null,
   "metadata": {},
   "outputs": [],
   "source": [
    "f(0)"
   ]
  },
  {
   "cell_type": "code",
   "execution_count": null,
   "metadata": {},
   "outputs": [],
   "source": [
    "1/np.sqrt(2)"
   ]
  },
  {
   "cell_type": "code",
   "execution_count": null,
   "metadata": {},
   "outputs": [],
   "source": [
    "fig,ax=plt.subplots(2,1)\n",
    "[ax.plot([0,1],[0,2]) for ax in ax]\n",
    "# ax.set_xlim([0,2])\n",
    "ax[0].text(0.05,0.5,'Text',ha='center',va='center',transform=fig.transFigure)"
   ]
  },
  {
   "cell_type": "code",
   "execution_count": null,
   "metadata": {},
   "outputs": [],
   "source": [
    "ax[0]"
   ]
  },
  {
   "cell_type": "code",
   "execution_count": null,
   "metadata": {},
   "outputs": [],
   "source": [
    "import kwant"
   ]
  },
  {
   "cell_type": "code",
   "execution_count": null,
   "metadata": {},
   "outputs": [],
   "source": [
    "param={'a':1,'mp':1,'mn':.5,'Ep':0,'En':0,'L':10}"
   ]
  },
  {
   "cell_type": "code",
   "execution_count": null,
   "metadata": {},
   "outputs": [],
   "source": [
    "def make_system(param):\n",
    "    a=param['a']\n",
    "    mn=param['mn']\n",
    "    mp=param['mp']\n",
    "    Ep=param['Ep']\n",
    "    En=param['En']\n",
    "    L=param['L']\n",
    "    \n",
    "    tp=1/(2*mp*a*a)\n",
    "    tn=1/(2*mn*a*a)\n",
    "    t_int=np.sqrt(tn*tp)\n",
    "\n",
    "    lat = kwant.lattice.chain(a)\n",
    "    syst = kwant.Builder()\n",
    "    syst[(lat(x) for x in range(L-1))]=2*tn-En\n",
    "    syst[(lat(x+L) for x in range(L-1))]=2*tp-Ep\n",
    "    syst[lat(L-1)]=tn+t_int-En\n",
    "    syst[lat(2*L-1)]=tp+t_int-Ep\n",
    "    for i in range(L-1):\n",
    "        syst[lat(i),lat(i+1)]=-tn\n",
    "        syst[lat(i+L),lat(i+L+1)]=-tp\n",
    "        \n",
    "    syst[lat(L-1),lat(L)]=-t_int\n",
    "    \n",
    "    leadn=kwant.Builder(kwant.TranslationalSymmetry([-a]))\n",
    "    leadn[lat(0)]=2*tn-En\n",
    "    leadn[lat(0),lat(1)]=-tn\n",
    "    syst.attach_lead(leadn)\n",
    "    leadp=kwant.Builder(kwant.TranslationalSymmetry([a]))\n",
    "    leadp[lat(0)]=2*tp-Ep\n",
    "    leadp[lat(0),lat(1)]=-tp\n",
    "    syst.attach_lead(leadp)\n",
    "\n",
    "    syst=syst.finalized()\n",
    "    return syst"
   ]
  },
  {
   "cell_type": "code",
   "execution_count": null,
   "metadata": {},
   "outputs": [],
   "source": [
    "syst=make_system(param)"
   ]
  },
  {
   "cell_type": "code",
   "execution_count": null,
   "metadata": {},
   "outputs": [],
   "source": [
    "kwant.plot(syst)"
   ]
  },
  {
   "cell_type": "code",
   "execution_count": null,
   "metadata": {},
   "outputs": [],
   "source": [
    "plt.imshow(np.real(syst.hamiltonian_submatrix()))"
   ]
  },
  {
   "cell_type": "code",
   "execution_count": null,
   "metadata": {},
   "outputs": [],
   "source": [
    "energies=np.linspace(0.1,5,60)+30"
   ]
  },
  {
   "cell_type": "code",
   "execution_count": null,
   "metadata": {},
   "outputs": [],
   "source": [
    "r=0*energies"
   ]
  },
  {
   "cell_type": "code",
   "execution_count": null,
   "metadata": {},
   "outputs": [],
   "source": [
    "for index,energy in enumerate(energies):\n",
    "    smatrix = kwant.smatrix(syst, energy)\n",
    "    r[index]=smatrix.transmission(0,0)"
   ]
  },
  {
   "cell_type": "code",
   "execution_count": null,
   "metadata": {},
   "outputs": [],
   "source": [
    "fig,ax=plt.subplots()\n",
    "ax.plot(energies,r)\n",
    "ax.axhline(y=reflection(0.2,param))\n",
    "# ax.set_ylim([0,0.2])"
   ]
  },
  {
   "cell_type": "code",
   "execution_count": null,
   "metadata": {},
   "outputs": [],
   "source": [
    "r"
   ]
  },
  {
   "cell_type": "code",
   "execution_count": null,
   "metadata": {},
   "outputs": [],
   "source": [
    "kwant.smatrix(syst,2.01)"
   ]
  },
  {
   "cell_type": "code",
   "execution_count": null,
   "metadata": {},
   "outputs": [],
   "source": [
    "fig,ax=plt.subplots()\n",
    "ax.plot(energies,r)\n",
    "ax.axhline(y=reflection(0.1,param))\n",
    "# ax.set_ylim([0,0.2])"
   ]
  },
  {
   "cell_type": "code",
   "execution_count": null,
   "metadata": {},
   "outputs": [],
   "source": [
    "def reflection(E,param):\n",
    "    mn=param['mn']\n",
    "    mp=param['mp']\n",
    "    Ep=param['Ep']\n",
    "    En=param['En']\n",
    "    \n",
    "    kn=np.sqrt(2*mn*(E-En))\n",
    "    kp=np.sqrt(2*mp*(E-Ep))\n",
    "    return ((kn-kp)/(kn+kp))**2\n",
    "    "
   ]
  },
  {
   "cell_type": "code",
   "execution_count": null,
   "metadata": {},
   "outputs": [],
   "source": [
    "reflection(0.1,param)"
   ]
  },
  {
   "cell_type": "code",
   "execution_count": null,
   "metadata": {},
   "outputs": [],
   "source": [
    "smatrix.transmission(1,1)"
   ]
  },
  {
   "cell_type": "code",
   "execution_count": null,
   "metadata": {},
   "outputs": [],
   "source": [
    "smatrix.transmission(0,0)"
   ]
  },
  {
   "cell_type": "code",
   "execution_count": null,
   "metadata": {},
   "outputs": [],
   "source": [
    "z=loadmat('Nk(80,100,50)g5.550000ED50.000000.mat')"
   ]
  },
  {
   "cell_type": "code",
   "execution_count": null,
   "metadata": {},
   "outputs": [],
   "source": [
    "z.keys()"
   ]
  },
  {
   "cell_type": "code",
   "execution_count": null,
   "metadata": {},
   "outputs": [],
   "source": [
    "z['dlist'].shape"
   ]
  },
  {
   "cell_type": "code",
   "execution_count": null,
   "metadata": {},
   "outputs": [],
   "source": [
    "plt.plot(np.mean(z['dlist'],axis=(0,1)))"
   ]
  },
  {
   "cell_type": "code",
   "execution_count": null,
   "metadata": {},
   "outputs": [],
   "source": [
    "plt.plot(z['htotlist'].flatten())"
   ]
  },
  {
   "cell_type": "code",
   "execution_count": null,
   "metadata": {},
   "outputs": [],
   "source": [
    "plt.pcolormesh(z['dlist'][:,:,-1])"
   ]
  },
  {
   "cell_type": "code",
   "execution_count": null,
   "metadata": {},
   "outputs": [],
   "source": [
    "np.concatenate((np.arange(50,150,20),np.arange(200,500,50)))"
   ]
  },
  {
   "cell_type": "code",
   "execution_count": null,
   "metadata": {},
   "outputs": [],
   "source": [
    "Nk61={}\n",
    "for i in np.concatenate((np.arange(50,150,20),np.arange(150,501,50))):\n",
    "    Nk61[i]=loadmat('Nk(61,100,{:d})g9.10ED1.0.mat'.format(i))"
   ]
  },
  {
   "cell_type": "code",
   "execution_count": null,
   "metadata": {},
   "outputs": [],
   "source": [
    "i=500\n",
    "Nk61[i]=loadmat('Nk(61,100,{:d})g9.10ED1.0.mat'.format(i))"
   ]
  },
  {
   "cell_type": "code",
   "execution_count": null,
   "metadata": {},
   "outputs": [],
   "source": [
    "show_plot(Nk61[50])"
   ]
  },
  {
   "cell_type": "code",
   "execution_count": null,
   "metadata": {},
   "outputs": [],
   "source": [
    "show_plot(Nk61[70])"
   ]
  },
  {
   "cell_type": "code",
   "execution_count": null,
   "metadata": {},
   "outputs": [],
   "source": [
    "show_plot(Nk61[90])"
   ]
  },
  {
   "cell_type": "code",
   "execution_count": null,
   "metadata": {},
   "outputs": [],
   "source": [
    "show_plot(Nk61[110])"
   ]
  },
  {
   "cell_type": "code",
   "execution_count": null,
   "metadata": {},
   "outputs": [],
   "source": [
    "show_plot(Nk61[130])"
   ]
  },
  {
   "cell_type": "code",
   "execution_count": null,
   "metadata": {},
   "outputs": [],
   "source": [
    "show_plot(Nk61[150])"
   ]
  },
  {
   "cell_type": "code",
   "execution_count": null,
   "metadata": {},
   "outputs": [],
   "source": [
    "show_plot(Nk61[200])"
   ]
  },
  {
   "cell_type": "code",
   "execution_count": null,
   "metadata": {},
   "outputs": [],
   "source": [
    "show_plot(Nk61[250])"
   ]
  },
  {
   "cell_type": "code",
   "execution_count": null,
   "metadata": {},
   "outputs": [],
   "source": [
    "show_plot(Nk61[300])"
   ]
  },
  {
   "cell_type": "code",
   "execution_count": null,
   "metadata": {},
   "outputs": [],
   "source": [
    "show_plot(Nk61[350])"
   ]
  },
  {
   "cell_type": "code",
   "execution_count": null,
   "metadata": {},
   "outputs": [],
   "source": [
    "show_plot(Nk61[400])"
   ]
  },
  {
   "cell_type": "code",
   "execution_count": null,
   "metadata": {},
   "outputs": [],
   "source": [
    "show_plot(Nk61[450])"
   ]
  },
  {
   "cell_type": "code",
   "execution_count": null,
   "metadata": {},
   "outputs": [],
   "source": [
    "show_plot(Nk61[500])"
   ]
  },
  {
   "cell_type": "code",
   "execution_count": null,
   "metadata": {},
   "outputs": [],
   "source": [
    "np.concatenate((np.arange(50,251,20),np.arange(350,500,50),np.arange(500,1000,100)))"
   ]
  },
  {
   "cell_type": "code",
   "execution_count": null,
   "metadata": {},
   "outputs": [],
   "source": [
    "Nk80.keys()"
   ]
  },
  {
   "cell_type": "code",
   "execution_count": null,
   "metadata": {},
   "outputs": [],
   "source": [
    "Nk80={}\n",
    "for i in np.concatenate((np.arange(50,251,20),np.arange(350,500,50),np.arange(500,1000,100))):\n",
    "    Nk80[i]=loadmat('Nk(80,100,{:d})g9.10ED1.0.mat'.format(i))"
   ]
  },
  {
   "cell_type": "code",
   "execution_count": null,
   "metadata": {},
   "outputs": [],
   "source": [
    "i=1000\n",
    "Nk80[i]=loadmat('Nk(80,100,{:d})g9.10ED1.0.mat'.format(i))"
   ]
  },
  {
   "cell_type": "code",
   "execution_count": null,
   "metadata": {},
   "outputs": [],
   "source": [
    "show_plot(Nk80[50])"
   ]
  },
  {
   "cell_type": "code",
   "execution_count": null,
   "metadata": {},
   "outputs": [],
   "source": [
    "show_plot(Nk80[70])"
   ]
  },
  {
   "cell_type": "code",
   "execution_count": null,
   "metadata": {},
   "outputs": [],
   "source": [
    "show_plot(Nk80[90])"
   ]
  },
  {
   "cell_type": "code",
   "execution_count": null,
   "metadata": {},
   "outputs": [],
   "source": [
    "show_plot(Nk80[110])"
   ]
  },
  {
   "cell_type": "code",
   "execution_count": null,
   "metadata": {},
   "outputs": [],
   "source": [
    "show_plot(Nk80[130])"
   ]
  },
  {
   "cell_type": "code",
   "execution_count": null,
   "metadata": {},
   "outputs": [],
   "source": [
    "show_plot(Nk80[150])"
   ]
  },
  {
   "cell_type": "code",
   "execution_count": null,
   "metadata": {},
   "outputs": [],
   "source": [
    "show_plot(Nk80[170])"
   ]
  },
  {
   "cell_type": "code",
   "execution_count": null,
   "metadata": {},
   "outputs": [],
   "source": [
    "show_plot(Nk80[190])"
   ]
  },
  {
   "cell_type": "code",
   "execution_count": null,
   "metadata": {},
   "outputs": [],
   "source": [
    "show_plot(Nk80[210])"
   ]
  },
  {
   "cell_type": "code",
   "execution_count": null,
   "metadata": {},
   "outputs": [],
   "source": [
    "show_plot(Nk80[230])"
   ]
  },
  {
   "cell_type": "code",
   "execution_count": null,
   "metadata": {},
   "outputs": [],
   "source": [
    "show_plot(Nk80[250])"
   ]
  },
  {
   "cell_type": "code",
   "execution_count": null,
   "metadata": {},
   "outputs": [],
   "source": [
    "show_plot(Nk80[350])"
   ]
  },
  {
   "cell_type": "code",
   "execution_count": null,
   "metadata": {},
   "outputs": [],
   "source": [
    "show_plot(Nk80[400])"
   ]
  },
  {
   "cell_type": "code",
   "execution_count": null,
   "metadata": {},
   "outputs": [],
   "source": [
    "show_plot(Nk80[450])"
   ]
  },
  {
   "cell_type": "code",
   "execution_count": null,
   "metadata": {},
   "outputs": [],
   "source": [
    "show_plot(Nk80[500])"
   ]
  },
  {
   "cell_type": "code",
   "execution_count": null,
   "metadata": {},
   "outputs": [],
   "source": [
    "show_plot(Nk80[600])"
   ]
  },
  {
   "cell_type": "code",
   "execution_count": null,
   "metadata": {},
   "outputs": [],
   "source": [
    "show_plot(Nk80[700])"
   ]
  },
  {
   "cell_type": "code",
   "execution_count": null,
   "metadata": {},
   "outputs": [],
   "source": [
    "show_plot(Nk80[800])"
   ]
  },
  {
   "cell_type": "code",
   "execution_count": null,
   "metadata": {},
   "outputs": [],
   "source": [
    "show_plot(Nk80[900])"
   ]
  },
  {
   "cell_type": "code",
   "execution_count": null,
   "metadata": {},
   "outputs": [],
   "source": [
    "show_plot(Nk80[1000])"
   ]
  },
  {
   "cell_type": "code",
   "execution_count": null,
   "metadata": {},
   "outputs": [],
   "source": [
    "show_plot(Nk80[110])"
   ]
  },
  {
   "cell_type": "code",
   "execution_count": null,
   "metadata": {},
   "outputs": [],
   "source": [
    "nx={}\n",
    "nx['0']=loadmat('Nk(60,100,50)g9.10ED1.0.mat')\n",
    "nx['1']=loadmat('Nk(61,100,50)g9.10ED1.0.mat')\n",
    "nx['10']=loadmat('Nk(70,100,50)g9.10ED1.0.mat')\n",
    "nx['20']=loadmat('Nk(80,100,50)g9.10ED1.0.mat')\n"
   ]
  },
  {
   "cell_type": "code",
   "execution_count": null,
   "metadata": {},
   "outputs": [],
   "source": [
    "nkz={}\n",
    "for Nz in np.arange(50,211,20):\n",
    "    nkz[str(Nz)]=loadmat('Nk(80,100,{})g9.10ED1.0.mat'.format(Nz))"
   ]
  },
  {
   "cell_type": "code",
   "execution_count": null,
   "metadata": {},
   "outputs": [],
   "source": [
    "for Nz in (230,250,350,400,450,500):\n",
    "    nkz[str(Nz)]=loadmat('Nk(80,100,{})g9.10ED1.0.mat'.format(Nz))"
   ]
  },
  {
   "cell_type": "code",
   "execution_count": null,
   "metadata": {},
   "outputs": [],
   "source": [
    "show_plot(nx['0'])"
   ]
  },
  {
   "cell_type": "code",
   "execution_count": null,
   "metadata": {},
   "outputs": [],
   "source": [
    "show_plot(nx['1'])"
   ]
  },
  {
   "cell_type": "code",
   "execution_count": null,
   "metadata": {},
   "outputs": [],
   "source": [
    "show_plot(nx['10'])"
   ]
  },
  {
   "cell_type": "code",
   "execution_count": null,
   "metadata": {},
   "outputs": [],
   "source": [
    "show_plot(nx['20'])"
   ]
  },
  {
   "cell_type": "code",
   "execution_count": null,
   "metadata": {},
   "outputs": [],
   "source": [
    "show_plot(nkz['50'])"
   ]
  },
  {
   "cell_type": "code",
   "execution_count": null,
   "metadata": {},
   "outputs": [],
   "source": [
    "show_plot(nkz['70'])"
   ]
  },
  {
   "cell_type": "code",
   "execution_count": null,
   "metadata": {},
   "outputs": [],
   "source": [
    "show_plot(nkz['90'])"
   ]
  },
  {
   "cell_type": "code",
   "execution_count": null,
   "metadata": {},
   "outputs": [],
   "source": [
    "show_plot(nkz['110'])"
   ]
  },
  {
   "cell_type": "code",
   "execution_count": null,
   "metadata": {},
   "outputs": [],
   "source": [
    "show_plot(nkz['130'])"
   ]
  },
  {
   "cell_type": "code",
   "execution_count": null,
   "metadata": {},
   "outputs": [],
   "source": [
    "show_plot(nkz['150'])"
   ]
  },
  {
   "cell_type": "code",
   "execution_count": null,
   "metadata": {},
   "outputs": [],
   "source": [
    "show_plot(nkz['170'])"
   ]
  },
  {
   "cell_type": "code",
   "execution_count": null,
   "metadata": {},
   "outputs": [],
   "source": [
    "show_plot(nkz['190'])"
   ]
  },
  {
   "cell_type": "code",
   "execution_count": null,
   "metadata": {},
   "outputs": [],
   "source": [
    "show_plot(nkz['210'])"
   ]
  },
  {
   "cell_type": "code",
   "execution_count": null,
   "metadata": {},
   "outputs": [],
   "source": [
    "show_plot(nkz['230'])"
   ]
  },
  {
   "cell_type": "code",
   "execution_count": null,
   "metadata": {},
   "outputs": [],
   "source": [
    "show_plot(nkz['250'])"
   ]
  },
  {
   "cell_type": "code",
   "execution_count": null,
   "metadata": {},
   "outputs": [],
   "source": [
    "show_plot(nkz['350'])"
   ]
  },
  {
   "cell_type": "code",
   "execution_count": null,
   "metadata": {},
   "outputs": [],
   "source": [
    "show_plot(nkz['400'])"
   ]
  },
  {
   "cell_type": "code",
   "execution_count": null,
   "metadata": {},
   "outputs": [],
   "source": [
    "show_plot(nkz['450'])"
   ]
  },
  {
   "cell_type": "code",
   "execution_count": null,
   "metadata": {},
   "outputs": [],
   "source": [
    "show_plot(nkz['500'])"
   ]
  },
  {
   "cell_type": "code",
   "execution_count": null,
   "metadata": {},
   "outputs": [],
   "source": []
  },
  {
   "cell_type": "code",
   "execution_count": null,
   "metadata": {},
   "outputs": [],
   "source": [
    "(nkz['110']['param'])['N_FM']"
   ]
  },
  {
   "cell_type": "code",
   "execution_count": null,
   "metadata": {},
   "outputs": [],
   "source": [
    "data=zz['0']\n",
    "\n",
    "fig,ax=plt.subplots(2,2)\n",
    "ax[0,0].plot(np.mean(data['dlist'][:,-60:,:],(0,1)))\n",
    "ax[0,0].text(.5,1,'mean delta = {:f}meV'.format(1000*np.mean(data['dlist'][:,-60:,:],(0,1))[-1]),ha='center',va='bottom',transform=ax[0,0].transAxes)\n",
    "ax[0,1].plot(data['htotlist'][0])\n",
    "gs = ax[1, 0].get_gridspec()\n",
    "ax[1,0].remove()\n",
    "ax[1,1].remove()\n",
    "axbig = fig.add_subplot(gs[1,:])\n",
    "axbig.pcolormesh(data['dlist'][:,:,-1])"
   ]
  },
  {
   "cell_type": "code",
   "execution_count": null,
   "metadata": {},
   "outputs": [],
   "source": [
    "data=zz['1']\n",
    "\n",
    "fig,ax=plt.subplots(2,2)\n",
    "ax[0,0].plot(np.mean(data['dlist'][:,-60:,:],(0,1)))\n",
    "ax[0,0].text(.5,1,'mean delta = {:f}meV'.format(1000*np.mean(data['dlist'][:,-60:,:],(0,1))[-1]),ha='center',va='bottom',transform=ax[0,0].transAxes)\n",
    "ax[0,1].plot(data['htotlist'][0])\n",
    "gs = ax[1, 0].get_gridspec()\n",
    "ax[1,0].remove()\n",
    "ax[1,1].remove()\n",
    "axbig = fig.add_subplot(gs[1,:])\n",
    "axbig.pcolormesh(data['dlist'][:,:,-1])"
   ]
  },
  {
   "cell_type": "code",
   "execution_count": null,
   "metadata": {},
   "outputs": [],
   "source": [
    "data=zz['2']\n",
    "\n",
    "fig,ax=plt.subplots(2,2)\n",
    "ax[0,0].plot(np.mean(data['dlist'][:,-60:,:],(0,1)))\n",
    "ax[0,0].text(.5,1,'mean delta = {:f}meV'.format(1000*np.mean(data['dlist'][:,-60:,:],(0,1))[-1]),ha='center',va='bottom',transform=ax[0,0].transAxes)\n",
    "ax[0,1].plot(data['htotlist'][0])\n",
    "gs = ax[1, 0].get_gridspec()\n",
    "ax[1,0].remove()\n",
    "ax[1,1].remove()\n",
    "axbig = fig.add_subplot(gs[1,:])\n",
    "axbig.pcolormesh(data['dlist'][:,:,-1])"
   ]
  },
  {
   "cell_type": "code",
   "execution_count": null,
   "metadata": {},
   "outputs": [],
   "source": [
    "data=zz['20']\n",
    "\n",
    "fig,ax=plt.subplots(2,2)\n",
    "ax[0,0].plot(np.mean(data['dlist'][:,-60:,:],(0,1)))\n",
    "ax[0,0].text(.5,1,'mean delta = {:f}meV'.format(1000*np.mean(data['dlist'][:,-60:,:],(0,1))[-1]),ha='center',va='bottom',transform=ax[0,0].transAxes)\n",
    "ax[0,1].plot(data['htotlist'][0])\n",
    "gs = ax[1, 0].get_gridspec()\n",
    "ax[1,0].remove()\n",
    "ax[1,1].remove()\n",
    "axbig = fig.add_subplot(gs[1,:])\n",
    "axbig.pcolormesh(data['dlist'][:,:,-1])"
   ]
  },
  {
   "cell_type": "markdown",
   "metadata": {},
   "source": [
    "# Show_plot"
   ]
  },
  {
   "cell_type": "code",
   "execution_count": 6,
   "metadata": {},
   "outputs": [],
   "source": [
    "def show_plot(data):\n",
    "    fig,ax=plt.subplots(2,2)\n",
    "    ax[0,0].plot(np.mean(data['dlist'][:,-60:,:],(0,1)))\n",
    "    ax[0,0].text(.5,1,'mean delta = {:f}meV'.format(1000*np.mean(data['dlist'][:,-60:,:],(0,1))[-1]),ha='center',va='bottom',transform=ax[0,0].transAxes)\n",
    "    ax[0,1].plot(data['htotlist'][0])\n",
    "    gs = ax[1, 0].get_gridspec()\n",
    "    ax[1,0].remove()\n",
    "    ax[1,1].remove()\n",
    "    axbig = fig.add_subplot(gs[1,:])\n",
    "    axbig.pcolormesh(data['dlist'][:,:,-1])\n",
    "    return 1000*np.mean(data['dlist'][:,-60:,:],(0,1))[-1]"
   ]
  },
  {
   "cell_type": "code",
   "execution_count": 6,
   "metadata": {},
   "outputs": [
    {
     "data": {
      "text/plain": [
       "array([  50,   70,   90,  110,  130,  150,  200,  250,  300,  350,  400,\n",
       "        450,  500,  600,  700,  800,  900, 1000, 1100])"
      ]
     },
     "execution_count": 6,
     "metadata": {},
     "output_type": "execute_result"
    }
   ],
   "source": [
    "np.concatenate((np.arange(50,150,20),np.arange(150,501,50),np.arange(600,1101,100)))"
   ]
  },
  {
   "cell_type": "code",
   "execution_count": 2,
   "metadata": {},
   "outputs": [],
   "source": [
    "import time"
   ]
  },
  {
   "cell_type": "code",
   "execution_count": 4,
   "metadata": {},
   "outputs": [
    {
     "name": "stdout",
     "output_type": "stream",
     "text": [
      "85.04221749305725\n"
     ]
    }
   ],
   "source": [
    "st=time.time()\n",
    "Nk61={}\n",
    "for i in np.concatenate((np.arange(50,150,20),np.arange(150,501,50),np.arange(600,1101,100))):\n",
    "    Nk61[i]=loadmat('Nk(61,100,{:d})g9.10ED1.0.mat'.format(i))\n",
    "print(time.time()-st)"
   ]
  },
  {
   "cell_type": "code",
   "execution_count": 7,
   "metadata": {},
   "outputs": [
    {
     "name": "stdout",
     "output_type": "stream",
     "text": [
      "0.11824154853820801\n"
     ]
    },
    {
     "data": {
      "image/png": "[encoded data removed]",
      "text/plain": [
       "<Figure size 432x288 with 3 Axes>"
      ]
     },
     "metadata": {
      "needs_background": "light"
     },
     "output_type": "display_data"
    }
   ],
   "source": [
    "st=time.time()\n",
    "show_plot(Nk61[50])\n",
    "print(time.time()-st)"
   ]
  },
  {
   "cell_type": "code",
   "execution_count": null,
   "metadata": {},
   "outputs": [],
   "source": [
    "kzlen=[x[0].shape[0] for x in nkz['500']['energyall']]"
   ]
  },
  {
   "cell_type": "code",
   "execution_count": null,
   "metadata": {},
   "outputs": [],
   "source": [
    "kz"
   ]
  },
  {
   "cell_type": "code",
   "execution_count": null,
   "metadata": {},
   "outputs": [],
   "source": [
    "kz=[float(ind) for ind in nkz.keys()]"
   ]
  },
  {
   "cell_type": "code",
   "execution_count": null,
   "metadata": {},
   "outputs": [],
   "source": [
    "meangap=[1000*np.mean(x['dlist'][:,:,-1],(0,1)) for x in nkz.values()]"
   ]
  },
  {
   "cell_type": "code",
   "execution_count": null,
   "metadata": {},
   "outputs": [],
   "source": [
    "plt.plot(kz,meangap,'.-')"
   ]
  },
  {
   "cell_type": "code",
   "execution_count": null,
   "metadata": {},
   "outputs": [],
   "source": [
    "plt.plot(kzlen)"
   ]
  },
  {
   "cell_type": "code",
   "execution_count": null,
   "metadata": {},
   "outputs": [],
   "source": []
  }
 ],
 "metadata": {
  "kernelspec": {
   "display_name": "Python 3",
   "language": "python",
   "name": "python3"
  },
  "language_info": {
   "codemirror_mode": {
    "name": "ipython",
    "version": 3
   },
   "file_extension": ".py",
   "mimetype": "text/x-python",
   "name": "python",
   "nbconvert_exporter": "python",
   "pygments_lexer": "ipython3",
   "version": "3.8.5"
  }
 },
 "nbformat": 4,
 "nbformat_minor": 4
}
