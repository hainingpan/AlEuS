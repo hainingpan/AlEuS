{
 "cells": [
  {
   "cell_type": "code",
   "execution_count": 55,
   "metadata": {},
   "outputs": [],
   "source": [
    "%matplotlib inline\n",
    "import matplotlib.pyplot as plt"
   ]
  },
  {
   "cell_type": "code",
   "execution_count": 56,
   "metadata": {},
   "outputs": [],
   "source": [
    "import numpy as np\n",
    "import kwant"
   ]
  },
  {
   "cell_type": "code",
   "execution_count": 3,
   "metadata": {},
   "outputs": [],
   "source": [
    "def make_1d_junction(a=10, d=50, add_left_lead=True, add_right_lead=True):\n",
    "    lat = kwant.lattice.chain(a)\n",
    "    syst = kwant.Builder()\n",
    "    \n",
    "    def shape_junction(pos):\n",
    "        x = pos[0]\n",
    "        return -d <= x <= d\n",
    "    def onsite(site, t_L, t_R, t_tunnel, mu_L, mu_R):\n",
    "        x = site.pos[0]\n",
    "        if x < -5:\n",
    "            return 2 * t_L - mu_L\n",
    "        elif x > 15:\n",
    "            return 2 * t_R - mu_R\n",
    "        elif x == 0:\n",
    "            return 1 * t_L + 1 * t_tunnel - mu_L\n",
    "        elif x == 10:\n",
    "            return 1 * t_R + 1 * t_tunnel - mu_R\n",
    "        \n",
    "    def hopping(site1, site2, t_L, t_R, t_tunnel):\n",
    "        x1 = site1.pos[0]\n",
    "        x2 = site2.pos[0]\n",
    "        if x1 > 5 and x2 > 5:\n",
    "            return -t_R\n",
    "        elif x1 < 5 and x2 < 5:\n",
    "            return -t_L\n",
    "        else:\n",
    "            return -t_tunnel\n",
    "        \n",
    "    def onsite_left_lead(site, t_L, mu_L):\n",
    "        return 2 * t_L - mu_L\n",
    "    def hopping_left_lead(site1, site2, t_L):\n",
    "        return -t_L\n",
    "    \n",
    "    def onsite_right_lead(site, t_R, mu_R):\n",
    "        return 2 * t_R - mu_R\n",
    "    def hopping_right_lead(site1, site2, t_R):\n",
    "        return -t_R\n",
    "        \n",
    "    \n",
    "    syst[lat.shape(shape_junction, [0])] = onsite\n",
    "    syst[lat.neighbors()] = hopping\n",
    "    \n",
    "    if add_left_lead is True:\n",
    "        sym_left_lead = kwant.TranslationalSymmetry([-a])\n",
    "        left_lead = kwant.Builder(sym_left_lead)\n",
    "        left_lead[lat(0)] = onsite_left_lead\n",
    "        left_lead[lat.neighbors()] = hopping_left_lead\n",
    "        syst.attach_lead(left_lead)\n",
    "    \n",
    "    if add_right_lead is True:\n",
    "        sym_right_lead = kwant.TranslationalSymmetry([a])\n",
    "        right_lead = kwant.Builder(sym_right_lead)\n",
    "        right_lead[lat(2)] = onsite_right_lead\n",
    "        right_lead[lat.neighbors()] = hopping_right_lead\n",
    "        syst.attach_lead(right_lead)\n",
    "    return syst.finalized()"
   ]
  },
  {
   "cell_type": "code",
   "execution_count": 126,
   "metadata": {},
   "outputs": [],
   "source": []
  },
  {
   "cell_type": "code",
   "execution_count": 41,
   "metadata": {},
   "outputs": [],
   "source": [
    "def get_T(syst, params):\n",
    "    smatrix = kwant.smatrix(syst, energy=0.001, params=params)\n",
    "    T = smatrix.transmission(1, 0) ### from lead-0 to lead-1\n",
    "    return T"
   ]
  },
  {
   "cell_type": "markdown",
   "metadata": {},
   "source": [
    "# Analytic"
   ]
  },
  {
   "cell_type": "code",
   "execution_count": 30,
   "metadata": {},
   "outputs": [],
   "source": [
    "m = 1\n",
    "M = 2\n",
    "mu_L = 30\n",
    "v_L = np.sqrt(mu_L / m)\n",
    "mu_R_range = np.linspace(1, 100, 100)\n",
    "v_R = np.sqrt(mu_R_range / M)\n",
    "T_sq_analytic = 4 * v_L * v_R / (v_L + v_R)**2"
   ]
  },
  {
   "cell_type": "code",
   "execution_count": null,
   "metadata": {},
   "outputs": [],
   "source": []
  },
  {
   "cell_type": "code",
   "execution_count": 44,
   "metadata": {},
   "outputs": [],
   "source": [
    "mu_R_range = np.linspace(0.01, 5, 100)"
   ]
  },
  {
   "cell_type": "markdown",
   "metadata": {},
   "source": [
    "# Numeric"
   ]
  },
  {
   "cell_type": "code",
   "execution_count": 51,
   "metadata": {},
   "outputs": [],
   "source": [
    "junction_geo_params = dict(\n",
    "    a=10,\n",
    "    d=50,\n",
    "    add_left_lead=True,\n",
    "    add_right_lead=True\n",
    ")\n",
    "junction = make_1d_junction(**junction_geo_params)"
   ]
  },
  {
   "cell_type": "code",
   "execution_count": 52,
   "metadata": {},
   "outputs": [
    {
     "data": {
      "image/png": "[encoded data removed]",
      "text/plain": [
       "<Figure size 432x288 with 1 Axes>"
      ]
     },
     "metadata": {
      "needs_background": "light"
     },
     "output_type": "display_data"
    }
   ],
   "source": [
    "kwant.plot(junction)\n",
    "plt.show()"
   ]
  },
  {
   "cell_type": "code",
   "execution_count": 53,
   "metadata": {},
   "outputs": [],
   "source": [
    "junction_geo_params = dict(\n",
    "    a=10,\n",
    "    d=50,\n",
    "    add_left_lead=True,\n",
    "    add_right_lead=True\n",
    ")\n",
    "junction = make_1d_junction(**junction_geo_params)"
   ]
  },
  {
   "cell_type": "code",
   "execution_count": 54,
   "metadata": {},
   "outputs": [],
   "source": [
    "junction_ham_params = dict(\n",
    "    t_L=100/m,\n",
    "    t_R=100/M,\n",
    "    t_tunnel=100/np.sqrt(m*M),\n",
    "    #t_tunnel=200/(m + M),\n",
    "    mu_L=30,\n",
    "    mu_R=0\n",
    ")"
   ]
  },
  {
   "cell_type": "code",
   "execution_count": 42,
   "metadata": {},
   "outputs": [],
   "source": [
    "T_vs_mu_R = []\n",
    "Tana_vs_mu = []\n",
    "for mu in mu_R_range:\n",
    "    junction_ham_params['mu_L'] = mu\n",
    "    junction_ham_params['mu_R'] = mu\n",
    "    T = get_T(syst=junction, params=junction_ham_params)\n",
    "    T_vs_mu_R.append(T)\n",
    "    \n",
    "    v_L = np.sqrt(mu / m)\n",
    "    v_R = np.sqrt(mu / M)\n",
    "    T_sq_analytic = 4 * v_L * v_R / (v_L + v_R)**2\n",
    "    Tana_vs_mu.append(T_sq_analytic)\n",
    "T_vs_mu_R = np.asarray(T_vs_mu_R)"
   ]
  },
  {
   "cell_type": "code",
   "execution_count": 43,
   "metadata": {},
   "outputs": [
    {
     "data": {
      "image/png": "[encoded data removed]",
      "text/plain": [
       "<Figure size 432x288 with 1 Axes>"
      ]
     },
     "metadata": {
      "needs_background": "light"
     },
     "output_type": "display_data"
    }
   ],
   "source": [
    "plt.figure()\n",
    "# plt.plot(mu_R_range, Tana_vs_mu, 'r', linewidth=2)\n",
    "# plt.plot(mu_R_range, np.ones(len(mu_R_range)), 'k--')\n",
    "# plt.plot(mu_R_range, T_vs_mu_R, marker='o', markersize=2)\n",
    "plt.plot(mu_R_range, np.asarray(Tana_vs_mu) - T_vs_mu_R, '.-')\n",
    "plt.xlabel('mu in right lead(meV)')\n",
    "# plt.xlim([0, 5])\n",
    "# plt.ylabel('T')\n",
    "# plt.ylim([0.9, 1.1])\n",
    "plt.show()"
   ]
  },
  {
   "cell_type": "code",
   "execution_count": 259,
   "metadata": {},
   "outputs": [
    {
     "name": "stdout",
     "output_type": "stream",
     "text": [
      "2\n"
     ]
    }
   ],
   "source": [
    "n = np.argmax(np.asarray(T_vs_mu_R))\n",
    "print(n)"
   ]
  },
  {
   "cell_type": "code",
   "execution_count": 42,
   "metadata": {},
   "outputs": [
    {
     "data": {
      "text/plain": [
       "0.9954558210946814"
      ]
     },
     "execution_count": 42,
     "metadata": {},
     "output_type": "execute_result"
    }
   ],
   "source": [
    "T_vs_mu_R[12]"
   ]
  },
  {
   "cell_type": "code",
   "execution_count": 44,
   "metadata": {},
   "outputs": [
    {
     "data": {
      "text/plain": [
       "3.0303030303030303"
      ]
     },
     "execution_count": 44,
     "metadata": {},
     "output_type": "execute_result"
    }
   ],
   "source": [
    "mu_R_range[n-1]"
   ]
  },
  {
   "cell_type": "code",
   "execution_count": 24,
   "metadata": {},
   "outputs": [
    {
     "data": {
      "text/plain": [
       "3.605551275463989"
      ]
     },
     "execution_count": 24,
     "metadata": {},
     "output_type": "execute_result"
    }
   ],
   "source": [
    "np.sqrt(13/1)"
   ]
  },
  {
   "cell_type": "code",
   "execution_count": 25,
   "metadata": {},
   "outputs": [
    {
     "data": {
      "text/plain": [
       "3.660601043544625"
      ]
     },
     "execution_count": 25,
     "metadata": {},
     "output_type": "execute_result"
    }
   ],
   "source": [
    "np.sqrt(4.02/0.3)"
   ]
  },
  {
   "cell_type": "code",
   "execution_count": null,
   "metadata": {},
   "outputs": [],
   "source": []
  },
  {
   "cell_type": "code",
   "execution_count": null,
   "metadata": {},
   "outputs": [],
   "source": []
  },
  {
   "cell_type": "code",
   "execution_count": null,
   "metadata": {},
   "outputs": [],
   "source": []
  },
  {
   "cell_type": "markdown",
   "metadata": {},
   "source": [
    "# scan t_tunnel"
   ]
  },
  {
   "cell_type": "code",
   "execution_count": 192,
   "metadata": {},
   "outputs": [],
   "source": []
  },
  {
   "cell_type": "code",
   "execution_count": null,
   "metadata": {},
   "outputs": [],
   "source": []
  },
  {
   "cell_type": "markdown",
   "metadata": {},
   "source": [
    "## A. analytics"
   ]
  },
  {
   "cell_type": "code",
   "execution_count": 19,
   "metadata": {},
   "outputs": [],
   "source": [
    "m = 1\n",
    "M = 0.5\n",
    "mu_L = 30\n",
    "v_L = np.sqrt(mu_L / m)\n",
    "mu_R = 30\n",
    "v_R = np.sqrt(mu_R / M)\n",
    "T_sq_analytic = 4 * v_L * v_R / (v_L + v_R)**2"
   ]
  },
  {
   "cell_type": "code",
   "execution_count": 20,
   "metadata": {},
   "outputs": [
    {
     "name": "stdout",
     "output_type": "stream",
     "text": [
      "0.9705627484771407\n"
     ]
    }
   ],
   "source": [
    "print(T_sq_analytic)"
   ]
  },
  {
   "cell_type": "code",
   "execution_count": 21,
   "metadata": {},
   "outputs": [
    {
     "data": {
      "text/plain": [
       "0.029437251522859254"
      ]
     },
     "execution_count": 21,
     "metadata": {},
     "output_type": "execute_result"
    }
   ],
   "source": [
    "1 - 0.9705627484771407"
   ]
  },
  {
   "cell_type": "code",
   "execution_count": null,
   "metadata": {},
   "outputs": [],
   "source": []
  },
  {
   "cell_type": "markdown",
   "metadata": {},
   "source": [
    "## B. numerics"
   ]
  },
  {
   "cell_type": "code",
   "execution_count": 22,
   "metadata": {},
   "outputs": [],
   "source": [
    "junction_ham_params = dict(\n",
    "    t_L=100/m,\n",
    "    t_R=100/M,\n",
    "    t_tunnel=100/1,\n",
    "    mu_L=30,\n",
    "    mu_R=15\n",
    ")"
   ]
  },
  {
   "cell_type": "code",
   "execution_count": 75,
   "metadata": {},
   "outputs": [
    {
     "data": {
      "text/plain": [
       "316.2277660168379"
      ]
     },
     "execution_count": 75,
     "metadata": {},
     "output_type": "execute_result"
    }
   ],
   "source": [
    "100 / np.sqrt(m * M)"
   ]
  },
  {
   "cell_type": "code",
   "execution_count": 76,
   "metadata": {},
   "outputs": [
    {
     "data": {
      "text/plain": [
       "181.8181818181818"
      ]
     },
     "execution_count": 76,
     "metadata": {},
     "output_type": "execute_result"
    }
   ],
   "source": [
    "200 / (m + M)"
   ]
  },
  {
   "cell_type": "code",
   "execution_count": null,
   "metadata": {},
   "outputs": [],
   "source": []
  },
  {
   "cell_type": "code",
   "execution_count": 23,
   "metadata": {},
   "outputs": [],
   "source": [
    "t_tunnel_range = np.linspace(0, 1000, 200)"
   ]
  },
  {
   "cell_type": "code",
   "execution_count": 24,
   "metadata": {},
   "outputs": [],
   "source": [
    "T_vs_t_tunnel = []\n",
    "for junction_ham_params['t_tunnel'] in t_tunnel_range:\n",
    "    T = get_T(syst=junction, params=junction_ham_params)\n",
    "    T_vs_t_tunnel.append(T)\n",
    "T_vs_t_tunnel = np.asarray(T_vs_t_tunnel)"
   ]
  },
  {
   "cell_type": "code",
   "execution_count": 25,
   "metadata": {},
   "outputs": [
    {
     "data": {
      "image/png": "[encoded data removed]",
      "text/plain": [
       "<Figure size 432x288 with 1 Axes>"
      ]
     },
     "metadata": {
      "needs_background": "light"
     },
     "output_type": "display_data"
    }
   ],
   "source": [
    "plt.figure()\n",
    "plt.plot(t_tunnel_range, T_sq_analytic*np.ones(len(t_tunnel_range)), 'b')\n",
    "plt.plot(t_tunnel_range, np.ones(len(t_tunnel_range)), 'r--')\n",
    "plt.plot(t_tunnel_range, T_vs_t_tunnel, marker='o', markersize=2)\n",
    "plt.xlabel('tunnel amplitude(meV)')\n",
    "plt.xlim([0, 1000])\n",
    "plt.ylabel('T')\n",
    "plt.ylim([0, 1.1])\n",
    "plt.show()"
   ]
  },
  {
   "cell_type": "code",
   "execution_count": 80,
   "metadata": {},
   "outputs": [
    {
     "data": {
      "text/plain": [
       "316.58291457286435"
      ]
     },
     "execution_count": 80,
     "metadata": {},
     "output_type": "execute_result"
    }
   ],
   "source": [
    "n = np.argmin(abs(T_vs_t_tunnel - T_sq_analytic))\n",
    "t_tunnel_range[n]"
   ]
  },
  {
   "cell_type": "code",
   "execution_count": null,
   "metadata": {},
   "outputs": [],
   "source": []
  },
  {
   "cell_type": "code",
   "execution_count": 270,
   "metadata": {},
   "outputs": [
    {
     "data": {
      "text/plain": [
       "519615.2422706632"
      ]
     },
     "execution_count": 270,
     "metadata": {},
     "output_type": "execute_result"
    }
   ],
   "source": [
    "40**2 * np.sqrt(3) / 4 * 6 * 1000 / 2**3"
   ]
  },
  {
   "cell_type": "code",
   "execution_count": null,
   "metadata": {},
   "outputs": [],
   "source": []
  },
  {
   "cell_type": "markdown",
   "metadata": {},
   "source": [
    "# different m, different a"
   ]
  },
  {
   "cell_type": "code",
   "execution_count": 262,
   "metadata": {},
   "outputs": [],
   "source": [
    "def make_1d_junction_diffa(a=10, d=50, add_left_lead=True, add_right_lead=True):\n",
    "    lat = kwant.lattice.chain(a)\n",
    "    syst = kwant.Builder()\n",
    "    \n",
    "    def shape_junction(pos):\n",
    "        x = pos[0]\n",
    "        return -d <= x <= d\n",
    "    def onsite(site, t1, t2, t_L, t_R, mu_L, mu_R):\n",
    "        x = site.pos[0]\n",
    "        if x < -15:\n",
    "            return 2 * t_L - mu_L\n",
    "        elif x > 15:\n",
    "            return 2 * t_R - mu_R\n",
    "        elif x == -10:\n",
    "            return t_L + t1 - mu_L\n",
    "        elif x == 0:\n",
    "            return t1 + t2 - mu_L\n",
    "        elif x == 10:\n",
    "            return t2 + t_R - mu_R\n",
    "        \n",
    "    def hopping(site1, site2, t1, t2, t_L, t_R):\n",
    "        x1 = site1.pos[0]\n",
    "        x2 = site2.pos[0]\n",
    "        if x1 > 5 and x2 > 5:\n",
    "            return -t_R\n",
    "        elif x1 < -5 and x2 < -5:\n",
    "            return -t_L\n",
    "        elif (x1 == 0 and x2 == -10) or (x1 == -10 and x2 == 0):\n",
    "            return -t1\n",
    "        elif (x1 == 10 and x2 == 0) or (x1 == 0 and x2 == 10):\n",
    "            return -t2\n",
    "        \n",
    "    def onsite_left_lead(site, t_L, mu_L):\n",
    "        return 2 * t_L - mu_L\n",
    "    def hopping_left_lead(site1, site2, t_L):\n",
    "        return -t_L\n",
    "    \n",
    "    def onsite_right_lead(site, t_R, mu_R):\n",
    "        return 2 * t_R - mu_R\n",
    "    def hopping_right_lead(site1, site2, t_R):\n",
    "        return -t_R\n",
    "        \n",
    "    \n",
    "    syst[lat.shape(shape_junction, [0])] = onsite\n",
    "    syst[lat.neighbors()] = hopping\n",
    "    \n",
    "    \n",
    "    if add_left_lead is True:\n",
    "        sym_left_lead = kwant.TranslationalSymmetry([-a])\n",
    "        left_lead = kwant.Builder(sym_left_lead)\n",
    "        left_lead[lat(-3)] = onsite_left_lead\n",
    "        left_lead[lat.neighbors()] = hopping_left_lead\n",
    "        syst.attach_lead(left_lead)\n",
    "    \n",
    "    if add_right_lead is True:\n",
    "        sym_right_lead = kwant.TranslationalSymmetry([a])\n",
    "        right_lead = kwant.Builder(sym_right_lead)\n",
    "        right_lead[lat(3)] = onsite_right_lead\n",
    "        right_lead[lat.neighbors()] = hopping_right_lead\n",
    "        syst.attach_lead(right_lead)\n",
    "    return syst.finalized()"
   ]
  },
  {
   "cell_type": "code",
   "execution_count": 263,
   "metadata": {},
   "outputs": [],
   "source": [
    "junction_geo_params = dict(\n",
    "    a=10,\n",
    "    d=50,\n",
    "    add_left_lead=True,\n",
    "    add_right_lead=True\n",
    ")\n",
    "junction_a = make_1d_junction_diffa(**junction_geo_params)"
   ]
  },
  {
   "cell_type": "code",
   "execution_count": 264,
   "metadata": {},
   "outputs": [
    {
     "data": {
      "image/png": "[encoded data removed]",
      "text/plain": [
       "<Figure size 432x288 with 1 Axes>"
      ]
     },
     "metadata": {
      "needs_background": "light"
     },
     "output_type": "display_data"
    }
   ],
   "source": [
    "kwant.plot(junction_a)\n",
    "plt.show()"
   ]
  },
  {
   "cell_type": "code",
   "execution_count": 265,
   "metadata": {},
   "outputs": [],
   "source": [
    "a_L = 1\n",
    "a_R = 0.3\n",
    "a_avg = (a_L * a_R) / 2\n",
    "m_avg = np.sqrt(m*M)\n",
    "junction_a_ham_params = dict(\n",
    "    t_L=100 / (m * a_L**2),\n",
    "    t_R=100 / (M * a_R**2),\n",
    "    t1=100 / (m * a_avg * a_L),\n",
    "    t2=100/ (m_avg * a_avg * a_R),\n",
    "    mu_L=30,\n",
    "    mu_R=0\n",
    ")"
   ]
  },
  {
   "cell_type": "code",
   "execution_count": 266,
   "metadata": {},
   "outputs": [],
   "source": [
    "T_vs_mu_R = []\n",
    "for junction_a_ham_params['mu_R'] in mu_R_range:\n",
    "    T = get_T(syst=junction_a, params=junction_a_ham_params)\n",
    "    T_vs_mu_R.append(T)\n",
    "T_vs_mu_R = np.asarray(T_vs_mu_R)"
   ]
  },
  {
   "cell_type": "code",
   "execution_count": null,
   "metadata": {},
   "outputs": [],
   "source": []
  },
  {
   "cell_type": "code",
   "execution_count": 267,
   "metadata": {},
   "outputs": [
    {
     "data": {
      "image/png": "[encoded data removed]",
      "text/plain": [
       "<Figure size 432x288 with 1 Axes>"
      ]
     },
     "metadata": {
      "needs_background": "light"
     },
     "output_type": "display_data"
    }
   ],
   "source": [
    "plt.figure()\n",
    "plt.plot(mu_R_range, T_sq_analytic, 'r', linewidth=2)\n",
    "plt.plot(mu_R_range, np.ones(len(mu_R_range)), 'k--')\n",
    "plt.plot(mu_R_range, T_vs_mu_R, marker='o', markersize=2)\n",
    "plt.xlabel('mu in right lead(meV)')\n",
    "plt.xlim([0, max(mu_R_range)])\n",
    "plt.ylabel('T')\n",
    "plt.ylim([0, 1.1])\n",
    "plt.show()"
   ]
  },
  {
   "cell_type": "code",
   "execution_count": null,
   "metadata": {},
   "outputs": [],
   "source": []
  },
  {
   "cell_type": "code",
   "execution_count": null,
   "metadata": {},
   "outputs": [],
   "source": []
  },
  {
   "cell_type": "code",
   "execution_count": null,
   "metadata": {},
   "outputs": [],
   "source": []
  },
  {
   "cell_type": "code",
   "execution_count": null,
   "metadata": {},
   "outputs": [],
   "source": []
  },
  {
   "cell_type": "code",
   "execution_count": null,
   "metadata": {},
   "outputs": [],
   "source": []
  },
  {
   "cell_type": "code",
   "execution_count": null,
   "metadata": {},
   "outputs": [],
   "source": []
  },
  {
   "cell_type": "code",
   "execution_count": null,
   "metadata": {},
   "outputs": [],
   "source": []
  },
  {
   "cell_type": "code",
   "execution_count": null,
   "metadata": {},
   "outputs": [],
   "source": []
  },
  {
   "cell_type": "code",
   "execution_count": null,
   "metadata": {},
   "outputs": [],
   "source": []
  },
  {
   "cell_type": "code",
   "execution_count": null,
   "metadata": {},
   "outputs": [],
   "source": []
  },
  {
   "cell_type": "code",
   "execution_count": null,
   "metadata": {},
   "outputs": [],
   "source": []
  },
  {
   "cell_type": "code",
   "execution_count": null,
   "metadata": {},
   "outputs": [],
   "source": []
  }
 ],
 "metadata": {
  "kernelspec": {
   "display_name": "Python 3",
   "language": "python",
   "name": "python3"
  },
  "language_info": {
   "codemirror_mode": {
    "name": "ipython",
    "version": 3
   },
   "file_extension": ".py",
   "mimetype": "text/x-python",
   "name": "python",
   "nbconvert_exporter": "python",
   "pygments_lexer": "ipython3",
   "version": "3.8.5"
  }
 },
 "nbformat": 4,
 "nbformat_minor": 4
}
